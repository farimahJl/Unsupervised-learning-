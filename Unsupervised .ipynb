{
 "cells": [
  {
   "cell_type": "markdown",
   "id": "494dabf8",
   "metadata": {},
   "source": [
    "\n",
    "# Primates Morphology\n",
    "\n",
    "\n",
    "\n",
    " Using unsupervised machine learning methods to separate the groups belonging to different species.\n",
    "\n",
    "The file primates-morphology.csv contains coordinates derived from markers of skull features from various species of primates. \n",
    "### Dataset: primates-morphology"
   ]
  },
  {
   "cell_type": "markdown",
   "id": "c509895e",
   "metadata": {},
   "source": [
    "## Imports"
   ]
  },
  {
   "cell_type": "code",
   "execution_count": 47,
   "id": "62edc455",
   "metadata": {},
   "outputs": [],
   "source": [
    "import numpy as np, pandas as pd, seaborn as sns, matplotlib.pyplot as plt\n",
    "from sklearn.decomposition import PCA\n",
    "from sklearn.preprocessing import scale\n",
    "from sklearn.cluster import KMeans\n",
    "from sklearn.datasets import make_blobs\n",
    "from sklearn.utils import shuffle\n",
    "from sklearn.cluster import AgglomerativeClustering  \n",
    "import matplotlib.colors as mcolors\n",
    "import pandas as pd\n",
    "import numpy as np\n",
    "import multiprocessing as mp \n",
    "import plotly.express as px\n"
   ]
  },
  {
   "cell_type": "markdown",
   "id": "6625c3d4",
   "metadata": {},
   "source": [
    "## Loading the data file"
   ]
  },
  {
   "cell_type": "code",
   "execution_count": 48,
   "id": "4f86c8cf",
   "metadata": {},
   "outputs": [
    {
     "data": {
      "text/html": [
       "<div>\n",
       "<style scoped>\n",
       "    .dataframe tbody tr th:only-of-type {\n",
       "        vertical-align: middle;\n",
       "    }\n",
       "\n",
       "    .dataframe tbody tr th {\n",
       "        vertical-align: top;\n",
       "    }\n",
       "\n",
       "    .dataframe thead th {\n",
       "        text-align: right;\n",
       "    }\n",
       "</style>\n",
       "<table border=\"1\" class=\"dataframe\">\n",
       "  <thead>\n",
       "    <tr style=\"text-align: right;\">\n",
       "      <th></th>\n",
       "      <th>Unnamed: 0</th>\n",
       "      <th>0</th>\n",
       "      <th>1</th>\n",
       "      <th>2</th>\n",
       "      <th>3</th>\n",
       "      <th>4</th>\n",
       "      <th>5</th>\n",
       "      <th>6</th>\n",
       "      <th>7</th>\n",
       "      <th>8</th>\n",
       "      <th>...</th>\n",
       "      <th>25</th>\n",
       "      <th>26</th>\n",
       "      <th>27</th>\n",
       "      <th>28</th>\n",
       "      <th>29</th>\n",
       "      <th>Abbreviation</th>\n",
       "      <th>Genus</th>\n",
       "      <th>Species</th>\n",
       "      <th>Sex</th>\n",
       "      <th>Age</th>\n",
       "    </tr>\n",
       "  </thead>\n",
       "  <tbody>\n",
       "    <tr>\n",
       "      <th>0</th>\n",
       "      <td>37773</td>\n",
       "      <td>133.426742</td>\n",
       "      <td>-101.627603</td>\n",
       "      <td>21.125902</td>\n",
       "      <td>-11.518251</td>\n",
       "      <td>4.621089</td>\n",
       "      <td>-1.519551</td>\n",
       "      <td>0.583410</td>\n",
       "      <td>-7.182875</td>\n",
       "      <td>1.410030</td>\n",
       "      <td>...</td>\n",
       "      <td>-0.301822</td>\n",
       "      <td>-0.433051</td>\n",
       "      <td>0.037651</td>\n",
       "      <td>-0.279618</td>\n",
       "      <td>-0.421040</td>\n",
       "      <td>Ph</td>\n",
       "      <td>Presbytis</td>\n",
       "      <td>hosei</td>\n",
       "      <td>U</td>\n",
       "      <td>A</td>\n",
       "    </tr>\n",
       "    <tr>\n",
       "      <th>1</th>\n",
       "      <td>37772</td>\n",
       "      <td>145.344740</td>\n",
       "      <td>-108.229812</td>\n",
       "      <td>21.121390</td>\n",
       "      <td>-14.982879</td>\n",
       "      <td>2.299335</td>\n",
       "      <td>-2.354040</td>\n",
       "      <td>0.431199</td>\n",
       "      <td>-5.266930</td>\n",
       "      <td>-1.424469</td>\n",
       "      <td>...</td>\n",
       "      <td>0.215340</td>\n",
       "      <td>-0.299550</td>\n",
       "      <td>0.709472</td>\n",
       "      <td>0.876382</td>\n",
       "      <td>-0.150133</td>\n",
       "      <td>Ph</td>\n",
       "      <td>Presbytis</td>\n",
       "      <td>hosei</td>\n",
       "      <td>F</td>\n",
       "      <td>A</td>\n",
       "    </tr>\n",
       "    <tr>\n",
       "      <th>2</th>\n",
       "      <td>22276</td>\n",
       "      <td>137.773342</td>\n",
       "      <td>-107.162743</td>\n",
       "      <td>18.232497</td>\n",
       "      <td>-17.116294</td>\n",
       "      <td>3.016809</td>\n",
       "      <td>-5.295234</td>\n",
       "      <td>1.716895</td>\n",
       "      <td>-1.668914</td>\n",
       "      <td>-1.917478</td>\n",
       "      <td>...</td>\n",
       "      <td>-0.481468</td>\n",
       "      <td>-0.243025</td>\n",
       "      <td>-0.537644</td>\n",
       "      <td>-0.140292</td>\n",
       "      <td>0.082158</td>\n",
       "      <td>Pr</td>\n",
       "      <td>Presbytis</td>\n",
       "      <td>rubicunda</td>\n",
       "      <td>U</td>\n",
       "      <td>A</td>\n",
       "    </tr>\n",
       "    <tr>\n",
       "      <th>3</th>\n",
       "      <td>37776</td>\n",
       "      <td>141.523739</td>\n",
       "      <td>-107.436626</td>\n",
       "      <td>17.448083</td>\n",
       "      <td>-16.861469</td>\n",
       "      <td>3.382894</td>\n",
       "      <td>-1.071286</td>\n",
       "      <td>1.768891</td>\n",
       "      <td>-2.735232</td>\n",
       "      <td>-1.136700</td>\n",
       "      <td>...</td>\n",
       "      <td>0.586941</td>\n",
       "      <td>-0.043639</td>\n",
       "      <td>-0.518699</td>\n",
       "      <td>-1.051100</td>\n",
       "      <td>0.542354</td>\n",
       "      <td>Pr</td>\n",
       "      <td>Presbytis</td>\n",
       "      <td>rubicunda</td>\n",
       "      <td>M</td>\n",
       "      <td>A</td>\n",
       "    </tr>\n",
       "    <tr>\n",
       "      <th>4</th>\n",
       "      <td>37777</td>\n",
       "      <td>142.357906</td>\n",
       "      <td>-97.195294</td>\n",
       "      <td>10.511391</td>\n",
       "      <td>-6.520641</td>\n",
       "      <td>3.555506</td>\n",
       "      <td>1.652390</td>\n",
       "      <td>-0.655919</td>\n",
       "      <td>-5.373075</td>\n",
       "      <td>-1.466841</td>\n",
       "      <td>...</td>\n",
       "      <td>0.653851</td>\n",
       "      <td>0.718319</td>\n",
       "      <td>0.798722</td>\n",
       "      <td>-0.396749</td>\n",
       "      <td>0.844772</td>\n",
       "      <td>Pr</td>\n",
       "      <td>Presbytis</td>\n",
       "      <td>rubicunda</td>\n",
       "      <td>F</td>\n",
       "      <td>A</td>\n",
       "    </tr>\n",
       "  </tbody>\n",
       "</table>\n",
       "<p>5 rows × 36 columns</p>\n",
       "</div>"
      ],
      "text/plain": [
       "   Unnamed: 0           0           1          2          3         4  \\\n",
       "0       37773  133.426742 -101.627603  21.125902 -11.518251  4.621089   \n",
       "1       37772  145.344740 -108.229812  21.121390 -14.982879  2.299335   \n",
       "2       22276  137.773342 -107.162743  18.232497 -17.116294  3.016809   \n",
       "3       37776  141.523739 -107.436626  17.448083 -16.861469  3.382894   \n",
       "4       37777  142.357906  -97.195294  10.511391  -6.520641  3.555506   \n",
       "\n",
       "          5         6         7         8  ...        25        26        27  \\\n",
       "0 -1.519551  0.583410 -7.182875  1.410030  ... -0.301822 -0.433051  0.037651   \n",
       "1 -2.354040  0.431199 -5.266930 -1.424469  ...  0.215340 -0.299550  0.709472   \n",
       "2 -5.295234  1.716895 -1.668914 -1.917478  ... -0.481468 -0.243025 -0.537644   \n",
       "3 -1.071286  1.768891 -2.735232 -1.136700  ...  0.586941 -0.043639 -0.518699   \n",
       "4  1.652390 -0.655919 -5.373075 -1.466841  ...  0.653851  0.718319  0.798722   \n",
       "\n",
       "         28        29  Abbreviation      Genus    Species  Sex  Age  \n",
       "0 -0.279618 -0.421040            Ph  Presbytis      hosei    U    A  \n",
       "1  0.876382 -0.150133            Ph  Presbytis      hosei    F    A  \n",
       "2 -0.140292  0.082158            Pr  Presbytis  rubicunda    U    A  \n",
       "3 -1.051100  0.542354            Pr  Presbytis  rubicunda    M    A  \n",
       "4 -0.396749  0.844772            Pr  Presbytis  rubicunda    F    A  \n",
       "\n",
       "[5 rows x 36 columns]"
      ]
     },
     "execution_count": 48,
     "metadata": {},
     "output_type": "execute_result"
    }
   ],
   "source": [
    "# Read the data file\n",
    "df = pd.read_csv('primates-morphology.csv')\n",
    "df.head()"
   ]
  },
  {
   "cell_type": "code",
   "execution_count": 49,
   "id": "f524ec83",
   "metadata": {},
   "outputs": [
    {
     "name": "stdout",
     "output_type": "stream",
     "text": [
      "<class 'pandas.core.frame.DataFrame'>\n",
      "RangeIndex: 165 entries, 0 to 164\n",
      "Data columns (total 36 columns):\n",
      " #   Column        Non-Null Count  Dtype  \n",
      "---  ------        --------------  -----  \n",
      " 0   Unnamed: 0    165 non-null    int64  \n",
      " 1   0             165 non-null    float64\n",
      " 2   1             165 non-null    float64\n",
      " 3   2             165 non-null    float64\n",
      " 4   3             165 non-null    float64\n",
      " 5   4             165 non-null    float64\n",
      " 6   5             165 non-null    float64\n",
      " 7   6             165 non-null    float64\n",
      " 8   7             165 non-null    float64\n",
      " 9   8             165 non-null    float64\n",
      " 10  9             165 non-null    float64\n",
      " 11  10            165 non-null    float64\n",
      " 12  11            165 non-null    float64\n",
      " 13  12            165 non-null    float64\n",
      " 14  13            165 non-null    float64\n",
      " 15  14            165 non-null    float64\n",
      " 16  15            165 non-null    float64\n",
      " 17  16            165 non-null    float64\n",
      " 18  17            165 non-null    float64\n",
      " 19  18            165 non-null    float64\n",
      " 20  19            165 non-null    float64\n",
      " 21  20            165 non-null    float64\n",
      " 22  21            165 non-null    float64\n",
      " 23  22            165 non-null    float64\n",
      " 24  23            165 non-null    float64\n",
      " 25  24            165 non-null    float64\n",
      " 26  25            165 non-null    float64\n",
      " 27  26            165 non-null    float64\n",
      " 28  27            165 non-null    float64\n",
      " 29  28            165 non-null    float64\n",
      " 30  29            165 non-null    float64\n",
      " 31  Abbreviation  165 non-null    object \n",
      " 32  Genus         165 non-null    object \n",
      " 33  Species       165 non-null    object \n",
      " 34  Sex           165 non-null    object \n",
      " 35  Age           165 non-null    object \n",
      "dtypes: float64(30), int64(1), object(5)\n",
      "memory usage: 46.5+ KB\n"
     ]
    }
   ],
   "source": [
    "df.info()"
   ]
  },
  {
   "cell_type": "markdown",
   "id": "33b91d74",
   "metadata": {},
   "source": [
    "##### Getting an idea of the size of the data\n"
   ]
  },
  {
   "cell_type": "code",
   "execution_count": 50,
   "id": "696752d3",
   "metadata": {},
   "outputs": [
    {
     "data": {
      "text/plain": [
       "(165, 36)"
      ]
     },
     "execution_count": 50,
     "metadata": {},
     "output_type": "execute_result"
    }
   ],
   "source": [
    "df.shape"
   ]
  },
  {
   "cell_type": "markdown",
   "id": "e967cc5d",
   "metadata": {},
   "source": [
    "##### Checking for null values"
   ]
  },
  {
   "cell_type": "code",
   "execution_count": 51,
   "id": "456935fa",
   "metadata": {},
   "outputs": [
    {
     "data": {
      "text/plain": [
       "Unnamed: 0      0\n",
       "0               0\n",
       "1               0\n",
       "2               0\n",
       "3               0\n",
       "4               0\n",
       "5               0\n",
       "6               0\n",
       "7               0\n",
       "8               0\n",
       "9               0\n",
       "10              0\n",
       "11              0\n",
       "12              0\n",
       "13              0\n",
       "14              0\n",
       "15              0\n",
       "16              0\n",
       "17              0\n",
       "18              0\n",
       "19              0\n",
       "20              0\n",
       "21              0\n",
       "22              0\n",
       "23              0\n",
       "24              0\n",
       "25              0\n",
       "26              0\n",
       "27              0\n",
       "28              0\n",
       "29              0\n",
       "Abbreviation    0\n",
       "Genus           0\n",
       "Species         0\n",
       "Sex             0\n",
       "Age             0\n",
       "dtype: int64"
      ]
     },
     "execution_count": 51,
     "metadata": {},
     "output_type": "execute_result"
    }
   ],
   "source": [
    "\n",
    "df.isnull().sum()"
   ]
  },
  {
   "cell_type": "markdown",
   "id": "186c869b",
   "metadata": {},
   "source": [
    "There are no missing values.\n"
   ]
  },
  {
   "cell_type": "markdown",
   "id": "a51782d1",
   "metadata": {},
   "source": [
    "##### Cleaning and modifying the data\n",
    "##### As we need only the coordinates and the Species columns are important. We do not need the rest."
   ]
  },
  {
   "cell_type": "code",
   "execution_count": 52,
   "id": "694b61e7",
   "metadata": {},
   "outputs": [],
   "source": [
    "\n",
    "df= df.drop(['Unnamed: 0','Abbreviation','Genus','Sex','Age'],axis = 1)"
   ]
  },
  {
   "cell_type": "code",
   "execution_count": 53,
   "id": "d6b5112a",
   "metadata": {
    "scrolled": true
   },
   "outputs": [
    {
     "data": {
      "text/html": [
       "<div>\n",
       "<style scoped>\n",
       "    .dataframe tbody tr th:only-of-type {\n",
       "        vertical-align: middle;\n",
       "    }\n",
       "\n",
       "    .dataframe tbody tr th {\n",
       "        vertical-align: top;\n",
       "    }\n",
       "\n",
       "    .dataframe thead th {\n",
       "        text-align: right;\n",
       "    }\n",
       "</style>\n",
       "<table border=\"1\" class=\"dataframe\">\n",
       "  <thead>\n",
       "    <tr style=\"text-align: right;\">\n",
       "      <th></th>\n",
       "      <th>0</th>\n",
       "      <th>1</th>\n",
       "      <th>2</th>\n",
       "      <th>3</th>\n",
       "      <th>4</th>\n",
       "      <th>5</th>\n",
       "      <th>6</th>\n",
       "      <th>7</th>\n",
       "      <th>8</th>\n",
       "      <th>9</th>\n",
       "      <th>...</th>\n",
       "      <th>21</th>\n",
       "      <th>22</th>\n",
       "      <th>23</th>\n",
       "      <th>24</th>\n",
       "      <th>25</th>\n",
       "      <th>26</th>\n",
       "      <th>27</th>\n",
       "      <th>28</th>\n",
       "      <th>29</th>\n",
       "      <th>Species</th>\n",
       "    </tr>\n",
       "  </thead>\n",
       "  <tbody>\n",
       "    <tr>\n",
       "      <th>0</th>\n",
       "      <td>133.426742</td>\n",
       "      <td>-101.627603</td>\n",
       "      <td>21.125902</td>\n",
       "      <td>-11.518251</td>\n",
       "      <td>4.621089</td>\n",
       "      <td>-1.519551</td>\n",
       "      <td>0.583410</td>\n",
       "      <td>-7.182875</td>\n",
       "      <td>1.410030</td>\n",
       "      <td>0.216411</td>\n",
       "      <td>...</td>\n",
       "      <td>-0.406979</td>\n",
       "      <td>0.607499</td>\n",
       "      <td>-1.309488</td>\n",
       "      <td>1.555190</td>\n",
       "      <td>-0.301822</td>\n",
       "      <td>-0.433051</td>\n",
       "      <td>0.037651</td>\n",
       "      <td>-0.279618</td>\n",
       "      <td>-0.421040</td>\n",
       "      <td>hosei</td>\n",
       "    </tr>\n",
       "    <tr>\n",
       "      <th>1</th>\n",
       "      <td>145.344740</td>\n",
       "      <td>-108.229812</td>\n",
       "      <td>21.121390</td>\n",
       "      <td>-14.982879</td>\n",
       "      <td>2.299335</td>\n",
       "      <td>-2.354040</td>\n",
       "      <td>0.431199</td>\n",
       "      <td>-5.266930</td>\n",
       "      <td>-1.424469</td>\n",
       "      <td>-1.451953</td>\n",
       "      <td>...</td>\n",
       "      <td>-0.569739</td>\n",
       "      <td>0.669346</td>\n",
       "      <td>-0.805954</td>\n",
       "      <td>1.583042</td>\n",
       "      <td>0.215340</td>\n",
       "      <td>-0.299550</td>\n",
       "      <td>0.709472</td>\n",
       "      <td>0.876382</td>\n",
       "      <td>-0.150133</td>\n",
       "      <td>hosei</td>\n",
       "    </tr>\n",
       "    <tr>\n",
       "      <th>2</th>\n",
       "      <td>137.773342</td>\n",
       "      <td>-107.162743</td>\n",
       "      <td>18.232497</td>\n",
       "      <td>-17.116294</td>\n",
       "      <td>3.016809</td>\n",
       "      <td>-5.295234</td>\n",
       "      <td>1.716895</td>\n",
       "      <td>-1.668914</td>\n",
       "      <td>-1.917478</td>\n",
       "      <td>0.601120</td>\n",
       "      <td>...</td>\n",
       "      <td>1.715016</td>\n",
       "      <td>1.269193</td>\n",
       "      <td>-0.397373</td>\n",
       "      <td>-0.813108</td>\n",
       "      <td>-0.481468</td>\n",
       "      <td>-0.243025</td>\n",
       "      <td>-0.537644</td>\n",
       "      <td>-0.140292</td>\n",
       "      <td>0.082158</td>\n",
       "      <td>rubicunda</td>\n",
       "    </tr>\n",
       "    <tr>\n",
       "      <th>3</th>\n",
       "      <td>141.523739</td>\n",
       "      <td>-107.436626</td>\n",
       "      <td>17.448083</td>\n",
       "      <td>-16.861469</td>\n",
       "      <td>3.382894</td>\n",
       "      <td>-1.071286</td>\n",
       "      <td>1.768891</td>\n",
       "      <td>-2.735232</td>\n",
       "      <td>-1.136700</td>\n",
       "      <td>-2.706925</td>\n",
       "      <td>...</td>\n",
       "      <td>0.972070</td>\n",
       "      <td>-0.066568</td>\n",
       "      <td>0.001964</td>\n",
       "      <td>0.656327</td>\n",
       "      <td>0.586941</td>\n",
       "      <td>-0.043639</td>\n",
       "      <td>-0.518699</td>\n",
       "      <td>-1.051100</td>\n",
       "      <td>0.542354</td>\n",
       "      <td>rubicunda</td>\n",
       "    </tr>\n",
       "    <tr>\n",
       "      <th>4</th>\n",
       "      <td>142.357906</td>\n",
       "      <td>-97.195294</td>\n",
       "      <td>10.511391</td>\n",
       "      <td>-6.520641</td>\n",
       "      <td>3.555506</td>\n",
       "      <td>1.652390</td>\n",
       "      <td>-0.655919</td>\n",
       "      <td>-5.373075</td>\n",
       "      <td>-1.466841</td>\n",
       "      <td>-2.626544</td>\n",
       "      <td>...</td>\n",
       "      <td>-0.174675</td>\n",
       "      <td>0.368314</td>\n",
       "      <td>-0.700708</td>\n",
       "      <td>-0.450873</td>\n",
       "      <td>0.653851</td>\n",
       "      <td>0.718319</td>\n",
       "      <td>0.798722</td>\n",
       "      <td>-0.396749</td>\n",
       "      <td>0.844772</td>\n",
       "      <td>rubicunda</td>\n",
       "    </tr>\n",
       "  </tbody>\n",
       "</table>\n",
       "<p>5 rows × 31 columns</p>\n",
       "</div>"
      ],
      "text/plain": [
       "            0           1          2          3         4         5         6  \\\n",
       "0  133.426742 -101.627603  21.125902 -11.518251  4.621089 -1.519551  0.583410   \n",
       "1  145.344740 -108.229812  21.121390 -14.982879  2.299335 -2.354040  0.431199   \n",
       "2  137.773342 -107.162743  18.232497 -17.116294  3.016809 -5.295234  1.716895   \n",
       "3  141.523739 -107.436626  17.448083 -16.861469  3.382894 -1.071286  1.768891   \n",
       "4  142.357906  -97.195294  10.511391  -6.520641  3.555506  1.652390 -0.655919   \n",
       "\n",
       "          7         8         9  ...        21        22        23        24  \\\n",
       "0 -7.182875  1.410030  0.216411  ... -0.406979  0.607499 -1.309488  1.555190   \n",
       "1 -5.266930 -1.424469 -1.451953  ... -0.569739  0.669346 -0.805954  1.583042   \n",
       "2 -1.668914 -1.917478  0.601120  ...  1.715016  1.269193 -0.397373 -0.813108   \n",
       "3 -2.735232 -1.136700 -2.706925  ...  0.972070 -0.066568  0.001964  0.656327   \n",
       "4 -5.373075 -1.466841 -2.626544  ... -0.174675  0.368314 -0.700708 -0.450873   \n",
       "\n",
       "         25        26        27        28        29    Species  \n",
       "0 -0.301822 -0.433051  0.037651 -0.279618 -0.421040      hosei  \n",
       "1  0.215340 -0.299550  0.709472  0.876382 -0.150133      hosei  \n",
       "2 -0.481468 -0.243025 -0.537644 -0.140292  0.082158  rubicunda  \n",
       "3  0.586941 -0.043639 -0.518699 -1.051100  0.542354  rubicunda  \n",
       "4  0.653851  0.718319  0.798722 -0.396749  0.844772  rubicunda  \n",
       "\n",
       "[5 rows x 31 columns]"
      ]
     },
     "execution_count": 53,
     "metadata": {},
     "output_type": "execute_result"
    }
   ],
   "source": [
    "df.head()"
   ]
  },
  {
   "cell_type": "code",
   "execution_count": 54,
   "id": "d9dd325d",
   "metadata": {},
   "outputs": [],
   "source": [
    "X = df.iloc[:,0:30]\n",
    "y = df['Species']"
   ]
  },
  {
   "cell_type": "markdown",
   "id": "b87a069e",
   "metadata": {},
   "source": [
    "##### Finding the unique elements of our array(spices)"
   ]
  },
  {
   "cell_type": "code",
   "execution_count": 55,
   "id": "7806855d",
   "metadata": {},
   "outputs": [
    {
     "data": {
      "text/plain": [
       "25"
      ]
     },
     "execution_count": 55,
     "metadata": {},
     "output_type": "execute_result"
    }
   ],
   "source": [
    "\n",
    "len(y.unique())"
   ]
  },
  {
   "cell_type": "markdown",
   "id": "480ca51a",
   "metadata": {},
   "source": [
    "\n",
    "In total, there are 25 different species. There is an obvious imbalance in the data. The metrics do not really struggle, so they are still fundamentally clustered."
   ]
  },
  {
   "cell_type": "code",
   "execution_count": 56,
   "id": "a861af37",
   "metadata": {},
   "outputs": [
    {
     "data": {
      "text/plain": [
       "0          float64\n",
       "1          float64\n",
       "2          float64\n",
       "3          float64\n",
       "4          float64\n",
       "5          float64\n",
       "6          float64\n",
       "7          float64\n",
       "8          float64\n",
       "9          float64\n",
       "10         float64\n",
       "11         float64\n",
       "12         float64\n",
       "13         float64\n",
       "14         float64\n",
       "15         float64\n",
       "16         float64\n",
       "17         float64\n",
       "18         float64\n",
       "19         float64\n",
       "20         float64\n",
       "21         float64\n",
       "22         float64\n",
       "23         float64\n",
       "24         float64\n",
       "25         float64\n",
       "26         float64\n",
       "27         float64\n",
       "28         float64\n",
       "29         float64\n",
       "Species     object\n",
       "dtype: object"
      ]
     },
     "execution_count": 56,
     "metadata": {},
     "output_type": "execute_result"
    }
   ],
   "source": [
    "df.dtypes"
   ]
  },
  {
   "cell_type": "markdown",
   "id": "461bc0db",
   "metadata": {},
   "source": [
    "#####  Now we want to Find the pairwise correlation of all columns in the dataframe. "
   ]
  },
  {
   "cell_type": "code",
   "execution_count": 24,
   "id": "4bdb242b",
   "metadata": {
    "scrolled": true
   },
   "outputs": [
    {
     "data": {
      "text/html": [
       "<div>\n",
       "<style scoped>\n",
       "    .dataframe tbody tr th:only-of-type {\n",
       "        vertical-align: middle;\n",
       "    }\n",
       "\n",
       "    .dataframe tbody tr th {\n",
       "        vertical-align: top;\n",
       "    }\n",
       "\n",
       "    .dataframe thead th {\n",
       "        text-align: right;\n",
       "    }\n",
       "</style>\n",
       "<table border=\"1\" class=\"dataframe\">\n",
       "  <thead>\n",
       "    <tr style=\"text-align: right;\">\n",
       "      <th></th>\n",
       "      <th>0</th>\n",
       "      <th>1</th>\n",
       "      <th>2</th>\n",
       "      <th>3</th>\n",
       "      <th>4</th>\n",
       "      <th>5</th>\n",
       "      <th>6</th>\n",
       "      <th>7</th>\n",
       "      <th>8</th>\n",
       "      <th>9</th>\n",
       "      <th>...</th>\n",
       "      <th>20</th>\n",
       "      <th>21</th>\n",
       "      <th>22</th>\n",
       "      <th>23</th>\n",
       "      <th>24</th>\n",
       "      <th>25</th>\n",
       "      <th>26</th>\n",
       "      <th>27</th>\n",
       "      <th>28</th>\n",
       "      <th>29</th>\n",
       "    </tr>\n",
       "  </thead>\n",
       "  <tbody>\n",
       "    <tr>\n",
       "      <th>0</th>\n",
       "      <td>0.000000</td>\n",
       "      <td>-0.041708</td>\n",
       "      <td>0.028695</td>\n",
       "      <td>-0.076057</td>\n",
       "      <td>0.013712</td>\n",
       "      <td>0.052373</td>\n",
       "      <td>0.016908</td>\n",
       "      <td>-0.046053</td>\n",
       "      <td>-0.037217</td>\n",
       "      <td>0.046748</td>\n",
       "      <td>...</td>\n",
       "      <td>-0.028925</td>\n",
       "      <td>0.030022</td>\n",
       "      <td>0.024708</td>\n",
       "      <td>-0.024955</td>\n",
       "      <td>0.002520</td>\n",
       "      <td>0.019881</td>\n",
       "      <td>-0.018560</td>\n",
       "      <td>0.057024</td>\n",
       "      <td>-0.025943</td>\n",
       "      <td>0.032286</td>\n",
       "    </tr>\n",
       "    <tr>\n",
       "      <th>1</th>\n",
       "      <td>-0.041708</td>\n",
       "      <td>0.000000</td>\n",
       "      <td>0.043172</td>\n",
       "      <td>-0.019783</td>\n",
       "      <td>0.008371</td>\n",
       "      <td>0.008966</td>\n",
       "      <td>-0.003308</td>\n",
       "      <td>-0.008855</td>\n",
       "      <td>-0.021718</td>\n",
       "      <td>0.012890</td>\n",
       "      <td>...</td>\n",
       "      <td>-0.005368</td>\n",
       "      <td>0.017089</td>\n",
       "      <td>-0.014384</td>\n",
       "      <td>0.001424</td>\n",
       "      <td>-0.012147</td>\n",
       "      <td>-0.012350</td>\n",
       "      <td>-0.004888</td>\n",
       "      <td>0.020379</td>\n",
       "      <td>-0.024367</td>\n",
       "      <td>-0.007079</td>\n",
       "    </tr>\n",
       "    <tr>\n",
       "      <th>2</th>\n",
       "      <td>0.028695</td>\n",
       "      <td>0.043172</td>\n",
       "      <td>0.000000</td>\n",
       "      <td>0.070564</td>\n",
       "      <td>-0.002763</td>\n",
       "      <td>0.002871</td>\n",
       "      <td>0.008408</td>\n",
       "      <td>-0.008806</td>\n",
       "      <td>0.090029</td>\n",
       "      <td>-0.030186</td>\n",
       "      <td>...</td>\n",
       "      <td>0.034596</td>\n",
       "      <td>-0.044028</td>\n",
       "      <td>0.031256</td>\n",
       "      <td>0.005013</td>\n",
       "      <td>-0.011213</td>\n",
       "      <td>0.048836</td>\n",
       "      <td>-0.000353</td>\n",
       "      <td>-0.022921</td>\n",
       "      <td>0.053242</td>\n",
       "      <td>0.035857</td>\n",
       "    </tr>\n",
       "    <tr>\n",
       "      <th>3</th>\n",
       "      <td>-0.076057</td>\n",
       "      <td>-0.019783</td>\n",
       "      <td>0.070564</td>\n",
       "      <td>0.000000</td>\n",
       "      <td>0.013192</td>\n",
       "      <td>0.027493</td>\n",
       "      <td>0.019275</td>\n",
       "      <td>-0.051065</td>\n",
       "      <td>-0.094024</td>\n",
       "      <td>0.023952</td>\n",
       "      <td>...</td>\n",
       "      <td>-0.051799</td>\n",
       "      <td>0.019674</td>\n",
       "      <td>-0.005013</td>\n",
       "      <td>-0.018987</td>\n",
       "      <td>-0.025383</td>\n",
       "      <td>-0.059759</td>\n",
       "      <td>0.001855</td>\n",
       "      <td>0.003891</td>\n",
       "      <td>0.005615</td>\n",
       "      <td>0.030173</td>\n",
       "    </tr>\n",
       "    <tr>\n",
       "      <th>4</th>\n",
       "      <td>0.013712</td>\n",
       "      <td>0.008371</td>\n",
       "      <td>-0.002763</td>\n",
       "      <td>0.013192</td>\n",
       "      <td>0.000000</td>\n",
       "      <td>-0.004260</td>\n",
       "      <td>-0.007232</td>\n",
       "      <td>0.025959</td>\n",
       "      <td>-0.002687</td>\n",
       "      <td>0.011894</td>\n",
       "      <td>...</td>\n",
       "      <td>0.018083</td>\n",
       "      <td>-0.010714</td>\n",
       "      <td>0.020395</td>\n",
       "      <td>0.015030</td>\n",
       "      <td>0.009955</td>\n",
       "      <td>0.014735</td>\n",
       "      <td>-0.003238</td>\n",
       "      <td>0.000607</td>\n",
       "      <td>-0.011486</td>\n",
       "      <td>-0.002767</td>\n",
       "    </tr>\n",
       "    <tr>\n",
       "      <th>5</th>\n",
       "      <td>0.052373</td>\n",
       "      <td>0.008966</td>\n",
       "      <td>0.002871</td>\n",
       "      <td>0.027493</td>\n",
       "      <td>-0.004260</td>\n",
       "      <td>0.000000</td>\n",
       "      <td>-0.020004</td>\n",
       "      <td>0.020467</td>\n",
       "      <td>0.002156</td>\n",
       "      <td>-0.002816</td>\n",
       "      <td>...</td>\n",
       "      <td>0.005299</td>\n",
       "      <td>-0.036180</td>\n",
       "      <td>-0.020204</td>\n",
       "      <td>0.007033</td>\n",
       "      <td>0.002810</td>\n",
       "      <td>-0.013911</td>\n",
       "      <td>0.005370</td>\n",
       "      <td>-0.004989</td>\n",
       "      <td>-0.005221</td>\n",
       "      <td>-0.033779</td>\n",
       "    </tr>\n",
       "    <tr>\n",
       "      <th>6</th>\n",
       "      <td>0.016908</td>\n",
       "      <td>-0.003308</td>\n",
       "      <td>0.008408</td>\n",
       "      <td>0.019275</td>\n",
       "      <td>-0.007232</td>\n",
       "      <td>-0.020004</td>\n",
       "      <td>0.000000</td>\n",
       "      <td>0.023936</td>\n",
       "      <td>-0.005770</td>\n",
       "      <td>0.003889</td>\n",
       "      <td>...</td>\n",
       "      <td>0.012208</td>\n",
       "      <td>-0.035312</td>\n",
       "      <td>-0.010799</td>\n",
       "      <td>0.007769</td>\n",
       "      <td>0.003682</td>\n",
       "      <td>-0.009202</td>\n",
       "      <td>0.000428</td>\n",
       "      <td>0.009804</td>\n",
       "      <td>-0.018152</td>\n",
       "      <td>-0.022768</td>\n",
       "    </tr>\n",
       "    <tr>\n",
       "      <th>7</th>\n",
       "      <td>-0.046053</td>\n",
       "      <td>-0.008855</td>\n",
       "      <td>-0.008806</td>\n",
       "      <td>-0.051065</td>\n",
       "      <td>0.025959</td>\n",
       "      <td>0.020467</td>\n",
       "      <td>0.023936</td>\n",
       "      <td>0.000000</td>\n",
       "      <td>-0.005888</td>\n",
       "      <td>0.000203</td>\n",
       "      <td>...</td>\n",
       "      <td>-0.033876</td>\n",
       "      <td>0.027338</td>\n",
       "      <td>-0.008899</td>\n",
       "      <td>-0.020360</td>\n",
       "      <td>-0.031496</td>\n",
       "      <td>-0.017950</td>\n",
       "      <td>0.001465</td>\n",
       "      <td>-0.011085</td>\n",
       "      <td>0.030341</td>\n",
       "      <td>0.017377</td>\n",
       "    </tr>\n",
       "    <tr>\n",
       "      <th>8</th>\n",
       "      <td>-0.037217</td>\n",
       "      <td>-0.021718</td>\n",
       "      <td>0.090029</td>\n",
       "      <td>-0.094024</td>\n",
       "      <td>-0.002687</td>\n",
       "      <td>0.002156</td>\n",
       "      <td>-0.005770</td>\n",
       "      <td>-0.005888</td>\n",
       "      <td>0.000000</td>\n",
       "      <td>0.033454</td>\n",
       "      <td>...</td>\n",
       "      <td>-0.048191</td>\n",
       "      <td>-0.017236</td>\n",
       "      <td>-0.017815</td>\n",
       "      <td>0.003400</td>\n",
       "      <td>-0.005688</td>\n",
       "      <td>-0.058593</td>\n",
       "      <td>0.002620</td>\n",
       "      <td>0.015208</td>\n",
       "      <td>-0.009148</td>\n",
       "      <td>0.011517</td>\n",
       "    </tr>\n",
       "    <tr>\n",
       "      <th>9</th>\n",
       "      <td>0.046748</td>\n",
       "      <td>0.012890</td>\n",
       "      <td>-0.030186</td>\n",
       "      <td>0.023952</td>\n",
       "      <td>0.011894</td>\n",
       "      <td>-0.002816</td>\n",
       "      <td>0.003889</td>\n",
       "      <td>0.000203</td>\n",
       "      <td>0.033454</td>\n",
       "      <td>0.000000</td>\n",
       "      <td>...</td>\n",
       "      <td>0.009060</td>\n",
       "      <td>-0.002197</td>\n",
       "      <td>-0.021094</td>\n",
       "      <td>-0.014112</td>\n",
       "      <td>0.004557</td>\n",
       "      <td>-0.010829</td>\n",
       "      <td>0.010563</td>\n",
       "      <td>-0.011530</td>\n",
       "      <td>0.015543</td>\n",
       "      <td>0.012355</td>\n",
       "    </tr>\n",
       "    <tr>\n",
       "      <th>10</th>\n",
       "      <td>0.018639</td>\n",
       "      <td>-0.003586</td>\n",
       "      <td>0.058318</td>\n",
       "      <td>0.004063</td>\n",
       "      <td>0.013337</td>\n",
       "      <td>-0.017551</td>\n",
       "      <td>-0.003548</td>\n",
       "      <td>-0.003497</td>\n",
       "      <td>0.011489</td>\n",
       "      <td>-0.007448</td>\n",
       "      <td>...</td>\n",
       "      <td>0.002302</td>\n",
       "      <td>0.033237</td>\n",
       "      <td>-0.022209</td>\n",
       "      <td>-0.029015</td>\n",
       "      <td>0.002277</td>\n",
       "      <td>-0.020160</td>\n",
       "      <td>0.001835</td>\n",
       "      <td>-0.001656</td>\n",
       "      <td>-0.028847</td>\n",
       "      <td>-0.055867</td>\n",
       "    </tr>\n",
       "    <tr>\n",
       "      <th>11</th>\n",
       "      <td>0.035586</td>\n",
       "      <td>-0.022880</td>\n",
       "      <td>0.031406</td>\n",
       "      <td>0.021278</td>\n",
       "      <td>-0.003009</td>\n",
       "      <td>-0.018865</td>\n",
       "      <td>-0.023266</td>\n",
       "      <td>0.033006</td>\n",
       "      <td>-0.021922</td>\n",
       "      <td>-0.006554</td>\n",
       "      <td>...</td>\n",
       "      <td>-0.002082</td>\n",
       "      <td>-0.030898</td>\n",
       "      <td>-0.034581</td>\n",
       "      <td>0.017166</td>\n",
       "      <td>0.007768</td>\n",
       "      <td>-0.020058</td>\n",
       "      <td>0.003862</td>\n",
       "      <td>0.016355</td>\n",
       "      <td>-0.015468</td>\n",
       "      <td>-0.009268</td>\n",
       "    </tr>\n",
       "    <tr>\n",
       "      <th>12</th>\n",
       "      <td>0.011609</td>\n",
       "      <td>0.009790</td>\n",
       "      <td>-0.057146</td>\n",
       "      <td>0.003001</td>\n",
       "      <td>0.019519</td>\n",
       "      <td>0.013368</td>\n",
       "      <td>0.011420</td>\n",
       "      <td>-0.015211</td>\n",
       "      <td>0.013770</td>\n",
       "      <td>-0.055370</td>\n",
       "      <td>...</td>\n",
       "      <td>-0.020739</td>\n",
       "      <td>-0.029380</td>\n",
       "      <td>-0.026088</td>\n",
       "      <td>-0.019529</td>\n",
       "      <td>-0.000642</td>\n",
       "      <td>-0.018953</td>\n",
       "      <td>0.010112</td>\n",
       "      <td>0.000387</td>\n",
       "      <td>0.050686</td>\n",
       "      <td>0.066572</td>\n",
       "    </tr>\n",
       "    <tr>\n",
       "      <th>13</th>\n",
       "      <td>0.098790</td>\n",
       "      <td>0.021992</td>\n",
       "      <td>-0.009206</td>\n",
       "      <td>0.005553</td>\n",
       "      <td>0.013433</td>\n",
       "      <td>-0.033329</td>\n",
       "      <td>-0.001369</td>\n",
       "      <td>-0.023303</td>\n",
       "      <td>0.006906</td>\n",
       "      <td>-0.010432</td>\n",
       "      <td>...</td>\n",
       "      <td>-0.021693</td>\n",
       "      <td>-0.020104</td>\n",
       "      <td>-0.029695</td>\n",
       "      <td>-0.009502</td>\n",
       "      <td>-0.030979</td>\n",
       "      <td>-0.038187</td>\n",
       "      <td>0.009992</td>\n",
       "      <td>-0.038487</td>\n",
       "      <td>0.038867</td>\n",
       "      <td>-0.030170</td>\n",
       "    </tr>\n",
       "    <tr>\n",
       "      <th>14</th>\n",
       "      <td>-0.019221</td>\n",
       "      <td>-0.012772</td>\n",
       "      <td>0.028601</td>\n",
       "      <td>-0.007439</td>\n",
       "      <td>-0.016909</td>\n",
       "      <td>-0.009352</td>\n",
       "      <td>-0.016793</td>\n",
       "      <td>0.019142</td>\n",
       "      <td>-0.022887</td>\n",
       "      <td>0.029553</td>\n",
       "      <td>...</td>\n",
       "      <td>0.017488</td>\n",
       "      <td>-0.003062</td>\n",
       "      <td>0.005415</td>\n",
       "      <td>0.031552</td>\n",
       "      <td>0.009059</td>\n",
       "      <td>0.007526</td>\n",
       "      <td>-0.000021</td>\n",
       "      <td>0.005583</td>\n",
       "      <td>-0.041285</td>\n",
       "      <td>-0.037506</td>\n",
       "    </tr>\n",
       "    <tr>\n",
       "      <th>15</th>\n",
       "      <td>-0.042807</td>\n",
       "      <td>0.010915</td>\n",
       "      <td>-0.047945</td>\n",
       "      <td>0.028085</td>\n",
       "      <td>-0.000971</td>\n",
       "      <td>0.048164</td>\n",
       "      <td>0.039426</td>\n",
       "      <td>-0.010783</td>\n",
       "      <td>0.062471</td>\n",
       "      <td>-0.009320</td>\n",
       "      <td>...</td>\n",
       "      <td>0.008263</td>\n",
       "      <td>0.090092</td>\n",
       "      <td>0.050297</td>\n",
       "      <td>-0.001512</td>\n",
       "      <td>0.026031</td>\n",
       "      <td>0.083279</td>\n",
       "      <td>-0.009653</td>\n",
       "      <td>-0.006535</td>\n",
       "      <td>0.021082</td>\n",
       "      <td>0.050666</td>\n",
       "    </tr>\n",
       "    <tr>\n",
       "      <th>16</th>\n",
       "      <td>-0.008023</td>\n",
       "      <td>-0.014711</td>\n",
       "      <td>-0.038587</td>\n",
       "      <td>0.067568</td>\n",
       "      <td>0.017052</td>\n",
       "      <td>-0.025204</td>\n",
       "      <td>-0.026785</td>\n",
       "      <td>0.012085</td>\n",
       "      <td>0.033293</td>\n",
       "      <td>-0.016989</td>\n",
       "      <td>...</td>\n",
       "      <td>-0.004634</td>\n",
       "      <td>-0.079309</td>\n",
       "      <td>-0.040562</td>\n",
       "      <td>-0.020751</td>\n",
       "      <td>-0.005911</td>\n",
       "      <td>-0.008252</td>\n",
       "      <td>-0.005087</td>\n",
       "      <td>0.037394</td>\n",
       "      <td>0.011192</td>\n",
       "      <td>-0.003679</td>\n",
       "    </tr>\n",
       "    <tr>\n",
       "      <th>17</th>\n",
       "      <td>0.063277</td>\n",
       "      <td>0.023673</td>\n",
       "      <td>0.025575</td>\n",
       "      <td>-0.013887</td>\n",
       "      <td>-0.008221</td>\n",
       "      <td>-0.030196</td>\n",
       "      <td>-0.025770</td>\n",
       "      <td>0.044464</td>\n",
       "      <td>-0.054898</td>\n",
       "      <td>-0.034383</td>\n",
       "      <td>...</td>\n",
       "      <td>-0.013515</td>\n",
       "      <td>-0.083696</td>\n",
       "      <td>-0.038685</td>\n",
       "      <td>-0.007442</td>\n",
       "      <td>0.025189</td>\n",
       "      <td>-0.063358</td>\n",
       "      <td>0.016809</td>\n",
       "      <td>0.007860</td>\n",
       "      <td>0.003678</td>\n",
       "      <td>0.014455</td>\n",
       "    </tr>\n",
       "    <tr>\n",
       "      <th>18</th>\n",
       "      <td>0.002271</td>\n",
       "      <td>0.001779</td>\n",
       "      <td>0.067134</td>\n",
       "      <td>-0.048764</td>\n",
       "      <td>-0.007628</td>\n",
       "      <td>-0.005769</td>\n",
       "      <td>-0.005151</td>\n",
       "      <td>0.014317</td>\n",
       "      <td>-0.072537</td>\n",
       "      <td>0.020516</td>\n",
       "      <td>...</td>\n",
       "      <td>-0.035363</td>\n",
       "      <td>-0.019817</td>\n",
       "      <td>-0.005061</td>\n",
       "      <td>-0.008929</td>\n",
       "      <td>0.007466</td>\n",
       "      <td>-0.038154</td>\n",
       "      <td>-0.000673</td>\n",
       "      <td>0.011238</td>\n",
       "      <td>0.001307</td>\n",
       "      <td>0.012899</td>\n",
       "    </tr>\n",
       "    <tr>\n",
       "      <th>19</th>\n",
       "      <td>-0.005608</td>\n",
       "      <td>-0.015420</td>\n",
       "      <td>0.026837</td>\n",
       "      <td>-0.009277</td>\n",
       "      <td>-0.014138</td>\n",
       "      <td>0.001786</td>\n",
       "      <td>-0.005891</td>\n",
       "      <td>0.012537</td>\n",
       "      <td>-0.016715</td>\n",
       "      <td>0.024346</td>\n",
       "      <td>...</td>\n",
       "      <td>0.019001</td>\n",
       "      <td>0.014454</td>\n",
       "      <td>0.015682</td>\n",
       "      <td>0.022738</td>\n",
       "      <td>-0.003133</td>\n",
       "      <td>0.007256</td>\n",
       "      <td>-0.004263</td>\n",
       "      <td>0.001382</td>\n",
       "      <td>-0.030333</td>\n",
       "      <td>-0.018245</td>\n",
       "    </tr>\n",
       "    <tr>\n",
       "      <th>20</th>\n",
       "      <td>-0.028925</td>\n",
       "      <td>-0.005368</td>\n",
       "      <td>0.034596</td>\n",
       "      <td>-0.051799</td>\n",
       "      <td>0.018083</td>\n",
       "      <td>0.005299</td>\n",
       "      <td>0.012208</td>\n",
       "      <td>-0.033876</td>\n",
       "      <td>-0.048191</td>\n",
       "      <td>0.009060</td>\n",
       "      <td>...</td>\n",
       "      <td>0.000000</td>\n",
       "      <td>0.012663</td>\n",
       "      <td>-0.033368</td>\n",
       "      <td>-0.004741</td>\n",
       "      <td>0.004644</td>\n",
       "      <td>-0.022564</td>\n",
       "      <td>0.007904</td>\n",
       "      <td>-0.002157</td>\n",
       "      <td>0.035775</td>\n",
       "      <td>0.018874</td>\n",
       "    </tr>\n",
       "    <tr>\n",
       "      <th>21</th>\n",
       "      <td>0.030022</td>\n",
       "      <td>0.017089</td>\n",
       "      <td>-0.044028</td>\n",
       "      <td>0.019674</td>\n",
       "      <td>-0.010714</td>\n",
       "      <td>-0.036180</td>\n",
       "      <td>-0.035312</td>\n",
       "      <td>0.027338</td>\n",
       "      <td>-0.017236</td>\n",
       "      <td>-0.002197</td>\n",
       "      <td>...</td>\n",
       "      <td>0.012663</td>\n",
       "      <td>0.000000</td>\n",
       "      <td>-0.013394</td>\n",
       "      <td>0.000609</td>\n",
       "      <td>-0.013889</td>\n",
       "      <td>-0.038228</td>\n",
       "      <td>0.002048</td>\n",
       "      <td>0.014054</td>\n",
       "      <td>0.008073</td>\n",
       "      <td>-0.001577</td>\n",
       "    </tr>\n",
       "    <tr>\n",
       "      <th>22</th>\n",
       "      <td>0.024708</td>\n",
       "      <td>-0.014384</td>\n",
       "      <td>0.031256</td>\n",
       "      <td>-0.005013</td>\n",
       "      <td>0.020395</td>\n",
       "      <td>-0.020204</td>\n",
       "      <td>-0.010799</td>\n",
       "      <td>-0.008899</td>\n",
       "      <td>-0.017815</td>\n",
       "      <td>-0.021094</td>\n",
       "      <td>...</td>\n",
       "      <td>-0.033368</td>\n",
       "      <td>-0.013394</td>\n",
       "      <td>0.000000</td>\n",
       "      <td>-0.003654</td>\n",
       "      <td>0.001491</td>\n",
       "      <td>-0.039466</td>\n",
       "      <td>0.013712</td>\n",
       "      <td>0.000809</td>\n",
       "      <td>0.006196</td>\n",
       "      <td>-0.019514</td>\n",
       "    </tr>\n",
       "    <tr>\n",
       "      <th>23</th>\n",
       "      <td>-0.024955</td>\n",
       "      <td>0.001424</td>\n",
       "      <td>0.005013</td>\n",
       "      <td>-0.018987</td>\n",
       "      <td>0.015030</td>\n",
       "      <td>0.007033</td>\n",
       "      <td>0.007769</td>\n",
       "      <td>-0.020360</td>\n",
       "      <td>0.003400</td>\n",
       "      <td>-0.014112</td>\n",
       "      <td>...</td>\n",
       "      <td>-0.004741</td>\n",
       "      <td>0.000609</td>\n",
       "      <td>-0.003654</td>\n",
       "      <td>0.000000</td>\n",
       "      <td>-0.011251</td>\n",
       "      <td>-0.022122</td>\n",
       "      <td>-0.002012</td>\n",
       "      <td>0.007632</td>\n",
       "      <td>0.003554</td>\n",
       "      <td>0.008493</td>\n",
       "    </tr>\n",
       "    <tr>\n",
       "      <th>24</th>\n",
       "      <td>0.002520</td>\n",
       "      <td>-0.012147</td>\n",
       "      <td>-0.011213</td>\n",
       "      <td>-0.025383</td>\n",
       "      <td>0.009955</td>\n",
       "      <td>0.002810</td>\n",
       "      <td>0.003682</td>\n",
       "      <td>-0.031496</td>\n",
       "      <td>-0.005688</td>\n",
       "      <td>0.004557</td>\n",
       "      <td>...</td>\n",
       "      <td>0.004644</td>\n",
       "      <td>-0.013889</td>\n",
       "      <td>0.001491</td>\n",
       "      <td>-0.011251</td>\n",
       "      <td>0.000000</td>\n",
       "      <td>-0.030438</td>\n",
       "      <td>-0.003889</td>\n",
       "      <td>-0.006920</td>\n",
       "      <td>0.009294</td>\n",
       "      <td>0.002493</td>\n",
       "    </tr>\n",
       "    <tr>\n",
       "      <th>25</th>\n",
       "      <td>0.019881</td>\n",
       "      <td>-0.012350</td>\n",
       "      <td>0.048836</td>\n",
       "      <td>-0.059759</td>\n",
       "      <td>0.014735</td>\n",
       "      <td>-0.013911</td>\n",
       "      <td>-0.009202</td>\n",
       "      <td>-0.017950</td>\n",
       "      <td>-0.058593</td>\n",
       "      <td>-0.010829</td>\n",
       "      <td>...</td>\n",
       "      <td>-0.022564</td>\n",
       "      <td>-0.038228</td>\n",
       "      <td>-0.039466</td>\n",
       "      <td>-0.022122</td>\n",
       "      <td>-0.030438</td>\n",
       "      <td>0.000000</td>\n",
       "      <td>0.008659</td>\n",
       "      <td>0.001213</td>\n",
       "      <td>0.000183</td>\n",
       "      <td>-0.004337</td>\n",
       "    </tr>\n",
       "    <tr>\n",
       "      <th>26</th>\n",
       "      <td>-0.018560</td>\n",
       "      <td>-0.004888</td>\n",
       "      <td>-0.000353</td>\n",
       "      <td>0.001855</td>\n",
       "      <td>-0.003238</td>\n",
       "      <td>0.005370</td>\n",
       "      <td>0.000428</td>\n",
       "      <td>0.001465</td>\n",
       "      <td>0.002620</td>\n",
       "      <td>0.010563</td>\n",
       "      <td>...</td>\n",
       "      <td>0.007904</td>\n",
       "      <td>0.002048</td>\n",
       "      <td>0.013712</td>\n",
       "      <td>-0.002012</td>\n",
       "      <td>-0.003889</td>\n",
       "      <td>0.008659</td>\n",
       "      <td>0.000000</td>\n",
       "      <td>0.007541</td>\n",
       "      <td>-0.006989</td>\n",
       "      <td>0.001829</td>\n",
       "    </tr>\n",
       "    <tr>\n",
       "      <th>27</th>\n",
       "      <td>0.057024</td>\n",
       "      <td>0.020379</td>\n",
       "      <td>-0.022921</td>\n",
       "      <td>0.003891</td>\n",
       "      <td>0.000607</td>\n",
       "      <td>-0.004989</td>\n",
       "      <td>0.009804</td>\n",
       "      <td>-0.011085</td>\n",
       "      <td>0.015208</td>\n",
       "      <td>-0.011530</td>\n",
       "      <td>...</td>\n",
       "      <td>-0.002157</td>\n",
       "      <td>0.014054</td>\n",
       "      <td>0.000809</td>\n",
       "      <td>0.007632</td>\n",
       "      <td>-0.006920</td>\n",
       "      <td>0.001213</td>\n",
       "      <td>0.007541</td>\n",
       "      <td>0.000000</td>\n",
       "      <td>0.024587</td>\n",
       "      <td>-0.001959</td>\n",
       "    </tr>\n",
       "    <tr>\n",
       "      <th>28</th>\n",
       "      <td>-0.025943</td>\n",
       "      <td>-0.024367</td>\n",
       "      <td>0.053242</td>\n",
       "      <td>0.005615</td>\n",
       "      <td>-0.011486</td>\n",
       "      <td>-0.005221</td>\n",
       "      <td>-0.018152</td>\n",
       "      <td>0.030341</td>\n",
       "      <td>-0.009148</td>\n",
       "      <td>0.015543</td>\n",
       "      <td>...</td>\n",
       "      <td>0.035775</td>\n",
       "      <td>0.008073</td>\n",
       "      <td>0.006196</td>\n",
       "      <td>0.003554</td>\n",
       "      <td>0.009294</td>\n",
       "      <td>0.000183</td>\n",
       "      <td>-0.006989</td>\n",
       "      <td>0.024587</td>\n",
       "      <td>0.000000</td>\n",
       "      <td>-0.039363</td>\n",
       "    </tr>\n",
       "    <tr>\n",
       "      <th>29</th>\n",
       "      <td>0.032286</td>\n",
       "      <td>-0.007079</td>\n",
       "      <td>0.035857</td>\n",
       "      <td>0.030173</td>\n",
       "      <td>-0.002767</td>\n",
       "      <td>-0.033779</td>\n",
       "      <td>-0.022768</td>\n",
       "      <td>0.017377</td>\n",
       "      <td>0.011517</td>\n",
       "      <td>0.012355</td>\n",
       "      <td>...</td>\n",
       "      <td>0.018874</td>\n",
       "      <td>-0.001577</td>\n",
       "      <td>-0.019514</td>\n",
       "      <td>0.008493</td>\n",
       "      <td>0.002493</td>\n",
       "      <td>-0.004337</td>\n",
       "      <td>0.001829</td>\n",
       "      <td>-0.001959</td>\n",
       "      <td>-0.039363</td>\n",
       "      <td>0.000000</td>\n",
       "    </tr>\n",
       "  </tbody>\n",
       "</table>\n",
       "<p>30 rows × 30 columns</p>\n",
       "</div>"
      ],
      "text/plain": [
       "           0         1         2         3         4         5         6  \\\n",
       "0   0.000000 -0.041708  0.028695 -0.076057  0.013712  0.052373  0.016908   \n",
       "1  -0.041708  0.000000  0.043172 -0.019783  0.008371  0.008966 -0.003308   \n",
       "2   0.028695  0.043172  0.000000  0.070564 -0.002763  0.002871  0.008408   \n",
       "3  -0.076057 -0.019783  0.070564  0.000000  0.013192  0.027493  0.019275   \n",
       "4   0.013712  0.008371 -0.002763  0.013192  0.000000 -0.004260 -0.007232   \n",
       "5   0.052373  0.008966  0.002871  0.027493 -0.004260  0.000000 -0.020004   \n",
       "6   0.016908 -0.003308  0.008408  0.019275 -0.007232 -0.020004  0.000000   \n",
       "7  -0.046053 -0.008855 -0.008806 -0.051065  0.025959  0.020467  0.023936   \n",
       "8  -0.037217 -0.021718  0.090029 -0.094024 -0.002687  0.002156 -0.005770   \n",
       "9   0.046748  0.012890 -0.030186  0.023952  0.011894 -0.002816  0.003889   \n",
       "10  0.018639 -0.003586  0.058318  0.004063  0.013337 -0.017551 -0.003548   \n",
       "11  0.035586 -0.022880  0.031406  0.021278 -0.003009 -0.018865 -0.023266   \n",
       "12  0.011609  0.009790 -0.057146  0.003001  0.019519  0.013368  0.011420   \n",
       "13  0.098790  0.021992 -0.009206  0.005553  0.013433 -0.033329 -0.001369   \n",
       "14 -0.019221 -0.012772  0.028601 -0.007439 -0.016909 -0.009352 -0.016793   \n",
       "15 -0.042807  0.010915 -0.047945  0.028085 -0.000971  0.048164  0.039426   \n",
       "16 -0.008023 -0.014711 -0.038587  0.067568  0.017052 -0.025204 -0.026785   \n",
       "17  0.063277  0.023673  0.025575 -0.013887 -0.008221 -0.030196 -0.025770   \n",
       "18  0.002271  0.001779  0.067134 -0.048764 -0.007628 -0.005769 -0.005151   \n",
       "19 -0.005608 -0.015420  0.026837 -0.009277 -0.014138  0.001786 -0.005891   \n",
       "20 -0.028925 -0.005368  0.034596 -0.051799  0.018083  0.005299  0.012208   \n",
       "21  0.030022  0.017089 -0.044028  0.019674 -0.010714 -0.036180 -0.035312   \n",
       "22  0.024708 -0.014384  0.031256 -0.005013  0.020395 -0.020204 -0.010799   \n",
       "23 -0.024955  0.001424  0.005013 -0.018987  0.015030  0.007033  0.007769   \n",
       "24  0.002520 -0.012147 -0.011213 -0.025383  0.009955  0.002810  0.003682   \n",
       "25  0.019881 -0.012350  0.048836 -0.059759  0.014735 -0.013911 -0.009202   \n",
       "26 -0.018560 -0.004888 -0.000353  0.001855 -0.003238  0.005370  0.000428   \n",
       "27  0.057024  0.020379 -0.022921  0.003891  0.000607 -0.004989  0.009804   \n",
       "28 -0.025943 -0.024367  0.053242  0.005615 -0.011486 -0.005221 -0.018152   \n",
       "29  0.032286 -0.007079  0.035857  0.030173 -0.002767 -0.033779 -0.022768   \n",
       "\n",
       "           7         8         9  ...        20        21        22        23  \\\n",
       "0  -0.046053 -0.037217  0.046748  ... -0.028925  0.030022  0.024708 -0.024955   \n",
       "1  -0.008855 -0.021718  0.012890  ... -0.005368  0.017089 -0.014384  0.001424   \n",
       "2  -0.008806  0.090029 -0.030186  ...  0.034596 -0.044028  0.031256  0.005013   \n",
       "3  -0.051065 -0.094024  0.023952  ... -0.051799  0.019674 -0.005013 -0.018987   \n",
       "4   0.025959 -0.002687  0.011894  ...  0.018083 -0.010714  0.020395  0.015030   \n",
       "5   0.020467  0.002156 -0.002816  ...  0.005299 -0.036180 -0.020204  0.007033   \n",
       "6   0.023936 -0.005770  0.003889  ...  0.012208 -0.035312 -0.010799  0.007769   \n",
       "7   0.000000 -0.005888  0.000203  ... -0.033876  0.027338 -0.008899 -0.020360   \n",
       "8  -0.005888  0.000000  0.033454  ... -0.048191 -0.017236 -0.017815  0.003400   \n",
       "9   0.000203  0.033454  0.000000  ...  0.009060 -0.002197 -0.021094 -0.014112   \n",
       "10 -0.003497  0.011489 -0.007448  ...  0.002302  0.033237 -0.022209 -0.029015   \n",
       "11  0.033006 -0.021922 -0.006554  ... -0.002082 -0.030898 -0.034581  0.017166   \n",
       "12 -0.015211  0.013770 -0.055370  ... -0.020739 -0.029380 -0.026088 -0.019529   \n",
       "13 -0.023303  0.006906 -0.010432  ... -0.021693 -0.020104 -0.029695 -0.009502   \n",
       "14  0.019142 -0.022887  0.029553  ...  0.017488 -0.003062  0.005415  0.031552   \n",
       "15 -0.010783  0.062471 -0.009320  ...  0.008263  0.090092  0.050297 -0.001512   \n",
       "16  0.012085  0.033293 -0.016989  ... -0.004634 -0.079309 -0.040562 -0.020751   \n",
       "17  0.044464 -0.054898 -0.034383  ... -0.013515 -0.083696 -0.038685 -0.007442   \n",
       "18  0.014317 -0.072537  0.020516  ... -0.035363 -0.019817 -0.005061 -0.008929   \n",
       "19  0.012537 -0.016715  0.024346  ...  0.019001  0.014454  0.015682  0.022738   \n",
       "20 -0.033876 -0.048191  0.009060  ...  0.000000  0.012663 -0.033368 -0.004741   \n",
       "21  0.027338 -0.017236 -0.002197  ...  0.012663  0.000000 -0.013394  0.000609   \n",
       "22 -0.008899 -0.017815 -0.021094  ... -0.033368 -0.013394  0.000000 -0.003654   \n",
       "23 -0.020360  0.003400 -0.014112  ... -0.004741  0.000609 -0.003654  0.000000   \n",
       "24 -0.031496 -0.005688  0.004557  ...  0.004644 -0.013889  0.001491 -0.011251   \n",
       "25 -0.017950 -0.058593 -0.010829  ... -0.022564 -0.038228 -0.039466 -0.022122   \n",
       "26  0.001465  0.002620  0.010563  ...  0.007904  0.002048  0.013712 -0.002012   \n",
       "27 -0.011085  0.015208 -0.011530  ... -0.002157  0.014054  0.000809  0.007632   \n",
       "28  0.030341 -0.009148  0.015543  ...  0.035775  0.008073  0.006196  0.003554   \n",
       "29  0.017377  0.011517  0.012355  ...  0.018874 -0.001577 -0.019514  0.008493   \n",
       "\n",
       "          24        25        26        27        28        29  \n",
       "0   0.002520  0.019881 -0.018560  0.057024 -0.025943  0.032286  \n",
       "1  -0.012147 -0.012350 -0.004888  0.020379 -0.024367 -0.007079  \n",
       "2  -0.011213  0.048836 -0.000353 -0.022921  0.053242  0.035857  \n",
       "3  -0.025383 -0.059759  0.001855  0.003891  0.005615  0.030173  \n",
       "4   0.009955  0.014735 -0.003238  0.000607 -0.011486 -0.002767  \n",
       "5   0.002810 -0.013911  0.005370 -0.004989 -0.005221 -0.033779  \n",
       "6   0.003682 -0.009202  0.000428  0.009804 -0.018152 -0.022768  \n",
       "7  -0.031496 -0.017950  0.001465 -0.011085  0.030341  0.017377  \n",
       "8  -0.005688 -0.058593  0.002620  0.015208 -0.009148  0.011517  \n",
       "9   0.004557 -0.010829  0.010563 -0.011530  0.015543  0.012355  \n",
       "10  0.002277 -0.020160  0.001835 -0.001656 -0.028847 -0.055867  \n",
       "11  0.007768 -0.020058  0.003862  0.016355 -0.015468 -0.009268  \n",
       "12 -0.000642 -0.018953  0.010112  0.000387  0.050686  0.066572  \n",
       "13 -0.030979 -0.038187  0.009992 -0.038487  0.038867 -0.030170  \n",
       "14  0.009059  0.007526 -0.000021  0.005583 -0.041285 -0.037506  \n",
       "15  0.026031  0.083279 -0.009653 -0.006535  0.021082  0.050666  \n",
       "16 -0.005911 -0.008252 -0.005087  0.037394  0.011192 -0.003679  \n",
       "17  0.025189 -0.063358  0.016809  0.007860  0.003678  0.014455  \n",
       "18  0.007466 -0.038154 -0.000673  0.011238  0.001307  0.012899  \n",
       "19 -0.003133  0.007256 -0.004263  0.001382 -0.030333 -0.018245  \n",
       "20  0.004644 -0.022564  0.007904 -0.002157  0.035775  0.018874  \n",
       "21 -0.013889 -0.038228  0.002048  0.014054  0.008073 -0.001577  \n",
       "22  0.001491 -0.039466  0.013712  0.000809  0.006196 -0.019514  \n",
       "23 -0.011251 -0.022122 -0.002012  0.007632  0.003554  0.008493  \n",
       "24  0.000000 -0.030438 -0.003889 -0.006920  0.009294  0.002493  \n",
       "25 -0.030438  0.000000  0.008659  0.001213  0.000183 -0.004337  \n",
       "26 -0.003889  0.008659  0.000000  0.007541 -0.006989  0.001829  \n",
       "27 -0.006920  0.001213  0.007541  0.000000  0.024587 -0.001959  \n",
       "28  0.009294  0.000183 -0.006989  0.024587  0.000000 -0.039363  \n",
       "29  0.002493 -0.004337  0.001829 -0.001959 -0.039363  0.000000  \n",
       "\n",
       "[30 rows x 30 columns]"
      ]
     },
     "execution_count": 24,
     "metadata": {},
     "output_type": "execute_result"
    }
   ],
   "source": [
    "corr_mat = df.corr()\n",
    "\n",
    "np.fill_diagonal(corr_mat.values, 0)\n",
    "corr_mat"
   ]
  },
  {
   "cell_type": "markdown",
   "id": "7e27e172",
   "metadata": {},
   "source": [
    "As we see there is no correlation between them ."
   ]
  },
  {
   "cell_type": "markdown",
   "id": "493befa0",
   "metadata": {},
   "source": [
    "Next I want to  check if there is correlation between features by heatmap"
   ]
  },
  {
   "cell_type": "code",
   "execution_count": 58,
   "id": "349e6ebc",
   "metadata": {},
   "outputs": [
    {
     "data": {
      "text/plain": [
       "<AxesSubplot:>"
      ]
     },
     "execution_count": 58,
     "metadata": {},
     "output_type": "execute_result"
    },
    {
     "data": {
      "image/png": "[encoded data removed]",
      "text/plain": [
       "<Figure size 2160x2160 with 2 Axes>"
      ]
     },
     "metadata": {},
     "output_type": "display_data"
    }
   ],
   "source": [
    "\n",
    "fig, ax = plt.subplots(figsize=(30,30))  \n",
    "sns.heatmap(df.corr(),annot=True,ax=ax)"
   ]
  },
  {
   "cell_type": "markdown",
   "id": "a1f880d6",
   "metadata": {},
   "source": [
    "Based on above heatmap there is no correlation btween features then we should use all the features."
   ]
  },
  {
   "cell_type": "markdown",
   "id": "c60bbd64",
   "metadata": {},
   "source": [
    "##### How much are they correlated? Can we eliminate certain features based on high correlations"
   ]
  },
  {
   "cell_type": "code",
   "execution_count": 59,
   "id": "e69e0304",
   "metadata": {},
   "outputs": [
    {
     "data": {
      "text/plain": [
       "0     0.098790\n",
       "1     0.043172\n",
       "2     0.090029\n",
       "3     0.094024\n",
       "4     0.025959\n",
       "5     0.052373\n",
       "6     0.039426\n",
       "7     0.051065\n",
       "8     0.094024\n",
       "9     0.055370\n",
       "10    0.058318\n",
       "11    0.049083\n",
       "12    0.066572\n",
       "13    0.098790\n",
       "14    0.058954\n",
       "15    0.090092\n",
       "16    0.079309\n",
       "17    0.083696\n",
       "18    0.072537\n",
       "19    0.045678\n",
       "20    0.051799\n",
       "21    0.090092\n",
       "22    0.050297\n",
       "23    0.031552\n",
       "24    0.031496\n",
       "25    0.083279\n",
       "26    0.018560\n",
       "27    0.057024\n",
       "28    0.053242\n",
       "29    0.066572\n",
       "dtype: float64"
      ]
     },
     "execution_count": 59,
     "metadata": {},
     "output_type": "execute_result"
    }
   ],
   "source": [
    "\n",
    "corr_mat.abs().max()"
   ]
  },
  {
   "cell_type": "markdown",
   "id": "3d589a08",
   "metadata": {},
   "source": [
    "Pearson correlation measures the strength of a linear relationship between two variables. This value ranges from -1 to 1, with -1 indicating a total negative linear correlation, 0 indicating no correlation, and 1 indicating a total positive correlation.\n",
    "As we can see here all the variebles shows  0 indicating which means there are no correlation."
   ]
  },
  {
   "cell_type": "code",
   "execution_count": 60,
   "id": "a1a59c01",
   "metadata": {
    "scrolled": true
   },
   "outputs": [
    {
     "name": "stderr",
     "output_type": "stream",
     "text": [
      "C:\\Users\\Farimah\\AppData\\Local\\Temp/ipykernel_20644/3718637905.py:2: FutureWarning:\n",
      "\n",
      "Dropping of nuisance columns in DataFrame reductions (with 'numeric_only=None') is deprecated; in a future version this will raise TypeError.  Select only valid columns before calling the reduction.\n",
      "\n"
     ]
    },
    {
     "data": {
      "text/plain": [
       "4     2.358456\n",
       "1     1.272854\n",
       "14    1.267799\n",
       "23    0.782396\n",
       "dtype: float64"
      ]
     },
     "execution_count": 60,
     "metadata": {},
     "output_type": "execute_result"
    }
   ],
   "source": [
    "# .skew 0: no skew, + right skew, - left skew, look for above .75 \n",
    "skew_columns = (df\n",
    "                .skew()\n",
    "                .sort_values(ascending=False))\n",
    "\n",
    "skew_columns = skew_columns.loc[skew_columns > 0.75]\n",
    "skew_columns"
   ]
  },
  {
   "cell_type": "markdown",
   "id": "8ffeff79",
   "metadata": {},
   "source": [
    "This is a coordinate space value and we dont have to do anything."
   ]
  },
  {
   "cell_type": "markdown",
   "id": "c863d47a",
   "metadata": {},
   "source": [
    "## Dimensionality reduction - PCA"
   ]
  },
  {
   "cell_type": "markdown",
   "id": "6b71c494",
   "metadata": {},
   "source": [
    "we need to reduce the dimension of the dataset.\n",
    "To do this, we use PCA. To plot and inspect the shape of data, the first two principal components are usually used. \n",
    "Also inspecting the next few principal components can provide insight into variance.\n",
    "The variance explained by each component must be considered here as well.\n",
    "\n",
    "\n"
   ]
  },
  {
   "cell_type": "code",
   "execution_count": 61,
   "id": "1d550883",
   "metadata": {},
   "outputs": [],
   "source": [
    "\n",
    "from sklearn.decomposition import PCA\n",
    "X = df.iloc[:,0:30]\n",
    "pca = PCA()\n",
    "principalComponents = pca.fit_transform(X)"
   ]
  },
  {
   "cell_type": "code",
   "execution_count": 62,
   "id": "899d1eee",
   "metadata": {},
   "outputs": [
    {
     "data": {
      "image/png": "[encoded data removed]",
      "text/plain": [
       "<Figure size 576x396 with 1 Axes>"
      ]
     },
     "metadata": {},
     "output_type": "display_data"
    }
   ],
   "source": [
    "PC_values = np.arange(pca.n_components_) + 1\n",
    "plt.plot(PC_values, pca.explained_variance_ratio_, 'o-', linewidth=2, color='blue')\n",
    "plt.title('Scree Plot')\n",
    "plt.xlabel('Principal Component')\n",
    "plt.ylabel('Variance Explained')\n",
    "plt.show()"
   ]
  },
  {
   "cell_type": "markdown",
   "id": "3a3e829f",
   "metadata": {},
   "source": [
    "With this data, PCA is clearly not useful. These are not linearly separable."
   ]
  },
  {
   "cell_type": "code",
   "execution_count": 63,
   "id": "93049d74",
   "metadata": {},
   "outputs": [
    {
     "data": {
      "image/png": "[encoded data removed]",
      "text/plain": [
       "<Figure size 576x396 with 1 Axes>"
      ]
     },
     "metadata": {},
     "output_type": "display_data"
    },
    {
     "data": {
      "image/png": "[encoded data removed]",
      "text/plain": [
       "<Figure size 576x396 with 1 Axes>"
      ]
     },
     "metadata": {},
     "output_type": "display_data"
    },
    {
     "data": {
      "image/png": "[encoded data removed]",
      "text/plain": [
       "<Figure size 576x396 with 1 Axes>"
      ]
     },
     "metadata": {},
     "output_type": "display_data"
    }
   ],
   "source": [
    "\n",
    "from sklearn.decomposition import PCA\n",
    "X = df.iloc[:,0:30]\n",
    "\n",
    "pca = PCA(n_components=3)\n",
    "principalComponents = pca.fit_transform(X)\n",
    "principalDf = pd.DataFrame(data = principalComponents\n",
    "             , columns = ['pc1', 'pc2', 'pc3'])\n",
    "principalDf.head()\n",
    "\n",
    "plt.scatter(principalDf['pc1'], principalDf['pc2'], cmap = \"jet\", edgecolor = \"None\", alpha=0.35)\n",
    "plt.title('Actual clusters using PC1 and PC2')\n",
    "plt.show()\n",
    "\n",
    "\n",
    "plt.scatter(principalDf['pc1'], principalDf['pc3'], cmap = \"jet\", edgecolor = \"None\", alpha=0.35)\n",
    "plt.title('Actual clusters using PC2 and PC3')\n",
    "plt.show()\n",
    "\n",
    "plt.plot(range(0, 3), pca.explained_variance_ratio_)\n",
    "plt.title('Explained variance (ratio)')\n",
    "plt.show()\n"
   ]
  },
  {
   "cell_type": "markdown",
   "id": "0891582e",
   "metadata": {},
   "source": [
    "We can see that the explained variance drops quickly after the first three PCs. The clusters are not properly separated. Even though PCA reduced dimensionality, it can be difficult to visualize. \n",
    "\n"
   ]
  },
  {
   "cell_type": "markdown",
   "id": "3cd2e770",
   "metadata": {},
   "source": [
    "Next,\n",
    "\n",
    "Let's look at tSNE:\n",
    "\n",
    "A method used to view high-dimensional data as a 2D projection. "
   ]
  },
  {
   "cell_type": "markdown",
   "id": "db5b6316",
   "metadata": {},
   "source": [
    "## tSNE"
   ]
  },
  {
   "cell_type": "markdown",
   "id": "eafbe2ab",
   "metadata": {},
   "source": [
    "Now , we try tSNE on the dataset.\n",
    "1. Run TSNE with default perplexity on the data set. Run tSNE several times. Does tSNE always give the same results when the parameters are held the same?\n",
    "2. Vary the perplexity parameter and compare the results.\n",
    "3. Color the plot by the diagnosis of each point. Pick a nice result to work with in the following exercises\n"
   ]
  },
  {
   "cell_type": "markdown",
   "id": "83d47ad5",
   "metadata": {},
   "source": [
    "##### Creating a 2D visualization to visualize the clusters"
   ]
  },
  {
   "cell_type": "code",
   "execution_count": 64,
   "id": "6fc96f67",
   "metadata": {},
   "outputs": [
    {
     "name": "stderr",
     "output_type": "stream",
     "text": [
      "C:\\Users\\Farimah\\anaconda3\\lib\\site-packages\\sklearn\\manifold\\_t_sne.py:795: FutureWarning:\n",
      "\n",
      "The default initialization in TSNE will change from 'random' to 'pca' in 1.2.\n",
      "\n",
      "C:\\Users\\Farimah\\anaconda3\\lib\\site-packages\\sklearn\\manifold\\_t_sne.py:805: FutureWarning:\n",
      "\n",
      "The default learning rate in TSNE will change from 200.0 to 'auto' in 1.2.\n",
      "\n"
     ]
    },
    {
     "name": "stdout",
     "output_type": "stream",
     "text": [
      "[t-SNE] Computing 16 nearest neighbors...\n",
      "[t-SNE] Indexed 165 samples in 0.001s...\n",
      "[t-SNE] Computed neighbors for 165 samples in 0.142s...\n",
      "[t-SNE] Computed conditional probabilities for sample 165 / 165\n",
      "[t-SNE] Mean sigma: 11.703381\n",
      "[t-SNE] KL divergence after 250 iterations with early exaggeration: 62.285706\n",
      "[t-SNE] KL divergence after 3000 iterations: 0.211376\n"
     ]
    }
   ],
   "source": [
    "#Creating a 2D visualization to visualize the clusters\n",
    "from sklearn.manifold import TSNE\n",
    "tsne = TSNE(verbose=1, perplexity=5, n_iter= 3000)\n",
    "Y = tsne.fit_transform(X)\n"
   ]
  },
  {
   "cell_type": "code",
   "execution_count": 65,
   "id": "17f34659",
   "metadata": {},
   "outputs": [
    {
     "data": {
      "application/vnd.plotly.v1+json": {
       "config": {
        "plotlyServerURL": "https://plot.ly"
       },
       "data": [
        {
         "hovertemplate": "color=hosei<br>x=%{x}<br>y=%{y}<extra></extra>",
         "legendgroup": "hosei",
         "marker": {
          "color": "#636efa",
          "symbol": "circle"
         },
         "mode": "markers",
         "name": "hosei",
         "orientation": "v",
         "showlegend": true,
         "type": "scatter",
         "x": [
          -67.27223205566406,
          -68.56813049316406,
          -72.40565490722656,
          -68.96580505371094,
          -64.92704772949219
         ],
         "xaxis": "x",
         "y": [
          8.40735149383545,
          5.052196979522705,
          -54.675594329833984,
          -53.48655319213867,
          -53.85409164428711
         ],
         "yaxis": "y"
        },
        {
         "hovertemplate": "color=rubicunda<br>x=%{x}<br>y=%{y}<extra></extra>",
         "legendgroup": "rubicunda",
         "marker": {
          "color": "#EF553B",
          "symbol": "circle"
         },
         "mode": "markers",
         "name": "rubicunda",
         "orientation": "v",
         "showlegend": true,
         "type": "scatter",
         "x": [
          -67.19023132324219,
          -67.56150817871094,
          -61.43753433227539,
          -71.74285888671875,
          -69.87593841552734,
          -67.77559661865234,
          -68.5856704711914,
          -67.2320556640625
         ],
         "xaxis": "x",
         "y": [
          5.938101291656494,
          4.858958721160889,
          3.0508413314819336,
          -53.60908508300781,
          -54.229862213134766,
          -52.99259567260742,
          -55.11400604248047,
          -54.71678161621094
         ],
         "yaxis": "y"
        },
        {
         "hovertemplate": "color=mitis<br>x=%{x}<br>y=%{y}<extra></extra>",
         "legendgroup": "mitis",
         "marker": {
          "color": "#00cc96",
          "symbol": "circle"
         },
         "mode": "markers",
         "name": "mitis",
         "orientation": "v",
         "showlegend": true,
         "type": "scatter",
         "x": [
          -66.20805358886719,
          -66.19544982910156,
          -64.37088012695312,
          -62.774322509765625,
          -62.07942581176758,
          -59.017250061035156,
          -61.263614654541016,
          -59.51559829711914,
          -60.95121383666992,
          -58.25402069091797
         ],
         "xaxis": "x",
         "y": [
          9.312206268310547,
          10.58822250366211,
          8.127779960632324,
          5.551912307739258,
          4.645066738128662,
          6.0175042152404785,
          7.842515468597412,
          2.732070207595825,
          6.799627304077148,
          1.9125605821609497
         ],
         "yaxis": "y"
        },
        {
         "hovertemplate": "color=talapoin<br>x=%{x}<br>y=%{y}<extra></extra>",
         "legendgroup": "talapoin",
         "marker": {
          "color": "#ab63fa",
          "symbol": "circle"
         },
         "mode": "markers",
         "name": "talapoin",
         "orientation": "v",
         "showlegend": true,
         "type": "scatter",
         "x": [
          -53.327030181884766,
          -52.62757110595703,
          -55.95917510986328,
          -54.3402099609375,
          -54.91550064086914
         ],
         "xaxis": "x",
         "y": [
          -2.067394495010376,
          -2.7042593955993652,
          -3.244302272796631,
          -3.6893160343170166,
          -2.574280261993408
         ],
         "yaxis": "y"
        },
        {
         "hovertemplate": "color=albigena<br>x=%{x}<br>y=%{y}<extra></extra>",
         "legendgroup": "albigena",
         "marker": {
          "color": "#FFA15A",
          "symbol": "circle"
         },
         "mode": "markers",
         "name": "albigena",
         "orientation": "v",
         "showlegend": true,
         "type": "scatter",
         "x": [
          43.91293716430664,
          45.56434631347656,
          44.43137741088867,
          45.54278564453125,
          -58.06019592285156,
          47.24002456665039
         ],
         "xaxis": "x",
         "y": [
          4.66592264175415,
          4.306750774383545,
          5.944072723388672,
          5.796291351318359,
          6.748660087585449,
          4.658692836761475
         ],
         "yaxis": "y"
        },
        {
         "hovertemplate": "color=badius<br>x=%{x}<br>y=%{y}<extra></extra>",
         "legendgroup": "badius",
         "marker": {
          "color": "#19d3f3",
          "symbol": "circle"
         },
         "mode": "markers",
         "name": "badius",
         "orientation": "v",
         "showlegend": true,
         "type": "scatter",
         "x": [
          -63.114349365234375,
          -58.969566345214844,
          -60.326045989990234,
          -58.89076232910156,
          -61.059146881103516,
          -62.84700393676758,
          -56.63621520996094,
          -60.33967971801758,
          -63.82267379760742,
          -58.74723815917969
         ],
         "xaxis": "x",
         "y": [
          -50.27098846435547,
          -53.21603012084961,
          -54.98150634765625,
          -51.92171859741211,
          -50.63301467895508,
          -55.51521301269531,
          -51.49911117553711,
          -51.470062255859375,
          -54.230865478515625,
          -49.77951431274414
         ],
         "yaxis": "y"
        },
        {
         "hovertemplate": "color=patas<br>x=%{x}<br>y=%{y}<extra></extra>",
         "legendgroup": "patas",
         "marker": {
          "color": "#FF6692",
          "symbol": "circle"
         },
         "mode": "markers",
         "name": "patas",
         "orientation": "v",
         "showlegend": true,
         "type": "scatter",
         "x": [
          -15.94211483001709,
          -19.607954025268555,
          -14.93410587310791,
          -14.339755058288574
         ],
         "xaxis": "x",
         "y": [
          44.04446792602539,
          44.24580383300781,
          46.78224563598633,
          47.78934097290039
         ],
         "yaxis": "y"
        },
        {
         "hovertemplate": "color=fascicularis<br>x=%{x}<br>y=%{y}<extra></extra>",
         "legendgroup": "fascicularis",
         "marker": {
          "color": "#B6E880",
          "symbol": "circle"
         },
         "mode": "markers",
         "name": "fascicularis",
         "orientation": "v",
         "showlegend": true,
         "type": "scatter",
         "x": [
          -25.608964920043945,
          -23.98694610595703,
          -24.1577091217041,
          -24.09730339050293,
          -25.02767562866211,
          -20.647640228271484,
          -25.831470489501953,
          -23.20646095275879
         ],
         "xaxis": "x",
         "y": [
          44.14073181152344,
          52.5225944519043,
          43.83741760253906,
          45.91490173339844,
          47.559913635253906,
          44.573158264160156,
          47.096031188964844,
          46.02247619628906
         ],
         "yaxis": "y"
        },
        {
         "hovertemplate": "color=sylvanus<br>x=%{x}<br>y=%{y}<extra></extra>",
         "legendgroup": "sylvanus",
         "marker": {
          "color": "#FF97FF",
          "symbol": "circle"
         },
         "mode": "markers",
         "name": "sylvanus",
         "orientation": "v",
         "showlegend": true,
         "type": "scatter",
         "x": [
          -11.625402450561523,
          -22.411121368408203
         ],
         "xaxis": "x",
         "y": [
          46.3524169921875,
          52.765628814697266
         ],
         "yaxis": "y"
        },
        {
         "hovertemplate": "color=fuscata<br>x=%{x}<br>y=%{y}<extra></extra>",
         "legendgroup": "fuscata",
         "marker": {
          "color": "#FECB52",
          "symbol": "circle"
         },
         "mode": "markers",
         "name": "fuscata",
         "orientation": "v",
         "showlegend": true,
         "type": "scatter",
         "x": [
          -7.714540958404541,
          -12.736572265625
         ],
         "xaxis": "x",
         "y": [
          46.582340240478516,
          45.240257263183594
         ],
         "yaxis": "y"
        },
        {
         "hovertemplate": "color=mulatta<br>x=%{x}<br>y=%{y}<extra></extra>",
         "legendgroup": "mulatta",
         "marker": {
          "color": "#636efa",
          "symbol": "circle"
         },
         "mode": "markers",
         "name": "mulatta",
         "orientation": "v",
         "showlegend": true,
         "type": "scatter",
         "x": [
          -6.371706008911133,
          -6.942054748535156,
          -11.092110633850098
         ],
         "xaxis": "x",
         "y": [
          44.9184455871582,
          45.74961471557617,
          46.952301025390625
         ],
         "yaxis": "y"
        },
        {
         "hovertemplate": "color=cristata<br>x=%{x}<br>y=%{y}<extra></extra>",
         "legendgroup": "cristata",
         "marker": {
          "color": "#EF553B",
          "symbol": "circle"
         },
         "mode": "markers",
         "name": "cristata",
         "orientation": "v",
         "showlegend": true,
         "type": "scatter",
         "x": [
          32.10185623168945,
          33.379066467285156,
          34.216732025146484,
          34.98834991455078,
          36.10258865356445,
          34.964237213134766,
          38.612327575683594,
          41.43663024902344,
          39.718719482421875,
          43.31443405151367,
          13.569958686828613,
          14.56408405303955,
          12.057944297790527,
          15.110859870910645,
          15.259807586669922,
          14.148350715637207,
          15.655069351196289,
          16.311988830566406
         ],
         "xaxis": "x",
         "y": [
          -13.93498706817627,
          -11.956032752990723,
          -13.45644474029541,
          -14.163726806640625,
          -13.139986991882324,
          -12.272778511047363,
          -12.85519790649414,
          -12.154563903808594,
          -13.53770637512207,
          -10.948173522949219,
          -66.34209442138672,
          -65.94524383544922,
          -67.877197265625,
          -67.7586898803711,
          -68.97875213623047,
          -68.76326751708984,
          -70.82606506347656,
          -72.22180938720703
         ],
         "yaxis": "y"
        },
        {
         "hovertemplate": "color=polykomos<br>x=%{x}<br>y=%{y}<extra></extra>",
         "legendgroup": "polykomos",
         "marker": {
          "color": "#00cc96",
          "symbol": "circle"
         },
         "mode": "markers",
         "name": "polykomos",
         "orientation": "v",
         "showlegend": true,
         "type": "scatter",
         "x": [
          46.54282760620117,
          45.43359375,
          45.334007263183594,
          46.2221794128418,
          48.097652435302734,
          45.49031066894531,
          47.86716079711914,
          48.119651794433594,
          48.10273742675781,
          46.4814453125
         ],
         "xaxis": "x",
         "y": [
          -14.808161735534668,
          -11.876564979553223,
          -13.58482837677002,
          -13.148215293884277,
          -12.945712089538574,
          -9.56855297088623,
          -7.041075229644775,
          -6.10614013671875,
          -4.420571804046631,
          2.927436351776123
         ],
         "yaxis": "y"
        },
        {
         "hovertemplate": "color=torquatus<br>x=%{x}<br>y=%{y}<extra></extra>",
         "legendgroup": "torquatus",
         "marker": {
          "color": "#ab63fa",
          "symbol": "circle"
         },
         "mode": "markers",
         "name": "torquatus",
         "orientation": "v",
         "showlegend": true,
         "type": "scatter",
         "x": [
          49.5808219909668,
          59.93022537231445,
          58.81231689453125,
          55.21099090576172,
          59.93238830566406,
          54.65439987182617,
          57.47296905517578,
          57.7788200378418,
          58.64121627807617
         ],
         "xaxis": "x",
         "y": [
          -12.046643257141113,
          -7.079455852508545,
          -5.735372543334961,
          0.8101893067359924,
          -5.2744340896606445,
          1.238368272781372,
          -3.888709783554077,
          -6.414021968841553,
          -4.391815662384033
         ],
         "yaxis": "y"
        },
        {
         "hovertemplate": "color=gelada<br>x=%{x}<br>y=%{y}<extra></extra>",
         "legendgroup": "gelada",
         "marker": {
          "color": "#FFA15A",
          "symbol": "circle"
         },
         "mode": "markers",
         "name": "gelada",
         "orientation": "v",
         "showlegend": true,
         "type": "scatter",
         "x": [
          14.817604064941406
         ],
         "xaxis": "x",
         "y": [
          -49.9789924621582
         ],
         "yaxis": "y"
        },
        {
         "hovertemplate": "color=leucophaeus<br>x=%{x}<br>y=%{y}<extra></extra>",
         "legendgroup": "leucophaeus",
         "marker": {
          "color": "#19d3f3",
          "symbol": "circle"
         },
         "mode": "markers",
         "name": "leucophaeus",
         "orientation": "v",
         "showlegend": true,
         "type": "scatter",
         "x": [
          14.089917182922363,
          15.181281089782715,
          48.803592681884766,
          -23.522729873657227
         ],
         "xaxis": "x",
         "y": [
          -50.81904220581055,
          -50.996952056884766,
          5.749560832977295,
          30.40633201599121
         ],
         "yaxis": "y"
        },
        {
         "hovertemplate": "color=sphinx<br>x=%{x}<br>y=%{y}<extra></extra>",
         "legendgroup": "sphinx",
         "marker": {
          "color": "#FF6692",
          "symbol": "circle"
         },
         "mode": "markers",
         "name": "sphinx",
         "orientation": "v",
         "showlegend": true,
         "type": "scatter",
         "x": [
          6.781274318695068,
          -24.282150268554688
         ],
         "xaxis": "x",
         "y": [
          -49.016754150390625,
          30.045761108398438
         ],
         "yaxis": "y"
        },
        {
         "hovertemplate": "color=anubis<br>x=%{x}<br>y=%{y}<extra></extra>",
         "legendgroup": "anubis",
         "marker": {
          "color": "#B6E880",
          "symbol": "circle"
         },
         "mode": "markers",
         "name": "anubis",
         "orientation": "v",
         "showlegend": true,
         "type": "scatter",
         "x": [
          6.614353656768799,
          5.546589374542236,
          3.0396621227264404,
          0.3635190725326538,
          1.8030918836593628,
          3.344379425048828,
          4.530632495880127,
          0.6294852495193481,
          -23.37881851196289
         ],
         "xaxis": "x",
         "y": [
          -50.86637878417969,
          -50.84038543701172,
          -47.91277313232422,
          -48.1926155090332,
          -48.08283615112305,
          -46.914974212646484,
          -46.7987060546875,
          -46.7925910949707,
          29.104352951049805
         ],
         "yaxis": "y"
        },
        {
         "hovertemplate": "color=larvatus<br>x=%{x}<br>y=%{y}<extra></extra>",
         "legendgroup": "larvatus",
         "marker": {
          "color": "#FF97FF",
          "symbol": "circle"
         },
         "mode": "markers",
         "name": "larvatus",
         "orientation": "v",
         "showlegend": true,
         "type": "scatter",
         "x": [
          20.56117820739746,
          25.908910751342773,
          26.56980323791504,
          27.37008285522461,
          19.85445213317871,
          18.72612953186035,
          17.90471076965332,
          19.218822479248047,
          18.204133987426758
         ],
         "xaxis": "x",
         "y": [
          -32.49567413330078,
          -26.633602142333984,
          -25.998851776123047,
          -25.257366180419922,
          -34.21723556518555,
          -35.06284713745117,
          -34.080257415771484,
          -32.99473190307617,
          -32.4947395324707
         ],
         "yaxis": "y"
        },
        {
         "hovertemplate": "color=syndactylus<br>x=%{x}<br>y=%{y}<extra></extra>",
         "legendgroup": "syndactylus",
         "marker": {
          "color": "#FECB52",
          "symbol": "circle"
         },
         "mode": "markers",
         "name": "syndactylus",
         "orientation": "v",
         "showlegend": true,
         "type": "scatter",
         "x": [
          -15.57143497467041,
          -18.414106369018555
         ],
         "xaxis": "x",
         "y": [
          42.026546478271484,
          37.71367645263672
         ],
         "yaxis": "y"
        },
        {
         "hovertemplate": "color=lar<br>x=%{x}<br>y=%{y}<extra></extra>",
         "legendgroup": "lar",
         "marker": {
          "color": "#636efa",
          "symbol": "circle"
         },
         "mode": "markers",
         "name": "lar",
         "orientation": "v",
         "showlegend": true,
         "type": "scatter",
         "x": [
          -17.182931900024414,
          -15.79800796508789,
          -8.880319595336914,
          -13.432646751403809,
          -9.515201568603516,
          -12.94061279296875,
          -24.755084991455078,
          -10.51773738861084,
          -11.679998397827148,
          -6.9258341789245605,
          -7.706249237060547,
          17.41221046447754,
          17.648033142089844,
          18.857431411743164,
          18.501150131225586,
          19.648468017578125,
          20.584169387817383,
          20.995380401611328
         ],
         "xaxis": "x",
         "y": [
          37.34537124633789,
          37.32469940185547,
          39.08420181274414,
          38.927452087402344,
          37.85816955566406,
          37.34885025024414,
          52.892364501953125,
          37.14236068725586,
          37.918373107910156,
          36.51137161254883,
          35.9276237487793,
          -76.46622467041016,
          -79.3009262084961,
          -79.01734924316406,
          -77.05892181396484,
          -77.83674621582031,
          -79.91817474365234,
          -78.59210968017578
         ],
         "yaxis": "y"
        },
        {
         "hovertemplate": "color=pygmaeus<br>x=%{x}<br>y=%{y}<extra></extra>",
         "legendgroup": "pygmaeus",
         "marker": {
          "color": "#EF553B",
          "symbol": "circle"
         },
         "mode": "markers",
         "name": "pygmaeus",
         "orientation": "v",
         "showlegend": true,
         "type": "scatter",
         "x": [
          34.442996978759766,
          8.427918434143066
         ],
         "xaxis": "x",
         "y": [
          72.41900634765625,
          -52.33345031738281
         ],
         "yaxis": "y"
        },
        {
         "hovertemplate": "color=troglodytes<br>x=%{x}<br>y=%{y}<extra></extra>",
         "legendgroup": "troglodytes",
         "marker": {
          "color": "#00cc96",
          "symbol": "circle"
         },
         "mode": "markers",
         "name": "troglodytes",
         "orientation": "v",
         "showlegend": true,
         "type": "scatter",
         "x": [
          35.41850280761719,
          39.52070617675781,
          40.304073333740234,
          39.79254913330078,
          37.60464859008789,
          36.790802001953125,
          39.463863372802734,
          37.056156158447266,
          33.268524169921875
         ],
         "xaxis": "x",
         "y": [
          73.80557250976562,
          69.05268096923828,
          69.21849060058594,
          66.47274780273438,
          69.88994598388672,
          67.55867004394531,
          65.5972671508789,
          68.36532592773438,
          74.40147399902344
         ],
         "yaxis": "y"
        },
        {
         "hovertemplate": "color=paniscus<br>x=%{x}<br>y=%{y}<extra></extra>",
         "legendgroup": "paniscus",
         "marker": {
          "color": "#ab63fa",
          "symbol": "circle"
         },
         "mode": "markers",
         "name": "paniscus",
         "orientation": "v",
         "showlegend": true,
         "type": "scatter",
         "x": [
          33.69625473022461,
          31.356767654418945,
          31.604101181030273
         ],
         "xaxis": "x",
         "y": [
          73.32785034179688,
          72.8522720336914,
          74.05286407470703
         ],
         "yaxis": "y"
        },
        {
         "hovertemplate": "color=gorilla<br>x=%{x}<br>y=%{y}<extra></extra>",
         "legendgroup": "gorilla",
         "marker": {
          "color": "#FFA15A",
          "symbol": "circle"
         },
         "mode": "markers",
         "name": "gorilla",
         "orientation": "v",
         "showlegend": true,
         "type": "scatter",
         "x": [
          30.029132843017578,
          30.467906951904297,
          31.0596923828125,
          31.0997257232666,
          30.68779754638672,
          30.7318115234375
         ],
         "xaxis": "x",
         "y": [
          84.79265594482422,
          83.10133361816406,
          84.25443267822266,
          85.51490783691406,
          79.03754425048828,
          79.77434539794922
         ],
         "yaxis": "y"
        }
       ],
       "layout": {
        "legend": {
         "title": {
          "text": "color"
         },
         "tracegroupgap": 0
        },
        "template": {
         "data": {
          "bar": [
           {
            "error_x": {
             "color": "#2a3f5f"
            },
            "error_y": {
             "color": "#2a3f5f"
            },
            "marker": {
             "line": {
              "color": "#E5ECF6",
              "width": 0.5
             },
             "pattern": {
              "fillmode": "overlay",
              "size": 10,
              "solidity": 0.2
             }
            },
            "type": "bar"
           }
          ],
          "barpolar": [
           {
            "marker": {
             "line": {
              "color": "#E5ECF6",
              "width": 0.5
             },
             "pattern": {
              "fillmode": "overlay",
              "size": 10,
              "solidity": 0.2
             }
            },
            "type": "barpolar"
           }
          ],
          "carpet": [
           {
            "aaxis": {
             "endlinecolor": "#2a3f5f",
             "gridcolor": "white",
             "linecolor": "white",
             "minorgridcolor": "white",
             "startlinecolor": "#2a3f5f"
            },
            "baxis": {
             "endlinecolor": "#2a3f5f",
             "gridcolor": "white",
             "linecolor": "white",
             "minorgridcolor": "white",
             "startlinecolor": "#2a3f5f"
            },
            "type": "carpet"
           }
          ],
          "choropleth": [
           {
            "colorbar": {
             "outlinewidth": 0,
             "ticks": ""
            },
            "type": "choropleth"
           }
          ],
          "contour": [
           {
            "colorbar": {
             "outlinewidth": 0,
             "ticks": ""
            },
            "colorscale": [
             [
              0,
              "#0d0887"
             ],
             [
              0.1111111111111111,
              "#46039f"
             ],
             [
              0.2222222222222222,
              "#7201a8"
             ],
             [
              0.3333333333333333,
              "#9c179e"
             ],
             [
              0.4444444444444444,
              "#bd3786"
             ],
             [
              0.5555555555555556,
              "#d8576b"
             ],
             [
              0.6666666666666666,
              "#ed7953"
             ],
             [
              0.7777777777777778,
              "#fb9f3a"
             ],
             [
              0.8888888888888888,
              "#fdca26"
             ],
             [
              1,
              "#f0f921"
             ]
            ],
            "type": "contour"
           }
          ],
          "contourcarpet": [
           {
            "colorbar": {
             "outlinewidth": 0,
             "ticks": ""
            },
            "type": "contourcarpet"
           }
          ],
          "heatmap": [
           {
            "colorbar": {
             "outlinewidth": 0,
             "ticks": ""
            },
            "colorscale": [
             [
              0,
              "#0d0887"
             ],
             [
              0.1111111111111111,
              "#46039f"
             ],
             [
              0.2222222222222222,
              "#7201a8"
             ],
             [
              0.3333333333333333,
              "#9c179e"
             ],
             [
              0.4444444444444444,
              "#bd3786"
             ],
             [
              0.5555555555555556,
              "#d8576b"
             ],
             [
              0.6666666666666666,
              "#ed7953"
             ],
             [
              0.7777777777777778,
              "#fb9f3a"
             ],
             [
              0.8888888888888888,
              "#fdca26"
             ],
             [
              1,
              "#f0f921"
             ]
            ],
            "type": "heatmap"
           }
          ],
          "heatmapgl": [
           {
            "colorbar": {
             "outlinewidth": 0,
             "ticks": ""
            },
            "colorscale": [
             [
              0,
              "#0d0887"
             ],
             [
              0.1111111111111111,
              "#46039f"
             ],
             [
              0.2222222222222222,
              "#7201a8"
             ],
             [
              0.3333333333333333,
              "#9c179e"
             ],
             [
              0.4444444444444444,
              "#bd3786"
             ],
             [
              0.5555555555555556,
              "#d8576b"
             ],
             [
              0.6666666666666666,
              "#ed7953"
             ],
             [
              0.7777777777777778,
              "#fb9f3a"
             ],
             [
              0.8888888888888888,
              "#fdca26"
             ],
             [
              1,
              "#f0f921"
             ]
            ],
            "type": "heatmapgl"
           }
          ],
          "histogram": [
           {
            "marker": {
             "pattern": {
              "fillmode": "overlay",
              "size": 10,
              "solidity": 0.2
             }
            },
            "type": "histogram"
           }
          ],
          "histogram2d": [
           {
            "colorbar": {
             "outlinewidth": 0,
             "ticks": ""
            },
            "colorscale": [
             [
              0,
              "#0d0887"
             ],
             [
              0.1111111111111111,
              "#46039f"
             ],
             [
              0.2222222222222222,
              "#7201a8"
             ],
             [
              0.3333333333333333,
              "#9c179e"
             ],
             [
              0.4444444444444444,
              "#bd3786"
             ],
             [
              0.5555555555555556,
              "#d8576b"
             ],
             [
              0.6666666666666666,
              "#ed7953"
             ],
             [
              0.7777777777777778,
              "#fb9f3a"
             ],
             [
              0.8888888888888888,
              "#fdca26"
             ],
             [
              1,
              "#f0f921"
             ]
            ],
            "type": "histogram2d"
           }
          ],
          "histogram2dcontour": [
           {
            "colorbar": {
             "outlinewidth": 0,
             "ticks": ""
            },
            "colorscale": [
             [
              0,
              "#0d0887"
             ],
             [
              0.1111111111111111,
              "#46039f"
             ],
             [
              0.2222222222222222,
              "#7201a8"
             ],
             [
              0.3333333333333333,
              "#9c179e"
             ],
             [
              0.4444444444444444,
              "#bd3786"
             ],
             [
              0.5555555555555556,
              "#d8576b"
             ],
             [
              0.6666666666666666,
              "#ed7953"
             ],
             [
              0.7777777777777778,
              "#fb9f3a"
             ],
             [
              0.8888888888888888,
              "#fdca26"
             ],
             [
              1,
              "#f0f921"
             ]
            ],
            "type": "histogram2dcontour"
           }
          ],
          "mesh3d": [
           {
            "colorbar": {
             "outlinewidth": 0,
             "ticks": ""
            },
            "type": "mesh3d"
           }
          ],
          "parcoords": [
           {
            "line": {
             "colorbar": {
              "outlinewidth": 0,
              "ticks": ""
             }
            },
            "type": "parcoords"
           }
          ],
          "pie": [
           {
            "automargin": true,
            "type": "pie"
           }
          ],
          "scatter": [
           {
            "fillpattern": {
             "fillmode": "overlay",
             "size": 10,
             "solidity": 0.2
            },
            "type": "scatter"
           }
          ],
          "scatter3d": [
           {
            "line": {
             "colorbar": {
              "outlinewidth": 0,
              "ticks": ""
             }
            },
            "marker": {
             "colorbar": {
              "outlinewidth": 0,
              "ticks": ""
             }
            },
            "type": "scatter3d"
           }
          ],
          "scattercarpet": [
           {
            "marker": {
             "colorbar": {
              "outlinewidth": 0,
              "ticks": ""
             }
            },
            "type": "scattercarpet"
           }
          ],
          "scattergeo": [
           {
            "marker": {
             "colorbar": {
              "outlinewidth": 0,
              "ticks": ""
             }
            },
            "type": "scattergeo"
           }
          ],
          "scattergl": [
           {
            "marker": {
             "colorbar": {
              "outlinewidth": 0,
              "ticks": ""
             }
            },
            "type": "scattergl"
           }
          ],
          "scattermapbox": [
           {
            "marker": {
             "colorbar": {
              "outlinewidth": 0,
              "ticks": ""
             }
            },
            "type": "scattermapbox"
           }
          ],
          "scatterpolar": [
           {
            "marker": {
             "colorbar": {
              "outlinewidth": 0,
              "ticks": ""
             }
            },
            "type": "scatterpolar"
           }
          ],
          "scatterpolargl": [
           {
            "marker": {
             "colorbar": {
              "outlinewidth": 0,
              "ticks": ""
             }
            },
            "type": "scatterpolargl"
           }
          ],
          "scatterternary": [
           {
            "marker": {
             "colorbar": {
              "outlinewidth": 0,
              "ticks": ""
             }
            },
            "type": "scatterternary"
           }
          ],
          "surface": [
           {
            "colorbar": {
             "outlinewidth": 0,
             "ticks": ""
            },
            "colorscale": [
             [
              0,
              "#0d0887"
             ],
             [
              0.1111111111111111,
              "#46039f"
             ],
             [
              0.2222222222222222,
              "#7201a8"
             ],
             [
              0.3333333333333333,
              "#9c179e"
             ],
             [
              0.4444444444444444,
              "#bd3786"
             ],
             [
              0.5555555555555556,
              "#d8576b"
             ],
             [
              0.6666666666666666,
              "#ed7953"
             ],
             [
              0.7777777777777778,
              "#fb9f3a"
             ],
             [
              0.8888888888888888,
              "#fdca26"
             ],
             [
              1,
              "#f0f921"
             ]
            ],
            "type": "surface"
           }
          ],
          "table": [
           {
            "cells": {
             "fill": {
              "color": "#EBF0F8"
             },
             "line": {
              "color": "white"
             }
            },
            "header": {
             "fill": {
              "color": "#C8D4E3"
             },
             "line": {
              "color": "white"
             }
            },
            "type": "table"
           }
          ]
         },
         "layout": {
          "annotationdefaults": {
           "arrowcolor": "#2a3f5f",
           "arrowhead": 0,
           "arrowwidth": 1
          },
          "autotypenumbers": "strict",
          "coloraxis": {
           "colorbar": {
            "outlinewidth": 0,
            "ticks": ""
           }
          },
          "colorscale": {
           "diverging": [
            [
             0,
             "#8e0152"
            ],
            [
             0.1,
             "#c51b7d"
            ],
            [
             0.2,
             "#de77ae"
            ],
            [
             0.3,
             "#f1b6da"
            ],
            [
             0.4,
             "#fde0ef"
            ],
            [
             0.5,
             "#f7f7f7"
            ],
            [
             0.6,
             "#e6f5d0"
            ],
            [
             0.7,
             "#b8e186"
            ],
            [
             0.8,
             "#7fbc41"
            ],
            [
             0.9,
             "#4d9221"
            ],
            [
             1,
             "#276419"
            ]
           ],
           "sequential": [
            [
             0,
             "#0d0887"
            ],
            [
             0.1111111111111111,
             "#46039f"
            ],
            [
             0.2222222222222222,
             "#7201a8"
            ],
            [
             0.3333333333333333,
             "#9c179e"
            ],
            [
             0.4444444444444444,
             "#bd3786"
            ],
            [
             0.5555555555555556,
             "#d8576b"
            ],
            [
             0.6666666666666666,
             "#ed7953"
            ],
            [
             0.7777777777777778,
             "#fb9f3a"
            ],
            [
             0.8888888888888888,
             "#fdca26"
            ],
            [
             1,
             "#f0f921"
            ]
           ],
           "sequentialminus": [
            [
             0,
             "#0d0887"
            ],
            [
             0.1111111111111111,
             "#46039f"
            ],
            [
             0.2222222222222222,
             "#7201a8"
            ],
            [
             0.3333333333333333,
             "#9c179e"
            ],
            [
             0.4444444444444444,
             "#bd3786"
            ],
            [
             0.5555555555555556,
             "#d8576b"
            ],
            [
             0.6666666666666666,
             "#ed7953"
            ],
            [
             0.7777777777777778,
             "#fb9f3a"
            ],
            [
             0.8888888888888888,
             "#fdca26"
            ],
            [
             1,
             "#f0f921"
            ]
           ]
          },
          "colorway": [
           "#636efa",
           "#EF553B",
           "#00cc96",
           "#ab63fa",
           "#FFA15A",
           "#19d3f3",
           "#FF6692",
           "#B6E880",
           "#FF97FF",
           "#FECB52"
          ],
          "font": {
           "color": "#2a3f5f"
          },
          "geo": {
           "bgcolor": "white",
           "lakecolor": "white",
           "landcolor": "#E5ECF6",
           "showlakes": true,
           "showland": true,
           "subunitcolor": "white"
          },
          "hoverlabel": {
           "align": "left"
          },
          "hovermode": "closest",
          "mapbox": {
           "style": "light"
          },
          "paper_bgcolor": "white",
          "plot_bgcolor": "#E5ECF6",
          "polar": {
           "angularaxis": {
            "gridcolor": "white",
            "linecolor": "white",
            "ticks": ""
           },
           "bgcolor": "#E5ECF6",
           "radialaxis": {
            "gridcolor": "white",
            "linecolor": "white",
            "ticks": ""
           }
          },
          "scene": {
           "xaxis": {
            "backgroundcolor": "#E5ECF6",
            "gridcolor": "white",
            "gridwidth": 2,
            "linecolor": "white",
            "showbackground": true,
            "ticks": "",
            "zerolinecolor": "white"
           },
           "yaxis": {
            "backgroundcolor": "#E5ECF6",
            "gridcolor": "white",
            "gridwidth": 2,
            "linecolor": "white",
            "showbackground": true,
            "ticks": "",
            "zerolinecolor": "white"
           },
           "zaxis": {
            "backgroundcolor": "#E5ECF6",
            "gridcolor": "white",
            "gridwidth": 2,
            "linecolor": "white",
            "showbackground": true,
            "ticks": "",
            "zerolinecolor": "white"
           }
          },
          "shapedefaults": {
           "line": {
            "color": "#2a3f5f"
           }
          },
          "ternary": {
           "aaxis": {
            "gridcolor": "white",
            "linecolor": "white",
            "ticks": ""
           },
           "baxis": {
            "gridcolor": "white",
            "linecolor": "white",
            "ticks": ""
           },
           "bgcolor": "#E5ECF6",
           "caxis": {
            "gridcolor": "white",
            "linecolor": "white",
            "ticks": ""
           }
          },
          "title": {
           "x": 0.05
          },
          "xaxis": {
           "automargin": true,
           "gridcolor": "white",
           "linecolor": "white",
           "ticks": "",
           "title": {
            "standoff": 15
           },
           "zerolinecolor": "white",
           "zerolinewidth": 2
          },
          "yaxis": {
           "automargin": true,
           "gridcolor": "white",
           "linecolor": "white",
           "ticks": "",
           "title": {
            "standoff": 15
           },
           "zerolinecolor": "white",
           "zerolinewidth": 2
          }
         }
        },
        "title": {
         "text": "tSNE colored by actual clusters"
        },
        "xaxis": {
         "anchor": "y",
         "domain": [
          0,
          1
         ],
         "title": {
          "text": "x"
         }
        },
        "yaxis": {
         "anchor": "x",
         "domain": [
          0,
          1
         ],
         "title": {
          "text": "y"
         }
        }
       }
      },
      "text/html": [
       "<div>                            <div id=\"d5350e9f-6adc-4c69-beb0-afa1bf38cb88\" class=\"plotly-graph-div\" style=\"height:525px; width:100%;\"></div>            <script type=\"text/javascript\">                require([\"plotly\"], function(Plotly) {                    window.PLOTLYENV=window.PLOTLYENV || {};                                    if (document.getElementById(\"d5350e9f-6adc-4c69-beb0-afa1bf38cb88\")) {                    Plotly.newPlot(                        \"d5350e9f-6adc-4c69-beb0-afa1bf38cb88\",                        [{\"hovertemplate\":\"color=hosei<br>x=%{x}<br>y=%{y}<extra></extra>\",\"legendgroup\":\"hosei\",\"marker\":{\"color\":\"#636efa\",\"symbol\":\"circle\"},\"mode\":\"markers\",\"name\":\"hosei\",\"orientation\":\"v\",\"showlegend\":true,\"x\":[-67.27223205566406,-68.56813049316406,-72.40565490722656,-68.96580505371094,-64.92704772949219],\"xaxis\":\"x\",\"y\":[8.40735149383545,5.052196979522705,-54.675594329833984,-53.48655319213867,-53.85409164428711],\"yaxis\":\"y\",\"type\":\"scatter\"},{\"hovertemplate\":\"color=rubicunda<br>x=%{x}<br>y=%{y}<extra></extra>\",\"legendgroup\":\"rubicunda\",\"marker\":{\"color\":\"#EF553B\",\"symbol\":\"circle\"},\"mode\":\"markers\",\"name\":\"rubicunda\",\"orientation\":\"v\",\"showlegend\":true,\"x\":[-67.19023132324219,-67.56150817871094,-61.43753433227539,-71.74285888671875,-69.87593841552734,-67.77559661865234,-68.5856704711914,-67.2320556640625],\"xaxis\":\"x\",\"y\":[5.938101291656494,4.858958721160889,3.0508413314819336,-53.60908508300781,-54.229862213134766,-52.99259567260742,-55.11400604248047,-54.71678161621094],\"yaxis\":\"y\",\"type\":\"scatter\"},{\"hovertemplate\":\"color=mitis<br>x=%{x}<br>y=%{y}<extra></extra>\",\"legendgroup\":\"mitis\",\"marker\":{\"color\":\"#00cc96\",\"symbol\":\"circle\"},\"mode\":\"markers\",\"name\":\"mitis\",\"orientation\":\"v\",\"showlegend\":true,\"x\":[-66.20805358886719,-66.19544982910156,-64.37088012695312,-62.774322509765625,-62.07942581176758,-59.017250061035156,-61.263614654541016,-59.51559829711914,-60.95121383666992,-58.25402069091797],\"xaxis\":\"x\",\"y\":[9.312206268310547,10.58822250366211,8.127779960632324,5.551912307739258,4.645066738128662,6.0175042152404785,7.842515468597412,2.732070207595825,6.799627304077148,1.9125605821609497],\"yaxis\":\"y\",\"type\":\"scatter\"},{\"hovertemplate\":\"color=talapoin<br>x=%{x}<br>y=%{y}<extra></extra>\",\"legendgroup\":\"talapoin\",\"marker\":{\"color\":\"#ab63fa\",\"symbol\":\"circle\"},\"mode\":\"markers\",\"name\":\"talapoin\",\"orientation\":\"v\",\"showlegend\":true,\"x\":[-53.327030181884766,-52.62757110595703,-55.95917510986328,-54.3402099609375,-54.91550064086914],\"xaxis\":\"x\",\"y\":[-2.067394495010376,-2.7042593955993652,-3.244302272796631,-3.6893160343170166,-2.574280261993408],\"yaxis\":\"y\",\"type\":\"scatter\"},{\"hovertemplate\":\"color=albigena<br>x=%{x}<br>y=%{y}<extra></extra>\",\"legendgroup\":\"albigena\",\"marker\":{\"color\":\"#FFA15A\",\"symbol\":\"circle\"},\"mode\":\"markers\",\"name\":\"albigena\",\"orientation\":\"v\",\"showlegend\":true,\"x\":[43.91293716430664,45.56434631347656,44.43137741088867,45.54278564453125,-58.06019592285156,47.24002456665039],\"xaxis\":\"x\",\"y\":[4.66592264175415,4.306750774383545,5.944072723388672,5.796291351318359,6.748660087585449,4.658692836761475],\"yaxis\":\"y\",\"type\":\"scatter\"},{\"hovertemplate\":\"color=badius<br>x=%{x}<br>y=%{y}<extra></extra>\",\"legendgroup\":\"badius\",\"marker\":{\"color\":\"#19d3f3\",\"symbol\":\"circle\"},\"mode\":\"markers\",\"name\":\"badius\",\"orientation\":\"v\",\"showlegend\":true,\"x\":[-63.114349365234375,-58.969566345214844,-60.326045989990234,-58.89076232910156,-61.059146881103516,-62.84700393676758,-56.63621520996094,-60.33967971801758,-63.82267379760742,-58.74723815917969],\"xaxis\":\"x\",\"y\":[-50.27098846435547,-53.21603012084961,-54.98150634765625,-51.92171859741211,-50.63301467895508,-55.51521301269531,-51.49911117553711,-51.470062255859375,-54.230865478515625,-49.77951431274414],\"yaxis\":\"y\",\"type\":\"scatter\"},{\"hovertemplate\":\"color=patas<br>x=%{x}<br>y=%{y}<extra></extra>\",\"legendgroup\":\"patas\",\"marker\":{\"color\":\"#FF6692\",\"symbol\":\"circle\"},\"mode\":\"markers\",\"name\":\"patas\",\"orientation\":\"v\",\"showlegend\":true,\"x\":[-15.94211483001709,-19.607954025268555,-14.93410587310791,-14.339755058288574],\"xaxis\":\"x\",\"y\":[44.04446792602539,44.24580383300781,46.78224563598633,47.78934097290039],\"yaxis\":\"y\",\"type\":\"scatter\"},{\"hovertemplate\":\"color=fascicularis<br>x=%{x}<br>y=%{y}<extra></extra>\",\"legendgroup\":\"fascicularis\",\"marker\":{\"color\":\"#B6E880\",\"symbol\":\"circle\"},\"mode\":\"markers\",\"name\":\"fascicularis\",\"orientation\":\"v\",\"showlegend\":true,\"x\":[-25.608964920043945,-23.98694610595703,-24.1577091217041,-24.09730339050293,-25.02767562866211,-20.647640228271484,-25.831470489501953,-23.20646095275879],\"xaxis\":\"x\",\"y\":[44.14073181152344,52.5225944519043,43.83741760253906,45.91490173339844,47.559913635253906,44.573158264160156,47.096031188964844,46.02247619628906],\"yaxis\":\"y\",\"type\":\"scatter\"},{\"hovertemplate\":\"color=sylvanus<br>x=%{x}<br>y=%{y}<extra></extra>\",\"legendgroup\":\"sylvanus\",\"marker\":{\"color\":\"#FF97FF\",\"symbol\":\"circle\"},\"mode\":\"markers\",\"name\":\"sylvanus\",\"orientation\":\"v\",\"showlegend\":true,\"x\":[-11.625402450561523,-22.411121368408203],\"xaxis\":\"x\",\"y\":[46.3524169921875,52.765628814697266],\"yaxis\":\"y\",\"type\":\"scatter\"},{\"hovertemplate\":\"color=fuscata<br>x=%{x}<br>y=%{y}<extra></extra>\",\"legendgroup\":\"fuscata\",\"marker\":{\"color\":\"#FECB52\",\"symbol\":\"circle\"},\"mode\":\"markers\",\"name\":\"fuscata\",\"orientation\":\"v\",\"showlegend\":true,\"x\":[-7.714540958404541,-12.736572265625],\"xaxis\":\"x\",\"y\":[46.582340240478516,45.240257263183594],\"yaxis\":\"y\",\"type\":\"scatter\"},{\"hovertemplate\":\"color=mulatta<br>x=%{x}<br>y=%{y}<extra></extra>\",\"legendgroup\":\"mulatta\",\"marker\":{\"color\":\"#636efa\",\"symbol\":\"circle\"},\"mode\":\"markers\",\"name\":\"mulatta\",\"orientation\":\"v\",\"showlegend\":true,\"x\":[-6.371706008911133,-6.942054748535156,-11.092110633850098],\"xaxis\":\"x\",\"y\":[44.9184455871582,45.74961471557617,46.952301025390625],\"yaxis\":\"y\",\"type\":\"scatter\"},{\"hovertemplate\":\"color=cristata<br>x=%{x}<br>y=%{y}<extra></extra>\",\"legendgroup\":\"cristata\",\"marker\":{\"color\":\"#EF553B\",\"symbol\":\"circle\"},\"mode\":\"markers\",\"name\":\"cristata\",\"orientation\":\"v\",\"showlegend\":true,\"x\":[32.10185623168945,33.379066467285156,34.216732025146484,34.98834991455078,36.10258865356445,34.964237213134766,38.612327575683594,41.43663024902344,39.718719482421875,43.31443405151367,13.569958686828613,14.56408405303955,12.057944297790527,15.110859870910645,15.259807586669922,14.148350715637207,15.655069351196289,16.311988830566406],\"xaxis\":\"x\",\"y\":[-13.93498706817627,-11.956032752990723,-13.45644474029541,-14.163726806640625,-13.139986991882324,-12.272778511047363,-12.85519790649414,-12.154563903808594,-13.53770637512207,-10.948173522949219,-66.34209442138672,-65.94524383544922,-67.877197265625,-67.7586898803711,-68.97875213623047,-68.76326751708984,-70.82606506347656,-72.22180938720703],\"yaxis\":\"y\",\"type\":\"scatter\"},{\"hovertemplate\":\"color=polykomos<br>x=%{x}<br>y=%{y}<extra></extra>\",\"legendgroup\":\"polykomos\",\"marker\":{\"color\":\"#00cc96\",\"symbol\":\"circle\"},\"mode\":\"markers\",\"name\":\"polykomos\",\"orientation\":\"v\",\"showlegend\":true,\"x\":[46.54282760620117,45.43359375,45.334007263183594,46.2221794128418,48.097652435302734,45.49031066894531,47.86716079711914,48.119651794433594,48.10273742675781,46.4814453125],\"xaxis\":\"x\",\"y\":[-14.808161735534668,-11.876564979553223,-13.58482837677002,-13.148215293884277,-12.945712089538574,-9.56855297088623,-7.041075229644775,-6.10614013671875,-4.420571804046631,2.927436351776123],\"yaxis\":\"y\",\"type\":\"scatter\"},{\"hovertemplate\":\"color=torquatus<br>x=%{x}<br>y=%{y}<extra></extra>\",\"legendgroup\":\"torquatus\",\"marker\":{\"color\":\"#ab63fa\",\"symbol\":\"circle\"},\"mode\":\"markers\",\"name\":\"torquatus\",\"orientation\":\"v\",\"showlegend\":true,\"x\":[49.5808219909668,59.93022537231445,58.81231689453125,55.21099090576172,59.93238830566406,54.65439987182617,57.47296905517578,57.7788200378418,58.64121627807617],\"xaxis\":\"x\",\"y\":[-12.046643257141113,-7.079455852508545,-5.735372543334961,0.8101893067359924,-5.2744340896606445,1.238368272781372,-3.888709783554077,-6.414021968841553,-4.391815662384033],\"yaxis\":\"y\",\"type\":\"scatter\"},{\"hovertemplate\":\"color=gelada<br>x=%{x}<br>y=%{y}<extra></extra>\",\"legendgroup\":\"gelada\",\"marker\":{\"color\":\"#FFA15A\",\"symbol\":\"circle\"},\"mode\":\"markers\",\"name\":\"gelada\",\"orientation\":\"v\",\"showlegend\":true,\"x\":[14.817604064941406],\"xaxis\":\"x\",\"y\":[-49.9789924621582],\"yaxis\":\"y\",\"type\":\"scatter\"},{\"hovertemplate\":\"color=leucophaeus<br>x=%{x}<br>y=%{y}<extra></extra>\",\"legendgroup\":\"leucophaeus\",\"marker\":{\"color\":\"#19d3f3\",\"symbol\":\"circle\"},\"mode\":\"markers\",\"name\":\"leucophaeus\",\"orientation\":\"v\",\"showlegend\":true,\"x\":[14.089917182922363,15.181281089782715,48.803592681884766,-23.522729873657227],\"xaxis\":\"x\",\"y\":[-50.81904220581055,-50.996952056884766,5.749560832977295,30.40633201599121],\"yaxis\":\"y\",\"type\":\"scatter\"},{\"hovertemplate\":\"color=sphinx<br>x=%{x}<br>y=%{y}<extra></extra>\",\"legendgroup\":\"sphinx\",\"marker\":{\"color\":\"#FF6692\",\"symbol\":\"circle\"},\"mode\":\"markers\",\"name\":\"sphinx\",\"orientation\":\"v\",\"showlegend\":true,\"x\":[6.781274318695068,-24.282150268554688],\"xaxis\":\"x\",\"y\":[-49.016754150390625,30.045761108398438],\"yaxis\":\"y\",\"type\":\"scatter\"},{\"hovertemplate\":\"color=anubis<br>x=%{x}<br>y=%{y}<extra></extra>\",\"legendgroup\":\"anubis\",\"marker\":{\"color\":\"#B6E880\",\"symbol\":\"circle\"},\"mode\":\"markers\",\"name\":\"anubis\",\"orientation\":\"v\",\"showlegend\":true,\"x\":[6.614353656768799,5.546589374542236,3.0396621227264404,0.3635190725326538,1.8030918836593628,3.344379425048828,4.530632495880127,0.6294852495193481,-23.37881851196289],\"xaxis\":\"x\",\"y\":[-50.86637878417969,-50.84038543701172,-47.91277313232422,-48.1926155090332,-48.08283615112305,-46.914974212646484,-46.7987060546875,-46.7925910949707,29.104352951049805],\"yaxis\":\"y\",\"type\":\"scatter\"},{\"hovertemplate\":\"color=larvatus<br>x=%{x}<br>y=%{y}<extra></extra>\",\"legendgroup\":\"larvatus\",\"marker\":{\"color\":\"#FF97FF\",\"symbol\":\"circle\"},\"mode\":\"markers\",\"name\":\"larvatus\",\"orientation\":\"v\",\"showlegend\":true,\"x\":[20.56117820739746,25.908910751342773,26.56980323791504,27.37008285522461,19.85445213317871,18.72612953186035,17.90471076965332,19.218822479248047,18.204133987426758],\"xaxis\":\"x\",\"y\":[-32.49567413330078,-26.633602142333984,-25.998851776123047,-25.257366180419922,-34.21723556518555,-35.06284713745117,-34.080257415771484,-32.99473190307617,-32.4947395324707],\"yaxis\":\"y\",\"type\":\"scatter\"},{\"hovertemplate\":\"color=syndactylus<br>x=%{x}<br>y=%{y}<extra></extra>\",\"legendgroup\":\"syndactylus\",\"marker\":{\"color\":\"#FECB52\",\"symbol\":\"circle\"},\"mode\":\"markers\",\"name\":\"syndactylus\",\"orientation\":\"v\",\"showlegend\":true,\"x\":[-15.57143497467041,-18.414106369018555],\"xaxis\":\"x\",\"y\":[42.026546478271484,37.71367645263672],\"yaxis\":\"y\",\"type\":\"scatter\"},{\"hovertemplate\":\"color=lar<br>x=%{x}<br>y=%{y}<extra></extra>\",\"legendgroup\":\"lar\",\"marker\":{\"color\":\"#636efa\",\"symbol\":\"circle\"},\"mode\":\"markers\",\"name\":\"lar\",\"orientation\":\"v\",\"showlegend\":true,\"x\":[-17.182931900024414,-15.79800796508789,-8.880319595336914,-13.432646751403809,-9.515201568603516,-12.94061279296875,-24.755084991455078,-10.51773738861084,-11.679998397827148,-6.9258341789245605,-7.706249237060547,17.41221046447754,17.648033142089844,18.857431411743164,18.501150131225586,19.648468017578125,20.584169387817383,20.995380401611328],\"xaxis\":\"x\",\"y\":[37.34537124633789,37.32469940185547,39.08420181274414,38.927452087402344,37.85816955566406,37.34885025024414,52.892364501953125,37.14236068725586,37.918373107910156,36.51137161254883,35.9276237487793,-76.46622467041016,-79.3009262084961,-79.01734924316406,-77.05892181396484,-77.83674621582031,-79.91817474365234,-78.59210968017578],\"yaxis\":\"y\",\"type\":\"scatter\"},{\"hovertemplate\":\"color=pygmaeus<br>x=%{x}<br>y=%{y}<extra></extra>\",\"legendgroup\":\"pygmaeus\",\"marker\":{\"color\":\"#EF553B\",\"symbol\":\"circle\"},\"mode\":\"markers\",\"name\":\"pygmaeus\",\"orientation\":\"v\",\"showlegend\":true,\"x\":[34.442996978759766,8.427918434143066],\"xaxis\":\"x\",\"y\":[72.41900634765625,-52.33345031738281],\"yaxis\":\"y\",\"type\":\"scatter\"},{\"hovertemplate\":\"color=troglodytes<br>x=%{x}<br>y=%{y}<extra></extra>\",\"legendgroup\":\"troglodytes\",\"marker\":{\"color\":\"#00cc96\",\"symbol\":\"circle\"},\"mode\":\"markers\",\"name\":\"troglodytes\",\"orientation\":\"v\",\"showlegend\":true,\"x\":[35.41850280761719,39.52070617675781,40.304073333740234,39.79254913330078,37.60464859008789,36.790802001953125,39.463863372802734,37.056156158447266,33.268524169921875],\"xaxis\":\"x\",\"y\":[73.80557250976562,69.05268096923828,69.21849060058594,66.47274780273438,69.88994598388672,67.55867004394531,65.5972671508789,68.36532592773438,74.40147399902344],\"yaxis\":\"y\",\"type\":\"scatter\"},{\"hovertemplate\":\"color=paniscus<br>x=%{x}<br>y=%{y}<extra></extra>\",\"legendgroup\":\"paniscus\",\"marker\":{\"color\":\"#ab63fa\",\"symbol\":\"circle\"},\"mode\":\"markers\",\"name\":\"paniscus\",\"orientation\":\"v\",\"showlegend\":true,\"x\":[33.69625473022461,31.356767654418945,31.604101181030273],\"xaxis\":\"x\",\"y\":[73.32785034179688,72.8522720336914,74.05286407470703],\"yaxis\":\"y\",\"type\":\"scatter\"},{\"hovertemplate\":\"color=gorilla<br>x=%{x}<br>y=%{y}<extra></extra>\",\"legendgroup\":\"gorilla\",\"marker\":{\"color\":\"#FFA15A\",\"symbol\":\"circle\"},\"mode\":\"markers\",\"name\":\"gorilla\",\"orientation\":\"v\",\"showlegend\":true,\"x\":[30.029132843017578,30.467906951904297,31.0596923828125,31.0997257232666,30.68779754638672,30.7318115234375],\"xaxis\":\"x\",\"y\":[84.79265594482422,83.10133361816406,84.25443267822266,85.51490783691406,79.03754425048828,79.77434539794922],\"yaxis\":\"y\",\"type\":\"scatter\"}],                        {\"template\":{\"data\":{\"histogram2dcontour\":[{\"type\":\"histogram2dcontour\",\"colorbar\":{\"outlinewidth\":0,\"ticks\":\"\"},\"colorscale\":[[0.0,\"#0d0887\"],[0.1111111111111111,\"#46039f\"],[0.2222222222222222,\"#7201a8\"],[0.3333333333333333,\"#9c179e\"],[0.4444444444444444,\"#bd3786\"],[0.5555555555555556,\"#d8576b\"],[0.6666666666666666,\"#ed7953\"],[0.7777777777777778,\"#fb9f3a\"],[0.8888888888888888,\"#fdca26\"],[1.0,\"#f0f921\"]]}],\"choropleth\":[{\"type\":\"choropleth\",\"colorbar\":{\"outlinewidth\":0,\"ticks\":\"\"}}],\"histogram2d\":[{\"type\":\"histogram2d\",\"colorbar\":{\"outlinewidth\":0,\"ticks\":\"\"},\"colorscale\":[[0.0,\"#0d0887\"],[0.1111111111111111,\"#46039f\"],[0.2222222222222222,\"#7201a8\"],[0.3333333333333333,\"#9c179e\"],[0.4444444444444444,\"#bd3786\"],[0.5555555555555556,\"#d8576b\"],[0.6666666666666666,\"#ed7953\"],[0.7777777777777778,\"#fb9f3a\"],[0.8888888888888888,\"#fdca26\"],[1.0,\"#f0f921\"]]}],\"heatmap\":[{\"type\":\"heatmap\",\"colorbar\":{\"outlinewidth\":0,\"ticks\":\"\"},\"colorscale\":[[0.0,\"#0d0887\"],[0.1111111111111111,\"#46039f\"],[0.2222222222222222,\"#7201a8\"],[0.3333333333333333,\"#9c179e\"],[0.4444444444444444,\"#bd3786\"],[0.5555555555555556,\"#d8576b\"],[0.6666666666666666,\"#ed7953\"],[0.7777777777777778,\"#fb9f3a\"],[0.8888888888888888,\"#fdca26\"],[1.0,\"#f0f921\"]]}],\"heatmapgl\":[{\"type\":\"heatmapgl\",\"colorbar\":{\"outlinewidth\":0,\"ticks\":\"\"},\"colorscale\":[[0.0,\"#0d0887\"],[0.1111111111111111,\"#46039f\"],[0.2222222222222222,\"#7201a8\"],[0.3333333333333333,\"#9c179e\"],[0.4444444444444444,\"#bd3786\"],[0.5555555555555556,\"#d8576b\"],[0.6666666666666666,\"#ed7953\"],[0.7777777777777778,\"#fb9f3a\"],[0.8888888888888888,\"#fdca26\"],[1.0,\"#f0f921\"]]}],\"contourcarpet\":[{\"type\":\"contourcarpet\",\"colorbar\":{\"outlinewidth\":0,\"ticks\":\"\"}}],\"contour\":[{\"type\":\"contour\",\"colorbar\":{\"outlinewidth\":0,\"ticks\":\"\"},\"colorscale\":[[0.0,\"#0d0887\"],[0.1111111111111111,\"#46039f\"],[0.2222222222222222,\"#7201a8\"],[0.3333333333333333,\"#9c179e\"],[0.4444444444444444,\"#bd3786\"],[0.5555555555555556,\"#d8576b\"],[0.6666666666666666,\"#ed7953\"],[0.7777777777777778,\"#fb9f3a\"],[0.8888888888888888,\"#fdca26\"],[1.0,\"#f0f921\"]]}],\"surface\":[{\"type\":\"surface\",\"colorbar\":{\"outlinewidth\":0,\"ticks\":\"\"},\"colorscale\":[[0.0,\"#0d0887\"],[0.1111111111111111,\"#46039f\"],[0.2222222222222222,\"#7201a8\"],[0.3333333333333333,\"#9c179e\"],[0.4444444444444444,\"#bd3786\"],[0.5555555555555556,\"#d8576b\"],[0.6666666666666666,\"#ed7953\"],[0.7777777777777778,\"#fb9f3a\"],[0.8888888888888888,\"#fdca26\"],[1.0,\"#f0f921\"]]}],\"mesh3d\":[{\"type\":\"mesh3d\",\"colorbar\":{\"outlinewidth\":0,\"ticks\":\"\"}}],\"scatter\":[{\"fillpattern\":{\"fillmode\":\"overlay\",\"size\":10,\"solidity\":0.2},\"type\":\"scatter\"}],\"parcoords\":[{\"type\":\"parcoords\",\"line\":{\"colorbar\":{\"outlinewidth\":0,\"ticks\":\"\"}}}],\"scatterpolargl\":[{\"type\":\"scatterpolargl\",\"marker\":{\"colorbar\":{\"outlinewidth\":0,\"ticks\":\"\"}}}],\"bar\":[{\"error_x\":{\"color\":\"#2a3f5f\"},\"error_y\":{\"color\":\"#2a3f5f\"},\"marker\":{\"line\":{\"color\":\"#E5ECF6\",\"width\":0.5},\"pattern\":{\"fillmode\":\"overlay\",\"size\":10,\"solidity\":0.2}},\"type\":\"bar\"}],\"scattergeo\":[{\"type\":\"scattergeo\",\"marker\":{\"colorbar\":{\"outlinewidth\":0,\"ticks\":\"\"}}}],\"scatterpolar\":[{\"type\":\"scatterpolar\",\"marker\":{\"colorbar\":{\"outlinewidth\":0,\"ticks\":\"\"}}}],\"histogram\":[{\"marker\":{\"pattern\":{\"fillmode\":\"overlay\",\"size\":10,\"solidity\":0.2}},\"type\":\"histogram\"}],\"scattergl\":[{\"type\":\"scattergl\",\"marker\":{\"colorbar\":{\"outlinewidth\":0,\"ticks\":\"\"}}}],\"scatter3d\":[{\"type\":\"scatter3d\",\"line\":{\"colorbar\":{\"outlinewidth\":0,\"ticks\":\"\"}},\"marker\":{\"colorbar\":{\"outlinewidth\":0,\"ticks\":\"\"}}}],\"scattermapbox\":[{\"type\":\"scattermapbox\",\"marker\":{\"colorbar\":{\"outlinewidth\":0,\"ticks\":\"\"}}}],\"scatterternary\":[{\"type\":\"scatterternary\",\"marker\":{\"colorbar\":{\"outlinewidth\":0,\"ticks\":\"\"}}}],\"scattercarpet\":[{\"type\":\"scattercarpet\",\"marker\":{\"colorbar\":{\"outlinewidth\":0,\"ticks\":\"\"}}}],\"carpet\":[{\"aaxis\":{\"endlinecolor\":\"#2a3f5f\",\"gridcolor\":\"white\",\"linecolor\":\"white\",\"minorgridcolor\":\"white\",\"startlinecolor\":\"#2a3f5f\"},\"baxis\":{\"endlinecolor\":\"#2a3f5f\",\"gridcolor\":\"white\",\"linecolor\":\"white\",\"minorgridcolor\":\"white\",\"startlinecolor\":\"#2a3f5f\"},\"type\":\"carpet\"}],\"table\":[{\"cells\":{\"fill\":{\"color\":\"#EBF0F8\"},\"line\":{\"color\":\"white\"}},\"header\":{\"fill\":{\"color\":\"#C8D4E3\"},\"line\":{\"color\":\"white\"}},\"type\":\"table\"}],\"barpolar\":[{\"marker\":{\"line\":{\"color\":\"#E5ECF6\",\"width\":0.5},\"pattern\":{\"fillmode\":\"overlay\",\"size\":10,\"solidity\":0.2}},\"type\":\"barpolar\"}],\"pie\":[{\"automargin\":true,\"type\":\"pie\"}]},\"layout\":{\"autotypenumbers\":\"strict\",\"colorway\":[\"#636efa\",\"#EF553B\",\"#00cc96\",\"#ab63fa\",\"#FFA15A\",\"#19d3f3\",\"#FF6692\",\"#B6E880\",\"#FF97FF\",\"#FECB52\"],\"font\":{\"color\":\"#2a3f5f\"},\"hovermode\":\"closest\",\"hoverlabel\":{\"align\":\"left\"},\"paper_bgcolor\":\"white\",\"plot_bgcolor\":\"#E5ECF6\",\"polar\":{\"bgcolor\":\"#E5ECF6\",\"angularaxis\":{\"gridcolor\":\"white\",\"linecolor\":\"white\",\"ticks\":\"\"},\"radialaxis\":{\"gridcolor\":\"white\",\"linecolor\":\"white\",\"ticks\":\"\"}},\"ternary\":{\"bgcolor\":\"#E5ECF6\",\"aaxis\":{\"gridcolor\":\"white\",\"linecolor\":\"white\",\"ticks\":\"\"},\"baxis\":{\"gridcolor\":\"white\",\"linecolor\":\"white\",\"ticks\":\"\"},\"caxis\":{\"gridcolor\":\"white\",\"linecolor\":\"white\",\"ticks\":\"\"}},\"coloraxis\":{\"colorbar\":{\"outlinewidth\":0,\"ticks\":\"\"}},\"colorscale\":{\"sequential\":[[0.0,\"#0d0887\"],[0.1111111111111111,\"#46039f\"],[0.2222222222222222,\"#7201a8\"],[0.3333333333333333,\"#9c179e\"],[0.4444444444444444,\"#bd3786\"],[0.5555555555555556,\"#d8576b\"],[0.6666666666666666,\"#ed7953\"],[0.7777777777777778,\"#fb9f3a\"],[0.8888888888888888,\"#fdca26\"],[1.0,\"#f0f921\"]],\"sequentialminus\":[[0.0,\"#0d0887\"],[0.1111111111111111,\"#46039f\"],[0.2222222222222222,\"#7201a8\"],[0.3333333333333333,\"#9c179e\"],[0.4444444444444444,\"#bd3786\"],[0.5555555555555556,\"#d8576b\"],[0.6666666666666666,\"#ed7953\"],[0.7777777777777778,\"#fb9f3a\"],[0.8888888888888888,\"#fdca26\"],[1.0,\"#f0f921\"]],\"diverging\":[[0,\"#8e0152\"],[0.1,\"#c51b7d\"],[0.2,\"#de77ae\"],[0.3,\"#f1b6da\"],[0.4,\"#fde0ef\"],[0.5,\"#f7f7f7\"],[0.6,\"#e6f5d0\"],[0.7,\"#b8e186\"],[0.8,\"#7fbc41\"],[0.9,\"#4d9221\"],[1,\"#276419\"]]},\"xaxis\":{\"gridcolor\":\"white\",\"linecolor\":\"white\",\"ticks\":\"\",\"title\":{\"standoff\":15},\"zerolinecolor\":\"white\",\"automargin\":true,\"zerolinewidth\":2},\"yaxis\":{\"gridcolor\":\"white\",\"linecolor\":\"white\",\"ticks\":\"\",\"title\":{\"standoff\":15},\"zerolinecolor\":\"white\",\"automargin\":true,\"zerolinewidth\":2},\"scene\":{\"xaxis\":{\"backgroundcolor\":\"#E5ECF6\",\"gridcolor\":\"white\",\"linecolor\":\"white\",\"showbackground\":true,\"ticks\":\"\",\"zerolinecolor\":\"white\",\"gridwidth\":2},\"yaxis\":{\"backgroundcolor\":\"#E5ECF6\",\"gridcolor\":\"white\",\"linecolor\":\"white\",\"showbackground\":true,\"ticks\":\"\",\"zerolinecolor\":\"white\",\"gridwidth\":2},\"zaxis\":{\"backgroundcolor\":\"#E5ECF6\",\"gridcolor\":\"white\",\"linecolor\":\"white\",\"showbackground\":true,\"ticks\":\"\",\"zerolinecolor\":\"white\",\"gridwidth\":2}},\"shapedefaults\":{\"line\":{\"color\":\"#2a3f5f\"}},\"annotationdefaults\":{\"arrowcolor\":\"#2a3f5f\",\"arrowhead\":0,\"arrowwidth\":1},\"geo\":{\"bgcolor\":\"white\",\"landcolor\":\"#E5ECF6\",\"subunitcolor\":\"white\",\"showland\":true,\"showlakes\":true,\"lakecolor\":\"white\"},\"title\":{\"x\":0.05},\"mapbox\":{\"style\":\"light\"}}},\"xaxis\":{\"anchor\":\"y\",\"domain\":[0.0,1.0],\"title\":{\"text\":\"x\"}},\"yaxis\":{\"anchor\":\"x\",\"domain\":[0.0,1.0],\"title\":{\"text\":\"y\"}},\"legend\":{\"title\":{\"text\":\"color\"},\"tracegroupgap\":0},\"title\":{\"text\":\"tSNE colored by actual clusters\"}},                        {\"responsive\": true}                    ).then(function(){\n",
       "                            \n",
       "var gd = document.getElementById('d5350e9f-6adc-4c69-beb0-afa1bf38cb88');\n",
       "var x = new MutationObserver(function (mutations, observer) {{\n",
       "        var display = window.getComputedStyle(gd).display;\n",
       "        if (!display || display === 'none') {{\n",
       "            console.log([gd, 'removed!']);\n",
       "            Plotly.purge(gd);\n",
       "            observer.disconnect();\n",
       "        }}\n",
       "}});\n",
       "\n",
       "// Listen for the removal of the full notebook cells\n",
       "var notebookContainer = gd.closest('#notebook-container');\n",
       "if (notebookContainer) {{\n",
       "    x.observe(notebookContainer, {childList: true});\n",
       "}}\n",
       "\n",
       "// Listen for the clearing of the current output cell\n",
       "var outputEl = gd.closest('.output');\n",
       "if (outputEl) {{\n",
       "    x.observe(outputEl, {childList: true});\n",
       "}}\n",
       "\n",
       "                        })                };                });            </script>        </div>"
      ]
     },
     "metadata": {},
     "output_type": "display_data"
    }
   ],
   "source": [
    "fig = px.scatter( x=Y[:,0], y=Y[:,1] , color=df['Species'], title='tSNE colored by actual clusters')\n",
    "fig.show()"
   ]
  },
  {
   "cell_type": "markdown",
   "id": "24a50d15",
   "metadata": {},
   "source": [
    "Based on tSNE result , species has been clustred in 8 groups. However multiple species are in the same cluster. So it's hard to separate them."
   ]
  },
  {
   "cell_type": "markdown",
   "id": "7b107794",
   "metadata": {},
   "source": [
    "##### For finding out K-means n_clusters at first we visulise our data with elbow plot"
   ]
  },
  {
   "cell_type": "code",
   "execution_count": 66,
   "id": "9500f2e8",
   "metadata": {
    "scrolled": false
   },
   "outputs": [
    {
     "name": "stderr",
     "output_type": "stream",
     "text": [
      "C:\\Users\\Farimah\\anaconda3\\lib\\site-packages\\sklearn\\cluster\\_kmeans.py:1332: UserWarning:\n",
      "\n",
      "KMeans is known to have a memory leak on Windows with MKL, when there are less chunks than available threads. You can avoid it by setting the environment variable OMP_NUM_THREADS=1.\n",
      "\n",
      "C:\\Users\\Farimah\\anaconda3\\lib\\site-packages\\sklearn\\cluster\\_kmeans.py:1332: UserWarning:\n",
      "\n",
      "KMeans is known to have a memory leak on Windows with MKL, when there are less chunks than available threads. You can avoid it by setting the environment variable OMP_NUM_THREADS=1.\n",
      "\n",
      "C:\\Users\\Farimah\\anaconda3\\lib\\site-packages\\sklearn\\cluster\\_kmeans.py:1332: UserWarning:\n",
      "\n",
      "KMeans is known to have a memory leak on Windows with MKL, when there are less chunks than available threads. You can avoid it by setting the environment variable OMP_NUM_THREADS=1.\n",
      "\n",
      "C:\\Users\\Farimah\\anaconda3\\lib\\site-packages\\sklearn\\cluster\\_kmeans.py:1332: UserWarning:\n",
      "\n",
      "KMeans is known to have a memory leak on Windows with MKL, when there are less chunks than available threads. You can avoid it by setting the environment variable OMP_NUM_THREADS=1.\n",
      "\n",
      "C:\\Users\\Farimah\\anaconda3\\lib\\site-packages\\sklearn\\cluster\\_kmeans.py:1332: UserWarning:\n",
      "\n",
      "KMeans is known to have a memory leak on Windows with MKL, when there are less chunks than available threads. You can avoid it by setting the environment variable OMP_NUM_THREADS=1.\n",
      "\n",
      "C:\\Users\\Farimah\\anaconda3\\lib\\site-packages\\sklearn\\cluster\\_kmeans.py:1332: UserWarning:\n",
      "\n",
      "KMeans is known to have a memory leak on Windows with MKL, when there are less chunks than available threads. You can avoid it by setting the environment variable OMP_NUM_THREADS=1.\n",
      "\n",
      "C:\\Users\\Farimah\\anaconda3\\lib\\site-packages\\sklearn\\cluster\\_kmeans.py:1332: UserWarning:\n",
      "\n",
      "KMeans is known to have a memory leak on Windows with MKL, when there are less chunks than available threads. You can avoid it by setting the environment variable OMP_NUM_THREADS=1.\n",
      "\n",
      "C:\\Users\\Farimah\\anaconda3\\lib\\site-packages\\sklearn\\cluster\\_kmeans.py:1332: UserWarning:\n",
      "\n",
      "KMeans is known to have a memory leak on Windows with MKL, when there are less chunks than available threads. You can avoid it by setting the environment variable OMP_NUM_THREADS=1.\n",
      "\n",
      "C:\\Users\\Farimah\\anaconda3\\lib\\site-packages\\sklearn\\cluster\\_kmeans.py:1332: UserWarning:\n",
      "\n",
      "KMeans is known to have a memory leak on Windows with MKL, when there are less chunks than available threads. You can avoid it by setting the environment variable OMP_NUM_THREADS=1.\n",
      "\n",
      "C:\\Users\\Farimah\\anaconda3\\lib\\site-packages\\sklearn\\cluster\\_kmeans.py:1332: UserWarning:\n",
      "\n",
      "KMeans is known to have a memory leak on Windows with MKL, when there are less chunks than available threads. You can avoid it by setting the environment variable OMP_NUM_THREADS=1.\n",
      "\n",
      "C:\\Users\\Farimah\\anaconda3\\lib\\site-packages\\sklearn\\cluster\\_kmeans.py:1332: UserWarning:\n",
      "\n",
      "KMeans is known to have a memory leak on Windows with MKL, when there are less chunks than available threads. You can avoid it by setting the environment variable OMP_NUM_THREADS=1.\n",
      "\n",
      "C:\\Users\\Farimah\\anaconda3\\lib\\site-packages\\sklearn\\cluster\\_kmeans.py:1332: UserWarning:\n",
      "\n",
      "KMeans is known to have a memory leak on Windows with MKL, when there are less chunks than available threads. You can avoid it by setting the environment variable OMP_NUM_THREADS=1.\n",
      "\n",
      "C:\\Users\\Farimah\\anaconda3\\lib\\site-packages\\sklearn\\cluster\\_kmeans.py:1332: UserWarning:\n",
      "\n",
      "KMeans is known to have a memory leak on Windows with MKL, when there are less chunks than available threads. You can avoid it by setting the environment variable OMP_NUM_THREADS=1.\n",
      "\n",
      "C:\\Users\\Farimah\\anaconda3\\lib\\site-packages\\sklearn\\cluster\\_kmeans.py:1332: UserWarning:\n",
      "\n",
      "KMeans is known to have a memory leak on Windows with MKL, when there are less chunks than available threads. You can avoid it by setting the environment variable OMP_NUM_THREADS=1.\n",
      "\n",
      "C:\\Users\\Farimah\\anaconda3\\lib\\site-packages\\sklearn\\cluster\\_kmeans.py:1332: UserWarning:\n",
      "\n",
      "KMeans is known to have a memory leak on Windows with MKL, when there are less chunks than available threads. You can avoid it by setting the environment variable OMP_NUM_THREADS=1.\n",
      "\n",
      "C:\\Users\\Farimah\\anaconda3\\lib\\site-packages\\sklearn\\cluster\\_kmeans.py:1332: UserWarning:\n",
      "\n",
      "KMeans is known to have a memory leak on Windows with MKL, when there are less chunks than available threads. You can avoid it by setting the environment variable OMP_NUM_THREADS=1.\n",
      "\n",
      "C:\\Users\\Farimah\\anaconda3\\lib\\site-packages\\sklearn\\cluster\\_kmeans.py:1332: UserWarning:\n",
      "\n",
      "KMeans is known to have a memory leak on Windows with MKL, when there are less chunks than available threads. You can avoid it by setting the environment variable OMP_NUM_THREADS=1.\n",
      "\n",
      "C:\\Users\\Farimah\\anaconda3\\lib\\site-packages\\sklearn\\cluster\\_kmeans.py:1332: UserWarning:\n",
      "\n",
      "KMeans is known to have a memory leak on Windows with MKL, when there are less chunks than available threads. You can avoid it by setting the environment variable OMP_NUM_THREADS=1.\n",
      "\n",
      "C:\\Users\\Farimah\\anaconda3\\lib\\site-packages\\sklearn\\cluster\\_kmeans.py:1332: UserWarning:\n",
      "\n",
      "KMeans is known to have a memory leak on Windows with MKL, when there are less chunks than available threads. You can avoid it by setting the environment variable OMP_NUM_THREADS=1.\n",
      "\n",
      "C:\\Users\\Farimah\\anaconda3\\lib\\site-packages\\sklearn\\cluster\\_kmeans.py:1332: UserWarning:\n",
      "\n",
      "KMeans is known to have a memory leak on Windows with MKL, when there are less chunks than available threads. You can avoid it by setting the environment variable OMP_NUM_THREADS=1.\n",
      "\n",
      "C:\\Users\\Farimah\\anaconda3\\lib\\site-packages\\sklearn\\cluster\\_kmeans.py:1332: UserWarning:\n",
      "\n",
      "KMeans is known to have a memory leak on Windows with MKL, when there are less chunks than available threads. You can avoid it by setting the environment variable OMP_NUM_THREADS=1.\n",
      "\n",
      "C:\\Users\\Farimah\\anaconda3\\lib\\site-packages\\sklearn\\cluster\\_kmeans.py:1332: UserWarning:\n",
      "\n",
      "KMeans is known to have a memory leak on Windows with MKL, when there are less chunks than available threads. You can avoid it by setting the environment variable OMP_NUM_THREADS=1.\n",
      "\n",
      "C:\\Users\\Farimah\\anaconda3\\lib\\site-packages\\sklearn\\cluster\\_kmeans.py:1332: UserWarning:\n",
      "\n",
      "KMeans is known to have a memory leak on Windows with MKL, when there are less chunks than available threads. You can avoid it by setting the environment variable OMP_NUM_THREADS=1.\n",
      "\n"
     ]
    },
    {
     "data": {
      "image/png": "[encoded data removed]",
      "text/plain": [
       "<Figure size 576x396 with 1 Axes>"
      ]
     },
     "metadata": {},
     "output_type": "display_data"
    }
   ],
   "source": [
    "\n",
    "inertia = []\n",
    "list_num_clusters = list(range(2,25))\n",
    "for num_clusters in list_num_clusters:\n",
    "    km = KMeans(n_clusters=num_clusters)\n",
    "    km.fit(X)\n",
    "    inertia.append(km.inertia_)\n",
    "    \n",
    "plt.plot(list_num_clusters,inertia)\n",
    "plt.scatter(list_num_clusters,inertia)\n",
    "plt.xlabel('Number of Clusters')\n",
    "plt.ylabel('Inertia');"
   ]
  },
  {
   "cell_type": "markdown",
   "id": "46529eb7",
   "metadata": {},
   "source": [
    "It is necessary to select the value of k at the \"elbow\", which is the point at which the distortion or inertia starts decreasing linearly. Therefore, we conclude that the optimal number of clusters for the given data is 9.\n",
    "well there is no real elbow shape as we see and we know there is 25 spicies and the goal is to seprate the spicies so we use n_clusters=25. if the the goal wasnt seprate the spicies we could use Silhouette score evaluate the quality of clusters created using."
   ]
  },
  {
   "cell_type": "markdown",
   "id": "cf0564ae",
   "metadata": {},
   "source": [
    "## K-means clustering\n",
    "In K-means clustering, groups that have not been explicitly labeled in the data are found. We can use the assumptions about what types of groups exist or identify unknown groups in complex data sets.\n",
    "I choose to use K-means to calculate the normal distribution in this dataset and find the best one, even though I know this method requires spherical shapes and the method is unlikely to work. In the case of KMeans, it may be possible to separate species by splitting a cluster in two.\n",
    "\n"
   ]
  },
  {
   "cell_type": "markdown",
   "id": "2f3f1e35",
   "metadata": {},
   "source": [
    "##### Cluster using k-means\n",
    "\n",
    "##### K-means on original data"
   ]
  },
  {
   "cell_type": "code",
   "execution_count": 67,
   "id": "948ea040",
   "metadata": {},
   "outputs": [
    {
     "name": "stderr",
     "output_type": "stream",
     "text": [
      "C:\\Users\\Farimah\\anaconda3\\lib\\site-packages\\sklearn\\cluster\\_kmeans.py:1332: UserWarning:\n",
      "\n",
      "KMeans is known to have a memory leak on Windows with MKL, when there are less chunks than available threads. You can avoid it by setting the environment variable OMP_NUM_THREADS=1.\n",
      "\n",
      "C:\\Users\\Farimah\\anaconda3\\lib\\site-packages\\sklearn\\cluster\\_kmeans.py:1332: UserWarning:\n",
      "\n",
      "KMeans is known to have a memory leak on Windows with MKL, when there are less chunks than available threads. You can avoid it by setting the environment variable OMP_NUM_THREADS=1.\n",
      "\n"
     ]
    },
    {
     "data": {
      "application/vnd.plotly.v1+json": {
       "config": {
        "plotlyServerURL": "https://plot.ly"
       },
       "data": [
        {
         "hovertemplate": "x=%{x}<br>y=%{y}<br>color=%{marker.color}<extra></extra>",
         "legendgroup": "",
         "marker": {
          "color": [
           1,
           1,
           1,
           1,
           11,
           1,
           1,
           1,
           11,
           11,
           11,
           11,
           11,
           11,
           11,
           21,
           21,
           21,
           21,
           21,
           0,
           0,
           0,
           0,
           11,
           0,
           18,
           18,
           18,
           18,
           18,
           18,
           18,
           4,
           4,
           4,
           4,
           4,
           4,
           4,
           4,
           4,
           4,
           4,
           17,
           8,
           17,
           17,
           8,
           19,
           8,
           8,
           8,
           8,
           8,
           8,
           17,
           19,
           17,
           17,
           17,
           17,
           17,
           7,
           7,
           7,
           7,
           7,
           7,
           7,
           7,
           7,
           12,
           12,
           12,
           12,
           12,
           12,
           12,
           12,
           12,
           12,
           0,
           12,
           10,
           10,
           23,
           10,
           23,
           10,
           10,
           10,
           15,
           15,
           15,
           0,
           9,
           9,
           9,
           9,
           9,
           9,
           9,
           9,
           9,
           6,
           20,
           20,
           20,
           6,
           6,
           6,
           6,
           6,
           16,
           16,
           16,
           16,
           2,
           16,
           2,
           16,
           19,
           2,
           2,
           2,
           2,
           22,
           22,
           22,
           5,
           5,
           24,
           24,
           24,
           24,
           24,
           24,
           24,
           5,
           5,
           5,
           5,
           14,
           14,
           14,
           14,
           14,
           14,
           15,
           13,
           13,
           13,
           13,
           13,
           13,
           13,
           13,
           3,
           3,
           3,
           3,
           3,
           3,
           3
          ],
          "coloraxis": "coloraxis",
          "symbol": "circle"
         },
         "mode": "markers",
         "name": "",
         "orientation": "v",
         "showlegend": false,
         "type": "scatter",
         "x": [
          -67.27223205566406,
          -68.56813049316406,
          -67.19023132324219,
          -67.56150817871094,
          -61.43753433227539,
          -66.20805358886719,
          -66.19544982910156,
          -64.37088012695312,
          -62.774322509765625,
          -62.07942581176758,
          -59.017250061035156,
          -61.263614654541016,
          -59.51559829711914,
          -60.95121383666992,
          -58.25402069091797,
          -53.327030181884766,
          -52.62757110595703,
          -55.95917510986328,
          -54.3402099609375,
          -54.91550064086914,
          43.91293716430664,
          45.56434631347656,
          44.43137741088867,
          45.54278564453125,
          -58.06019592285156,
          47.24002456665039,
          -71.74285888671875,
          -69.87593841552734,
          -67.77559661865234,
          -68.5856704711914,
          -67.2320556640625,
          -72.40565490722656,
          -68.96580505371094,
          -64.92704772949219,
          -63.114349365234375,
          -58.969566345214844,
          -60.326045989990234,
          -58.89076232910156,
          -61.059146881103516,
          -62.84700393676758,
          -56.63621520996094,
          -60.33967971801758,
          -63.82267379760742,
          -58.74723815917969,
          -15.94211483001709,
          -19.607954025268555,
          -14.93410587310791,
          -14.339755058288574,
          -25.608964920043945,
          -23.98694610595703,
          -24.1577091217041,
          -24.09730339050293,
          -25.02767562866211,
          -20.647640228271484,
          -25.831470489501953,
          -23.20646095275879,
          -11.625402450561523,
          -22.411121368408203,
          -7.714540958404541,
          -12.736572265625,
          -6.371706008911133,
          -6.942054748535156,
          -11.092110633850098,
          32.10185623168945,
          33.379066467285156,
          34.216732025146484,
          34.98834991455078,
          36.10258865356445,
          34.964237213134766,
          38.612327575683594,
          41.43663024902344,
          39.718719482421875,
          43.31443405151367,
          46.54282760620117,
          45.43359375,
          45.334007263183594,
          46.2221794128418,
          48.097652435302734,
          45.49031066894531,
          47.86716079711914,
          48.119651794433594,
          48.10273742675781,
          46.4814453125,
          49.5808219909668,
          59.93022537231445,
          58.81231689453125,
          55.21099090576172,
          59.93238830566406,
          54.65439987182617,
          57.47296905517578,
          57.7788200378418,
          58.64121627807617,
          14.817604064941406,
          14.089917182922363,
          15.181281089782715,
          48.803592681884766,
          6.781274318695068,
          6.614353656768799,
          5.546589374542236,
          3.0396621227264404,
          0.3635190725326538,
          1.8030918836593628,
          3.344379425048828,
          4.530632495880127,
          0.6294852495193481,
          20.56117820739746,
          25.908910751342773,
          26.56980323791504,
          27.37008285522461,
          19.85445213317871,
          18.72612953186035,
          17.90471076965332,
          19.218822479248047,
          18.204133987426758,
          -15.57143497467041,
          -18.414106369018555,
          -17.182931900024414,
          -15.79800796508789,
          -8.880319595336914,
          -13.432646751403809,
          -9.515201568603516,
          -12.94061279296875,
          -24.755084991455078,
          -10.51773738861084,
          -11.679998397827148,
          -6.9258341789245605,
          -7.706249237060547,
          -23.37881851196289,
          -23.522729873657227,
          -24.282150268554688,
          34.442996978759766,
          35.41850280761719,
          39.52070617675781,
          40.304073333740234,
          39.79254913330078,
          37.60464859008789,
          36.790802001953125,
          39.463863372802734,
          37.056156158447266,
          33.268524169921875,
          33.69625473022461,
          31.356767654418945,
          31.604101181030273,
          30.029132843017578,
          30.467906951904297,
          31.0596923828125,
          31.0997257232666,
          30.68779754638672,
          30.7318115234375,
          8.427918434143066,
          13.569958686828613,
          14.56408405303955,
          12.057944297790527,
          15.110859870910645,
          15.259807586669922,
          14.148350715637207,
          15.655069351196289,
          16.311988830566406,
          17.41221046447754,
          17.648033142089844,
          18.857431411743164,
          18.501150131225586,
          19.648468017578125,
          20.584169387817383,
          20.995380401611328
         ],
         "xaxis": "x",
         "y": [
          8.40735149383545,
          5.052196979522705,
          5.938101291656494,
          4.858958721160889,
          3.0508413314819336,
          9.312206268310547,
          10.58822250366211,
          8.127779960632324,
          5.551912307739258,
          4.645066738128662,
          6.0175042152404785,
          7.842515468597412,
          2.732070207595825,
          6.799627304077148,
          1.9125605821609497,
          -2.067394495010376,
          -2.7042593955993652,
          -3.244302272796631,
          -3.6893160343170166,
          -2.574280261993408,
          4.66592264175415,
          4.306750774383545,
          5.944072723388672,
          5.796291351318359,
          6.748660087585449,
          4.658692836761475,
          -53.60908508300781,
          -54.229862213134766,
          -52.99259567260742,
          -55.11400604248047,
          -54.71678161621094,
          -54.675594329833984,
          -53.48655319213867,
          -53.85409164428711,
          -50.27098846435547,
          -53.21603012084961,
          -54.98150634765625,
          -51.92171859741211,
          -50.63301467895508,
          -55.51521301269531,
          -51.49911117553711,
          -51.470062255859375,
          -54.230865478515625,
          -49.77951431274414,
          44.04446792602539,
          44.24580383300781,
          46.78224563598633,
          47.78934097290039,
          44.14073181152344,
          52.5225944519043,
          43.83741760253906,
          45.91490173339844,
          47.559913635253906,
          44.573158264160156,
          47.096031188964844,
          46.02247619628906,
          46.3524169921875,
          52.765628814697266,
          46.582340240478516,
          45.240257263183594,
          44.9184455871582,
          45.74961471557617,
          46.952301025390625,
          -13.93498706817627,
          -11.956032752990723,
          -13.45644474029541,
          -14.163726806640625,
          -13.139986991882324,
          -12.272778511047363,
          -12.85519790649414,
          -12.154563903808594,
          -13.53770637512207,
          -10.948173522949219,
          -14.808161735534668,
          -11.876564979553223,
          -13.58482837677002,
          -13.148215293884277,
          -12.945712089538574,
          -9.56855297088623,
          -7.041075229644775,
          -6.10614013671875,
          -4.420571804046631,
          2.927436351776123,
          -12.046643257141113,
          -7.079455852508545,
          -5.735372543334961,
          0.8101893067359924,
          -5.2744340896606445,
          1.238368272781372,
          -3.888709783554077,
          -6.414021968841553,
          -4.391815662384033,
          -49.9789924621582,
          -50.81904220581055,
          -50.996952056884766,
          5.749560832977295,
          -49.016754150390625,
          -50.86637878417969,
          -50.84038543701172,
          -47.91277313232422,
          -48.1926155090332,
          -48.08283615112305,
          -46.914974212646484,
          -46.7987060546875,
          -46.7925910949707,
          -32.49567413330078,
          -26.633602142333984,
          -25.998851776123047,
          -25.257366180419922,
          -34.21723556518555,
          -35.06284713745117,
          -34.080257415771484,
          -32.99473190307617,
          -32.4947395324707,
          42.026546478271484,
          37.71367645263672,
          37.34537124633789,
          37.32469940185547,
          39.08420181274414,
          38.927452087402344,
          37.85816955566406,
          37.34885025024414,
          52.892364501953125,
          37.14236068725586,
          37.918373107910156,
          36.51137161254883,
          35.9276237487793,
          29.104352951049805,
          30.40633201599121,
          30.045761108398438,
          72.41900634765625,
          73.80557250976562,
          69.05268096923828,
          69.21849060058594,
          66.47274780273438,
          69.88994598388672,
          67.55867004394531,
          65.5972671508789,
          68.36532592773438,
          74.40147399902344,
          73.32785034179688,
          72.8522720336914,
          74.05286407470703,
          84.79265594482422,
          83.10133361816406,
          84.25443267822266,
          85.51490783691406,
          79.03754425048828,
          79.77434539794922,
          -52.33345031738281,
          -66.34209442138672,
          -65.94524383544922,
          -67.877197265625,
          -67.7586898803711,
          -68.97875213623047,
          -68.76326751708984,
          -70.82606506347656,
          -72.22180938720703,
          -76.46622467041016,
          -79.3009262084961,
          -79.01734924316406,
          -77.05892181396484,
          -77.83674621582031,
          -79.91817474365234,
          -78.59210968017578
         ],
         "yaxis": "y"
        }
       ],
       "layout": {
        "coloraxis": {
         "colorbar": {
          "title": {
           "text": "color"
          }
         },
         "colorscale": [
          [
           0,
           "#0d0887"
          ],
          [
           0.1111111111111111,
           "#46039f"
          ],
          [
           0.2222222222222222,
           "#7201a8"
          ],
          [
           0.3333333333333333,
           "#9c179e"
          ],
          [
           0.4444444444444444,
           "#bd3786"
          ],
          [
           0.5555555555555556,
           "#d8576b"
          ],
          [
           0.6666666666666666,
           "#ed7953"
          ],
          [
           0.7777777777777778,
           "#fb9f3a"
          ],
          [
           0.8888888888888888,
           "#fdca26"
          ],
          [
           1,
           "#f0f921"
          ]
         ]
        },
        "legend": {
         "tracegroupgap": 0
        },
        "template": {
         "data": {
          "bar": [
           {
            "error_x": {
             "color": "#2a3f5f"
            },
            "error_y": {
             "color": "#2a3f5f"
            },
            "marker": {
             "line": {
              "color": "#E5ECF6",
              "width": 0.5
             },
             "pattern": {
              "fillmode": "overlay",
              "size": 10,
              "solidity": 0.2
             }
            },
            "type": "bar"
           }
          ],
          "barpolar": [
           {
            "marker": {
             "line": {
              "color": "#E5ECF6",
              "width": 0.5
             },
             "pattern": {
              "fillmode": "overlay",
              "size": 10,
              "solidity": 0.2
             }
            },
            "type": "barpolar"
           }
          ],
          "carpet": [
           {
            "aaxis": {
             "endlinecolor": "#2a3f5f",
             "gridcolor": "white",
             "linecolor": "white",
             "minorgridcolor": "white",
             "startlinecolor": "#2a3f5f"
            },
            "baxis": {
             "endlinecolor": "#2a3f5f",
             "gridcolor": "white",
             "linecolor": "white",
             "minorgridcolor": "white",
             "startlinecolor": "#2a3f5f"
            },
            "type": "carpet"
           }
          ],
          "choropleth": [
           {
            "colorbar": {
             "outlinewidth": 0,
             "ticks": ""
            },
            "type": "choropleth"
           }
          ],
          "contour": [
           {
            "colorbar": {
             "outlinewidth": 0,
             "ticks": ""
            },
            "colorscale": [
             [
              0,
              "#0d0887"
             ],
             [
              0.1111111111111111,
              "#46039f"
             ],
             [
              0.2222222222222222,
              "#7201a8"
             ],
             [
              0.3333333333333333,
              "#9c179e"
             ],
             [
              0.4444444444444444,
              "#bd3786"
             ],
             [
              0.5555555555555556,
              "#d8576b"
             ],
             [
              0.6666666666666666,
              "#ed7953"
             ],
             [
              0.7777777777777778,
              "#fb9f3a"
             ],
             [
              0.8888888888888888,
              "#fdca26"
             ],
             [
              1,
              "#f0f921"
             ]
            ],
            "type": "contour"
           }
          ],
          "contourcarpet": [
           {
            "colorbar": {
             "outlinewidth": 0,
             "ticks": ""
            },
            "type": "contourcarpet"
           }
          ],
          "heatmap": [
           {
            "colorbar": {
             "outlinewidth": 0,
             "ticks": ""
            },
            "colorscale": [
             [
              0,
              "#0d0887"
             ],
             [
              0.1111111111111111,
              "#46039f"
             ],
             [
              0.2222222222222222,
              "#7201a8"
             ],
             [
              0.3333333333333333,
              "#9c179e"
             ],
             [
              0.4444444444444444,
              "#bd3786"
             ],
             [
              0.5555555555555556,
              "#d8576b"
             ],
             [
              0.6666666666666666,
              "#ed7953"
             ],
             [
              0.7777777777777778,
              "#fb9f3a"
             ],
             [
              0.8888888888888888,
              "#fdca26"
             ],
             [
              1,
              "#f0f921"
             ]
            ],
            "type": "heatmap"
           }
          ],
          "heatmapgl": [
           {
            "colorbar": {
             "outlinewidth": 0,
             "ticks": ""
            },
            "colorscale": [
             [
              0,
              "#0d0887"
             ],
             [
              0.1111111111111111,
              "#46039f"
             ],
             [
              0.2222222222222222,
              "#7201a8"
             ],
             [
              0.3333333333333333,
              "#9c179e"
             ],
             [
              0.4444444444444444,
              "#bd3786"
             ],
             [
              0.5555555555555556,
              "#d8576b"
             ],
             [
              0.6666666666666666,
              "#ed7953"
             ],
             [
              0.7777777777777778,
              "#fb9f3a"
             ],
             [
              0.8888888888888888,
              "#fdca26"
             ],
             [
              1,
              "#f0f921"
             ]
            ],
            "type": "heatmapgl"
           }
          ],
          "histogram": [
           {
            "marker": {
             "pattern": {
              "fillmode": "overlay",
              "size": 10,
              "solidity": 0.2
             }
            },
            "type": "histogram"
           }
          ],
          "histogram2d": [
           {
            "colorbar": {
             "outlinewidth": 0,
             "ticks": ""
            },
            "colorscale": [
             [
              0,
              "#0d0887"
             ],
             [
              0.1111111111111111,
              "#46039f"
             ],
             [
              0.2222222222222222,
              "#7201a8"
             ],
             [
              0.3333333333333333,
              "#9c179e"
             ],
             [
              0.4444444444444444,
              "#bd3786"
             ],
             [
              0.5555555555555556,
              "#d8576b"
             ],
             [
              0.6666666666666666,
              "#ed7953"
             ],
             [
              0.7777777777777778,
              "#fb9f3a"
             ],
             [
              0.8888888888888888,
              "#fdca26"
             ],
             [
              1,
              "#f0f921"
             ]
            ],
            "type": "histogram2d"
           }
          ],
          "histogram2dcontour": [
           {
            "colorbar": {
             "outlinewidth": 0,
             "ticks": ""
            },
            "colorscale": [
             [
              0,
              "#0d0887"
             ],
             [
              0.1111111111111111,
              "#46039f"
             ],
             [
              0.2222222222222222,
              "#7201a8"
             ],
             [
              0.3333333333333333,
              "#9c179e"
             ],
             [
              0.4444444444444444,
              "#bd3786"
             ],
             [
              0.5555555555555556,
              "#d8576b"
             ],
             [
              0.6666666666666666,
              "#ed7953"
             ],
             [
              0.7777777777777778,
              "#fb9f3a"
             ],
             [
              0.8888888888888888,
              "#fdca26"
             ],
             [
              1,
              "#f0f921"
             ]
            ],
            "type": "histogram2dcontour"
           }
          ],
          "mesh3d": [
           {
            "colorbar": {
             "outlinewidth": 0,
             "ticks": ""
            },
            "type": "mesh3d"
           }
          ],
          "parcoords": [
           {
            "line": {
             "colorbar": {
              "outlinewidth": 0,
              "ticks": ""
             }
            },
            "type": "parcoords"
           }
          ],
          "pie": [
           {
            "automargin": true,
            "type": "pie"
           }
          ],
          "scatter": [
           {
            "fillpattern": {
             "fillmode": "overlay",
             "size": 10,
             "solidity": 0.2
            },
            "type": "scatter"
           }
          ],
          "scatter3d": [
           {
            "line": {
             "colorbar": {
              "outlinewidth": 0,
              "ticks": ""
             }
            },
            "marker": {
             "colorbar": {
              "outlinewidth": 0,
              "ticks": ""
             }
            },
            "type": "scatter3d"
           }
          ],
          "scattercarpet": [
           {
            "marker": {
             "colorbar": {
              "outlinewidth": 0,
              "ticks": ""
             }
            },
            "type": "scattercarpet"
           }
          ],
          "scattergeo": [
           {
            "marker": {
             "colorbar": {
              "outlinewidth": 0,
              "ticks": ""
             }
            },
            "type": "scattergeo"
           }
          ],
          "scattergl": [
           {
            "marker": {
             "colorbar": {
              "outlinewidth": 0,
              "ticks": ""
             }
            },
            "type": "scattergl"
           }
          ],
          "scattermapbox": [
           {
            "marker": {
             "colorbar": {
              "outlinewidth": 0,
              "ticks": ""
             }
            },
            "type": "scattermapbox"
           }
          ],
          "scatterpolar": [
           {
            "marker": {
             "colorbar": {
              "outlinewidth": 0,
              "ticks": ""
             }
            },
            "type": "scatterpolar"
           }
          ],
          "scatterpolargl": [
           {
            "marker": {
             "colorbar": {
              "outlinewidth": 0,
              "ticks": ""
             }
            },
            "type": "scatterpolargl"
           }
          ],
          "scatterternary": [
           {
            "marker": {
             "colorbar": {
              "outlinewidth": 0,
              "ticks": ""
             }
            },
            "type": "scatterternary"
           }
          ],
          "surface": [
           {
            "colorbar": {
             "outlinewidth": 0,
             "ticks": ""
            },
            "colorscale": [
             [
              0,
              "#0d0887"
             ],
             [
              0.1111111111111111,
              "#46039f"
             ],
             [
              0.2222222222222222,
              "#7201a8"
             ],
             [
              0.3333333333333333,
              "#9c179e"
             ],
             [
              0.4444444444444444,
              "#bd3786"
             ],
             [
              0.5555555555555556,
              "#d8576b"
             ],
             [
              0.6666666666666666,
              "#ed7953"
             ],
             [
              0.7777777777777778,
              "#fb9f3a"
             ],
             [
              0.8888888888888888,
              "#fdca26"
             ],
             [
              1,
              "#f0f921"
             ]
            ],
            "type": "surface"
           }
          ],
          "table": [
           {
            "cells": {
             "fill": {
              "color": "#EBF0F8"
             },
             "line": {
              "color": "white"
             }
            },
            "header": {
             "fill": {
              "color": "#C8D4E3"
             },
             "line": {
              "color": "white"
             }
            },
            "type": "table"
           }
          ]
         },
         "layout": {
          "annotationdefaults": {
           "arrowcolor": "#2a3f5f",
           "arrowhead": 0,
           "arrowwidth": 1
          },
          "autotypenumbers": "strict",
          "coloraxis": {
           "colorbar": {
            "outlinewidth": 0,
            "ticks": ""
           }
          },
          "colorscale": {
           "diverging": [
            [
             0,
             "#8e0152"
            ],
            [
             0.1,
             "#c51b7d"
            ],
            [
             0.2,
             "#de77ae"
            ],
            [
             0.3,
             "#f1b6da"
            ],
            [
             0.4,
             "#fde0ef"
            ],
            [
             0.5,
             "#f7f7f7"
            ],
            [
             0.6,
             "#e6f5d0"
            ],
            [
             0.7,
             "#b8e186"
            ],
            [
             0.8,
             "#7fbc41"
            ],
            [
             0.9,
             "#4d9221"
            ],
            [
             1,
             "#276419"
            ]
           ],
           "sequential": [
            [
             0,
             "#0d0887"
            ],
            [
             0.1111111111111111,
             "#46039f"
            ],
            [
             0.2222222222222222,
             "#7201a8"
            ],
            [
             0.3333333333333333,
             "#9c179e"
            ],
            [
             0.4444444444444444,
             "#bd3786"
            ],
            [
             0.5555555555555556,
             "#d8576b"
            ],
            [
             0.6666666666666666,
             "#ed7953"
            ],
            [
             0.7777777777777778,
             "#fb9f3a"
            ],
            [
             0.8888888888888888,
             "#fdca26"
            ],
            [
             1,
             "#f0f921"
            ]
           ],
           "sequentialminus": [
            [
             0,
             "#0d0887"
            ],
            [
             0.1111111111111111,
             "#46039f"
            ],
            [
             0.2222222222222222,
             "#7201a8"
            ],
            [
             0.3333333333333333,
             "#9c179e"
            ],
            [
             0.4444444444444444,
             "#bd3786"
            ],
            [
             0.5555555555555556,
             "#d8576b"
            ],
            [
             0.6666666666666666,
             "#ed7953"
            ],
            [
             0.7777777777777778,
             "#fb9f3a"
            ],
            [
             0.8888888888888888,
             "#fdca26"
            ],
            [
             1,
             "#f0f921"
            ]
           ]
          },
          "colorway": [
           "#636efa",
           "#EF553B",
           "#00cc96",
           "#ab63fa",
           "#FFA15A",
           "#19d3f3",
           "#FF6692",
           "#B6E880",
           "#FF97FF",
           "#FECB52"
          ],
          "font": {
           "color": "#2a3f5f"
          },
          "geo": {
           "bgcolor": "white",
           "lakecolor": "white",
           "landcolor": "#E5ECF6",
           "showlakes": true,
           "showland": true,
           "subunitcolor": "white"
          },
          "hoverlabel": {
           "align": "left"
          },
          "hovermode": "closest",
          "mapbox": {
           "style": "light"
          },
          "paper_bgcolor": "white",
          "plot_bgcolor": "#E5ECF6",
          "polar": {
           "angularaxis": {
            "gridcolor": "white",
            "linecolor": "white",
            "ticks": ""
           },
           "bgcolor": "#E5ECF6",
           "radialaxis": {
            "gridcolor": "white",
            "linecolor": "white",
            "ticks": ""
           }
          },
          "scene": {
           "xaxis": {
            "backgroundcolor": "#E5ECF6",
            "gridcolor": "white",
            "gridwidth": 2,
            "linecolor": "white",
            "showbackground": true,
            "ticks": "",
            "zerolinecolor": "white"
           },
           "yaxis": {
            "backgroundcolor": "#E5ECF6",
            "gridcolor": "white",
            "gridwidth": 2,
            "linecolor": "white",
            "showbackground": true,
            "ticks": "",
            "zerolinecolor": "white"
           },
           "zaxis": {
            "backgroundcolor": "#E5ECF6",
            "gridcolor": "white",
            "gridwidth": 2,
            "linecolor": "white",
            "showbackground": true,
            "ticks": "",
            "zerolinecolor": "white"
           }
          },
          "shapedefaults": {
           "line": {
            "color": "#2a3f5f"
           }
          },
          "ternary": {
           "aaxis": {
            "gridcolor": "white",
            "linecolor": "white",
            "ticks": ""
           },
           "baxis": {
            "gridcolor": "white",
            "linecolor": "white",
            "ticks": ""
           },
           "bgcolor": "#E5ECF6",
           "caxis": {
            "gridcolor": "white",
            "linecolor": "white",
            "ticks": ""
           }
          },
          "title": {
           "x": 0.05
          },
          "xaxis": {
           "automargin": true,
           "gridcolor": "white",
           "linecolor": "white",
           "ticks": "",
           "title": {
            "standoff": 15
           },
           "zerolinecolor": "white",
           "zerolinewidth": 2
          },
          "yaxis": {
           "automargin": true,
           "gridcolor": "white",
           "linecolor": "white",
           "ticks": "",
           "title": {
            "standoff": 15
           },
           "zerolinecolor": "white",
           "zerolinewidth": 2
          }
         }
        },
        "title": {
         "text": "K-means predicted"
        },
        "xaxis": {
         "anchor": "y",
         "domain": [
          0,
          1
         ],
         "title": {
          "text": "x"
         }
        },
        "yaxis": {
         "anchor": "x",
         "domain": [
          0,
          1
         ],
         "title": {
          "text": "y"
         }
        }
       }
      },
      "text/html": [
       "<div>                            <div id=\"b1282f97-1c40-41b8-8384-c81938fc5b7b\" class=\"plotly-graph-div\" style=\"height:525px; width:100%;\"></div>            <script type=\"text/javascript\">                require([\"plotly\"], function(Plotly) {                    window.PLOTLYENV=window.PLOTLYENV || {};                                    if (document.getElementById(\"b1282f97-1c40-41b8-8384-c81938fc5b7b\")) {                    Plotly.newPlot(                        \"b1282f97-1c40-41b8-8384-c81938fc5b7b\",                        [{\"hovertemplate\":\"x=%{x}<br>y=%{y}<br>color=%{marker.color}<extra></extra>\",\"legendgroup\":\"\",\"marker\":{\"color\":[1,1,1,1,11,1,1,1,11,11,11,11,11,11,11,21,21,21,21,21,0,0,0,0,11,0,18,18,18,18,18,18,18,4,4,4,4,4,4,4,4,4,4,4,17,8,17,17,8,19,8,8,8,8,8,8,17,19,17,17,17,17,17,7,7,7,7,7,7,7,7,7,12,12,12,12,12,12,12,12,12,12,0,12,10,10,23,10,23,10,10,10,15,15,15,0,9,9,9,9,9,9,9,9,9,6,20,20,20,6,6,6,6,6,16,16,16,16,2,16,2,16,19,2,2,2,2,22,22,22,5,5,24,24,24,24,24,24,24,5,5,5,5,14,14,14,14,14,14,15,13,13,13,13,13,13,13,13,3,3,3,3,3,3,3],\"coloraxis\":\"coloraxis\",\"symbol\":\"circle\"},\"mode\":\"markers\",\"name\":\"\",\"orientation\":\"v\",\"showlegend\":false,\"x\":[-67.27223205566406,-68.56813049316406,-67.19023132324219,-67.56150817871094,-61.43753433227539,-66.20805358886719,-66.19544982910156,-64.37088012695312,-62.774322509765625,-62.07942581176758,-59.017250061035156,-61.263614654541016,-59.51559829711914,-60.95121383666992,-58.25402069091797,-53.327030181884766,-52.62757110595703,-55.95917510986328,-54.3402099609375,-54.91550064086914,43.91293716430664,45.56434631347656,44.43137741088867,45.54278564453125,-58.06019592285156,47.24002456665039,-71.74285888671875,-69.87593841552734,-67.77559661865234,-68.5856704711914,-67.2320556640625,-72.40565490722656,-68.96580505371094,-64.92704772949219,-63.114349365234375,-58.969566345214844,-60.326045989990234,-58.89076232910156,-61.059146881103516,-62.84700393676758,-56.63621520996094,-60.33967971801758,-63.82267379760742,-58.74723815917969,-15.94211483001709,-19.607954025268555,-14.93410587310791,-14.339755058288574,-25.608964920043945,-23.98694610595703,-24.1577091217041,-24.09730339050293,-25.02767562866211,-20.647640228271484,-25.831470489501953,-23.20646095275879,-11.625402450561523,-22.411121368408203,-7.714540958404541,-12.736572265625,-6.371706008911133,-6.942054748535156,-11.092110633850098,32.10185623168945,33.379066467285156,34.216732025146484,34.98834991455078,36.10258865356445,34.964237213134766,38.612327575683594,41.43663024902344,39.718719482421875,43.31443405151367,46.54282760620117,45.43359375,45.334007263183594,46.2221794128418,48.097652435302734,45.49031066894531,47.86716079711914,48.119651794433594,48.10273742675781,46.4814453125,49.5808219909668,59.93022537231445,58.81231689453125,55.21099090576172,59.93238830566406,54.65439987182617,57.47296905517578,57.7788200378418,58.64121627807617,14.817604064941406,14.089917182922363,15.181281089782715,48.803592681884766,6.781274318695068,6.614353656768799,5.546589374542236,3.0396621227264404,0.3635190725326538,1.8030918836593628,3.344379425048828,4.530632495880127,0.6294852495193481,20.56117820739746,25.908910751342773,26.56980323791504,27.37008285522461,19.85445213317871,18.72612953186035,17.90471076965332,19.218822479248047,18.204133987426758,-15.57143497467041,-18.414106369018555,-17.182931900024414,-15.79800796508789,-8.880319595336914,-13.432646751403809,-9.515201568603516,-12.94061279296875,-24.755084991455078,-10.51773738861084,-11.679998397827148,-6.9258341789245605,-7.706249237060547,-23.37881851196289,-23.522729873657227,-24.282150268554688,34.442996978759766,35.41850280761719,39.52070617675781,40.304073333740234,39.79254913330078,37.60464859008789,36.790802001953125,39.463863372802734,37.056156158447266,33.268524169921875,33.69625473022461,31.356767654418945,31.604101181030273,30.029132843017578,30.467906951904297,31.0596923828125,31.0997257232666,30.68779754638672,30.7318115234375,8.427918434143066,13.569958686828613,14.56408405303955,12.057944297790527,15.110859870910645,15.259807586669922,14.148350715637207,15.655069351196289,16.311988830566406,17.41221046447754,17.648033142089844,18.857431411743164,18.501150131225586,19.648468017578125,20.584169387817383,20.995380401611328],\"xaxis\":\"x\",\"y\":[8.40735149383545,5.052196979522705,5.938101291656494,4.858958721160889,3.0508413314819336,9.312206268310547,10.58822250366211,8.127779960632324,5.551912307739258,4.645066738128662,6.0175042152404785,7.842515468597412,2.732070207595825,6.799627304077148,1.9125605821609497,-2.067394495010376,-2.7042593955993652,-3.244302272796631,-3.6893160343170166,-2.574280261993408,4.66592264175415,4.306750774383545,5.944072723388672,5.796291351318359,6.748660087585449,4.658692836761475,-53.60908508300781,-54.229862213134766,-52.99259567260742,-55.11400604248047,-54.71678161621094,-54.675594329833984,-53.48655319213867,-53.85409164428711,-50.27098846435547,-53.21603012084961,-54.98150634765625,-51.92171859741211,-50.63301467895508,-55.51521301269531,-51.49911117553711,-51.470062255859375,-54.230865478515625,-49.77951431274414,44.04446792602539,44.24580383300781,46.78224563598633,47.78934097290039,44.14073181152344,52.5225944519043,43.83741760253906,45.91490173339844,47.559913635253906,44.573158264160156,47.096031188964844,46.02247619628906,46.3524169921875,52.765628814697266,46.582340240478516,45.240257263183594,44.9184455871582,45.74961471557617,46.952301025390625,-13.93498706817627,-11.956032752990723,-13.45644474029541,-14.163726806640625,-13.139986991882324,-12.272778511047363,-12.85519790649414,-12.154563903808594,-13.53770637512207,-10.948173522949219,-14.808161735534668,-11.876564979553223,-13.58482837677002,-13.148215293884277,-12.945712089538574,-9.56855297088623,-7.041075229644775,-6.10614013671875,-4.420571804046631,2.927436351776123,-12.046643257141113,-7.079455852508545,-5.735372543334961,0.8101893067359924,-5.2744340896606445,1.238368272781372,-3.888709783554077,-6.414021968841553,-4.391815662384033,-49.9789924621582,-50.81904220581055,-50.996952056884766,5.749560832977295,-49.016754150390625,-50.86637878417969,-50.84038543701172,-47.91277313232422,-48.1926155090332,-48.08283615112305,-46.914974212646484,-46.7987060546875,-46.7925910949707,-32.49567413330078,-26.633602142333984,-25.998851776123047,-25.257366180419922,-34.21723556518555,-35.06284713745117,-34.080257415771484,-32.99473190307617,-32.4947395324707,42.026546478271484,37.71367645263672,37.34537124633789,37.32469940185547,39.08420181274414,38.927452087402344,37.85816955566406,37.34885025024414,52.892364501953125,37.14236068725586,37.918373107910156,36.51137161254883,35.9276237487793,29.104352951049805,30.40633201599121,30.045761108398438,72.41900634765625,73.80557250976562,69.05268096923828,69.21849060058594,66.47274780273438,69.88994598388672,67.55867004394531,65.5972671508789,68.36532592773438,74.40147399902344,73.32785034179688,72.8522720336914,74.05286407470703,84.79265594482422,83.10133361816406,84.25443267822266,85.51490783691406,79.03754425048828,79.77434539794922,-52.33345031738281,-66.34209442138672,-65.94524383544922,-67.877197265625,-67.7586898803711,-68.97875213623047,-68.76326751708984,-70.82606506347656,-72.22180938720703,-76.46622467041016,-79.3009262084961,-79.01734924316406,-77.05892181396484,-77.83674621582031,-79.91817474365234,-78.59210968017578],\"yaxis\":\"y\",\"type\":\"scatter\"}],                        {\"template\":{\"data\":{\"histogram2dcontour\":[{\"type\":\"histogram2dcontour\",\"colorbar\":{\"outlinewidth\":0,\"ticks\":\"\"},\"colorscale\":[[0.0,\"#0d0887\"],[0.1111111111111111,\"#46039f\"],[0.2222222222222222,\"#7201a8\"],[0.3333333333333333,\"#9c179e\"],[0.4444444444444444,\"#bd3786\"],[0.5555555555555556,\"#d8576b\"],[0.6666666666666666,\"#ed7953\"],[0.7777777777777778,\"#fb9f3a\"],[0.8888888888888888,\"#fdca26\"],[1.0,\"#f0f921\"]]}],\"choropleth\":[{\"type\":\"choropleth\",\"colorbar\":{\"outlinewidth\":0,\"ticks\":\"\"}}],\"histogram2d\":[{\"type\":\"histogram2d\",\"colorbar\":{\"outlinewidth\":0,\"ticks\":\"\"},\"colorscale\":[[0.0,\"#0d0887\"],[0.1111111111111111,\"#46039f\"],[0.2222222222222222,\"#7201a8\"],[0.3333333333333333,\"#9c179e\"],[0.4444444444444444,\"#bd3786\"],[0.5555555555555556,\"#d8576b\"],[0.6666666666666666,\"#ed7953\"],[0.7777777777777778,\"#fb9f3a\"],[0.8888888888888888,\"#fdca26\"],[1.0,\"#f0f921\"]]}],\"heatmap\":[{\"type\":\"heatmap\",\"colorbar\":{\"outlinewidth\":0,\"ticks\":\"\"},\"colorscale\":[[0.0,\"#0d0887\"],[0.1111111111111111,\"#46039f\"],[0.2222222222222222,\"#7201a8\"],[0.3333333333333333,\"#9c179e\"],[0.4444444444444444,\"#bd3786\"],[0.5555555555555556,\"#d8576b\"],[0.6666666666666666,\"#ed7953\"],[0.7777777777777778,\"#fb9f3a\"],[0.8888888888888888,\"#fdca26\"],[1.0,\"#f0f921\"]]}],\"heatmapgl\":[{\"type\":\"heatmapgl\",\"colorbar\":{\"outlinewidth\":0,\"ticks\":\"\"},\"colorscale\":[[0.0,\"#0d0887\"],[0.1111111111111111,\"#46039f\"],[0.2222222222222222,\"#7201a8\"],[0.3333333333333333,\"#9c179e\"],[0.4444444444444444,\"#bd3786\"],[0.5555555555555556,\"#d8576b\"],[0.6666666666666666,\"#ed7953\"],[0.7777777777777778,\"#fb9f3a\"],[0.8888888888888888,\"#fdca26\"],[1.0,\"#f0f921\"]]}],\"contourcarpet\":[{\"type\":\"contourcarpet\",\"colorbar\":{\"outlinewidth\":0,\"ticks\":\"\"}}],\"contour\":[{\"type\":\"contour\",\"colorbar\":{\"outlinewidth\":0,\"ticks\":\"\"},\"colorscale\":[[0.0,\"#0d0887\"],[0.1111111111111111,\"#46039f\"],[0.2222222222222222,\"#7201a8\"],[0.3333333333333333,\"#9c179e\"],[0.4444444444444444,\"#bd3786\"],[0.5555555555555556,\"#d8576b\"],[0.6666666666666666,\"#ed7953\"],[0.7777777777777778,\"#fb9f3a\"],[0.8888888888888888,\"#fdca26\"],[1.0,\"#f0f921\"]]}],\"surface\":[{\"type\":\"surface\",\"colorbar\":{\"outlinewidth\":0,\"ticks\":\"\"},\"colorscale\":[[0.0,\"#0d0887\"],[0.1111111111111111,\"#46039f\"],[0.2222222222222222,\"#7201a8\"],[0.3333333333333333,\"#9c179e\"],[0.4444444444444444,\"#bd3786\"],[0.5555555555555556,\"#d8576b\"],[0.6666666666666666,\"#ed7953\"],[0.7777777777777778,\"#fb9f3a\"],[0.8888888888888888,\"#fdca26\"],[1.0,\"#f0f921\"]]}],\"mesh3d\":[{\"type\":\"mesh3d\",\"colorbar\":{\"outlinewidth\":0,\"ticks\":\"\"}}],\"scatter\":[{\"fillpattern\":{\"fillmode\":\"overlay\",\"size\":10,\"solidity\":0.2},\"type\":\"scatter\"}],\"parcoords\":[{\"type\":\"parcoords\",\"line\":{\"colorbar\":{\"outlinewidth\":0,\"ticks\":\"\"}}}],\"scatterpolargl\":[{\"type\":\"scatterpolargl\",\"marker\":{\"colorbar\":{\"outlinewidth\":0,\"ticks\":\"\"}}}],\"bar\":[{\"error_x\":{\"color\":\"#2a3f5f\"},\"error_y\":{\"color\":\"#2a3f5f\"},\"marker\":{\"line\":{\"color\":\"#E5ECF6\",\"width\":0.5},\"pattern\":{\"fillmode\":\"overlay\",\"size\":10,\"solidity\":0.2}},\"type\":\"bar\"}],\"scattergeo\":[{\"type\":\"scattergeo\",\"marker\":{\"colorbar\":{\"outlinewidth\":0,\"ticks\":\"\"}}}],\"scatterpolar\":[{\"type\":\"scatterpolar\",\"marker\":{\"colorbar\":{\"outlinewidth\":0,\"ticks\":\"\"}}}],\"histogram\":[{\"marker\":{\"pattern\":{\"fillmode\":\"overlay\",\"size\":10,\"solidity\":0.2}},\"type\":\"histogram\"}],\"scattergl\":[{\"type\":\"scattergl\",\"marker\":{\"colorbar\":{\"outlinewidth\":0,\"ticks\":\"\"}}}],\"scatter3d\":[{\"type\":\"scatter3d\",\"line\":{\"colorbar\":{\"outlinewidth\":0,\"ticks\":\"\"}},\"marker\":{\"colorbar\":{\"outlinewidth\":0,\"ticks\":\"\"}}}],\"scattermapbox\":[{\"type\":\"scattermapbox\",\"marker\":{\"colorbar\":{\"outlinewidth\":0,\"ticks\":\"\"}}}],\"scatterternary\":[{\"type\":\"scatterternary\",\"marker\":{\"colorbar\":{\"outlinewidth\":0,\"ticks\":\"\"}}}],\"scattercarpet\":[{\"type\":\"scattercarpet\",\"marker\":{\"colorbar\":{\"outlinewidth\":0,\"ticks\":\"\"}}}],\"carpet\":[{\"aaxis\":{\"endlinecolor\":\"#2a3f5f\",\"gridcolor\":\"white\",\"linecolor\":\"white\",\"minorgridcolor\":\"white\",\"startlinecolor\":\"#2a3f5f\"},\"baxis\":{\"endlinecolor\":\"#2a3f5f\",\"gridcolor\":\"white\",\"linecolor\":\"white\",\"minorgridcolor\":\"white\",\"startlinecolor\":\"#2a3f5f\"},\"type\":\"carpet\"}],\"table\":[{\"cells\":{\"fill\":{\"color\":\"#EBF0F8\"},\"line\":{\"color\":\"white\"}},\"header\":{\"fill\":{\"color\":\"#C8D4E3\"},\"line\":{\"color\":\"white\"}},\"type\":\"table\"}],\"barpolar\":[{\"marker\":{\"line\":{\"color\":\"#E5ECF6\",\"width\":0.5},\"pattern\":{\"fillmode\":\"overlay\",\"size\":10,\"solidity\":0.2}},\"type\":\"barpolar\"}],\"pie\":[{\"automargin\":true,\"type\":\"pie\"}]},\"layout\":{\"autotypenumbers\":\"strict\",\"colorway\":[\"#636efa\",\"#EF553B\",\"#00cc96\",\"#ab63fa\",\"#FFA15A\",\"#19d3f3\",\"#FF6692\",\"#B6E880\",\"#FF97FF\",\"#FECB52\"],\"font\":{\"color\":\"#2a3f5f\"},\"hovermode\":\"closest\",\"hoverlabel\":{\"align\":\"left\"},\"paper_bgcolor\":\"white\",\"plot_bgcolor\":\"#E5ECF6\",\"polar\":{\"bgcolor\":\"#E5ECF6\",\"angularaxis\":{\"gridcolor\":\"white\",\"linecolor\":\"white\",\"ticks\":\"\"},\"radialaxis\":{\"gridcolor\":\"white\",\"linecolor\":\"white\",\"ticks\":\"\"}},\"ternary\":{\"bgcolor\":\"#E5ECF6\",\"aaxis\":{\"gridcolor\":\"white\",\"linecolor\":\"white\",\"ticks\":\"\"},\"baxis\":{\"gridcolor\":\"white\",\"linecolor\":\"white\",\"ticks\":\"\"},\"caxis\":{\"gridcolor\":\"white\",\"linecolor\":\"white\",\"ticks\":\"\"}},\"coloraxis\":{\"colorbar\":{\"outlinewidth\":0,\"ticks\":\"\"}},\"colorscale\":{\"sequential\":[[0.0,\"#0d0887\"],[0.1111111111111111,\"#46039f\"],[0.2222222222222222,\"#7201a8\"],[0.3333333333333333,\"#9c179e\"],[0.4444444444444444,\"#bd3786\"],[0.5555555555555556,\"#d8576b\"],[0.6666666666666666,\"#ed7953\"],[0.7777777777777778,\"#fb9f3a\"],[0.8888888888888888,\"#fdca26\"],[1.0,\"#f0f921\"]],\"sequentialminus\":[[0.0,\"#0d0887\"],[0.1111111111111111,\"#46039f\"],[0.2222222222222222,\"#7201a8\"],[0.3333333333333333,\"#9c179e\"],[0.4444444444444444,\"#bd3786\"],[0.5555555555555556,\"#d8576b\"],[0.6666666666666666,\"#ed7953\"],[0.7777777777777778,\"#fb9f3a\"],[0.8888888888888888,\"#fdca26\"],[1.0,\"#f0f921\"]],\"diverging\":[[0,\"#8e0152\"],[0.1,\"#c51b7d\"],[0.2,\"#de77ae\"],[0.3,\"#f1b6da\"],[0.4,\"#fde0ef\"],[0.5,\"#f7f7f7\"],[0.6,\"#e6f5d0\"],[0.7,\"#b8e186\"],[0.8,\"#7fbc41\"],[0.9,\"#4d9221\"],[1,\"#276419\"]]},\"xaxis\":{\"gridcolor\":\"white\",\"linecolor\":\"white\",\"ticks\":\"\",\"title\":{\"standoff\":15},\"zerolinecolor\":\"white\",\"automargin\":true,\"zerolinewidth\":2},\"yaxis\":{\"gridcolor\":\"white\",\"linecolor\":\"white\",\"ticks\":\"\",\"title\":{\"standoff\":15},\"zerolinecolor\":\"white\",\"automargin\":true,\"zerolinewidth\":2},\"scene\":{\"xaxis\":{\"backgroundcolor\":\"#E5ECF6\",\"gridcolor\":\"white\",\"linecolor\":\"white\",\"showbackground\":true,\"ticks\":\"\",\"zerolinecolor\":\"white\",\"gridwidth\":2},\"yaxis\":{\"backgroundcolor\":\"#E5ECF6\",\"gridcolor\":\"white\",\"linecolor\":\"white\",\"showbackground\":true,\"ticks\":\"\",\"zerolinecolor\":\"white\",\"gridwidth\":2},\"zaxis\":{\"backgroundcolor\":\"#E5ECF6\",\"gridcolor\":\"white\",\"linecolor\":\"white\",\"showbackground\":true,\"ticks\":\"\",\"zerolinecolor\":\"white\",\"gridwidth\":2}},\"shapedefaults\":{\"line\":{\"color\":\"#2a3f5f\"}},\"annotationdefaults\":{\"arrowcolor\":\"#2a3f5f\",\"arrowhead\":0,\"arrowwidth\":1},\"geo\":{\"bgcolor\":\"white\",\"landcolor\":\"#E5ECF6\",\"subunitcolor\":\"white\",\"showland\":true,\"showlakes\":true,\"lakecolor\":\"white\"},\"title\":{\"x\":0.05},\"mapbox\":{\"style\":\"light\"}}},\"xaxis\":{\"anchor\":\"y\",\"domain\":[0.0,1.0],\"title\":{\"text\":\"x\"}},\"yaxis\":{\"anchor\":\"x\",\"domain\":[0.0,1.0],\"title\":{\"text\":\"y\"}},\"coloraxis\":{\"colorbar\":{\"title\":{\"text\":\"color\"}},\"colorscale\":[[0.0,\"#0d0887\"],[0.1111111111111111,\"#46039f\"],[0.2222222222222222,\"#7201a8\"],[0.3333333333333333,\"#9c179e\"],[0.4444444444444444,\"#bd3786\"],[0.5555555555555556,\"#d8576b\"],[0.6666666666666666,\"#ed7953\"],[0.7777777777777778,\"#fb9f3a\"],[0.8888888888888888,\"#fdca26\"],[1.0,\"#f0f921\"]]},\"legend\":{\"tracegroupgap\":0},\"title\":{\"text\":\"K-means predicted\"}},                        {\"responsive\": true}                    ).then(function(){\n",
       "                            \n",
       "var gd = document.getElementById('b1282f97-1c40-41b8-8384-c81938fc5b7b');\n",
       "var x = new MutationObserver(function (mutations, observer) {{\n",
       "        var display = window.getComputedStyle(gd).display;\n",
       "        if (!display || display === 'none') {{\n",
       "            console.log([gd, 'removed!']);\n",
       "            Plotly.purge(gd);\n",
       "            observer.disconnect();\n",
       "        }}\n",
       "}});\n",
       "\n",
       "// Listen for the removal of the full notebook cells\n",
       "var notebookContainer = gd.closest('#notebook-container');\n",
       "if (notebookContainer) {{\n",
       "    x.observe(notebookContainer, {childList: true});\n",
       "}}\n",
       "\n",
       "// Listen for the clearing of the current output cell\n",
       "var outputEl = gd.closest('.output');\n",
       "if (outputEl) {{\n",
       "    x.observe(outputEl, {childList: true});\n",
       "}}\n",
       "\n",
       "                        })                };                });            </script>        </div>"
      ]
     },
     "metadata": {},
     "output_type": "display_data"
    },
    {
     "data": {
      "application/vnd.plotly.v1+json": {
       "config": {
        "plotlyServerURL": "https://plot.ly"
       },
       "data": [
        {
         "hovertemplate": "color=hosei<br>x=%{x}<br>y=%{y}<extra></extra>",
         "legendgroup": "hosei",
         "marker": {
          "color": "#636efa",
          "symbol": "circle"
         },
         "mode": "markers",
         "name": "hosei",
         "orientation": "v",
         "showlegend": true,
         "type": "scatter",
         "x": [
          -67.27223205566406,
          -68.56813049316406,
          -72.40565490722656,
          -68.96580505371094,
          -64.92704772949219
         ],
         "xaxis": "x",
         "y": [
          8.40735149383545,
          5.052196979522705,
          -54.675594329833984,
          -53.48655319213867,
          -53.85409164428711
         ],
         "yaxis": "y"
        },
        {
         "hovertemplate": "color=rubicunda<br>x=%{x}<br>y=%{y}<extra></extra>",
         "legendgroup": "rubicunda",
         "marker": {
          "color": "#EF553B",
          "symbol": "circle"
         },
         "mode": "markers",
         "name": "rubicunda",
         "orientation": "v",
         "showlegend": true,
         "type": "scatter",
         "x": [
          -67.19023132324219,
          -67.56150817871094,
          -61.43753433227539,
          -71.74285888671875,
          -69.87593841552734,
          -67.77559661865234,
          -68.5856704711914,
          -67.2320556640625
         ],
         "xaxis": "x",
         "y": [
          5.938101291656494,
          4.858958721160889,
          3.0508413314819336,
          -53.60908508300781,
          -54.229862213134766,
          -52.99259567260742,
          -55.11400604248047,
          -54.71678161621094
         ],
         "yaxis": "y"
        },
        {
         "hovertemplate": "color=mitis<br>x=%{x}<br>y=%{y}<extra></extra>",
         "legendgroup": "mitis",
         "marker": {
          "color": "#00cc96",
          "symbol": "circle"
         },
         "mode": "markers",
         "name": "mitis",
         "orientation": "v",
         "showlegend": true,
         "type": "scatter",
         "x": [
          -66.20805358886719,
          -66.19544982910156,
          -64.37088012695312,
          -62.774322509765625,
          -62.07942581176758,
          -59.017250061035156,
          -61.263614654541016,
          -59.51559829711914,
          -60.95121383666992,
          -58.25402069091797
         ],
         "xaxis": "x",
         "y": [
          9.312206268310547,
          10.58822250366211,
          8.127779960632324,
          5.551912307739258,
          4.645066738128662,
          6.0175042152404785,
          7.842515468597412,
          2.732070207595825,
          6.799627304077148,
          1.9125605821609497
         ],
         "yaxis": "y"
        },
        {
         "hovertemplate": "color=talapoin<br>x=%{x}<br>y=%{y}<extra></extra>",
         "legendgroup": "talapoin",
         "marker": {
          "color": "#ab63fa",
          "symbol": "circle"
         },
         "mode": "markers",
         "name": "talapoin",
         "orientation": "v",
         "showlegend": true,
         "type": "scatter",
         "x": [
          -53.327030181884766,
          -52.62757110595703,
          -55.95917510986328,
          -54.3402099609375,
          -54.91550064086914
         ],
         "xaxis": "x",
         "y": [
          -2.067394495010376,
          -2.7042593955993652,
          -3.244302272796631,
          -3.6893160343170166,
          -2.574280261993408
         ],
         "yaxis": "y"
        },
        {
         "hovertemplate": "color=albigena<br>x=%{x}<br>y=%{y}<extra></extra>",
         "legendgroup": "albigena",
         "marker": {
          "color": "#FFA15A",
          "symbol": "circle"
         },
         "mode": "markers",
         "name": "albigena",
         "orientation": "v",
         "showlegend": true,
         "type": "scatter",
         "x": [
          43.91293716430664,
          45.56434631347656,
          44.43137741088867,
          45.54278564453125,
          -58.06019592285156,
          47.24002456665039
         ],
         "xaxis": "x",
         "y": [
          4.66592264175415,
          4.306750774383545,
          5.944072723388672,
          5.796291351318359,
          6.748660087585449,
          4.658692836761475
         ],
         "yaxis": "y"
        },
        {
         "hovertemplate": "color=badius<br>x=%{x}<br>y=%{y}<extra></extra>",
         "legendgroup": "badius",
         "marker": {
          "color": "#19d3f3",
          "symbol": "circle"
         },
         "mode": "markers",
         "name": "badius",
         "orientation": "v",
         "showlegend": true,
         "type": "scatter",
         "x": [
          -63.114349365234375,
          -58.969566345214844,
          -60.326045989990234,
          -58.89076232910156,
          -61.059146881103516,
          -62.84700393676758,
          -56.63621520996094,
          -60.33967971801758,
          -63.82267379760742,
          -58.74723815917969
         ],
         "xaxis": "x",
         "y": [
          -50.27098846435547,
          -53.21603012084961,
          -54.98150634765625,
          -51.92171859741211,
          -50.63301467895508,
          -55.51521301269531,
          -51.49911117553711,
          -51.470062255859375,
          -54.230865478515625,
          -49.77951431274414
         ],
         "yaxis": "y"
        },
        {
         "hovertemplate": "color=patas<br>x=%{x}<br>y=%{y}<extra></extra>",
         "legendgroup": "patas",
         "marker": {
          "color": "#FF6692",
          "symbol": "circle"
         },
         "mode": "markers",
         "name": "patas",
         "orientation": "v",
         "showlegend": true,
         "type": "scatter",
         "x": [
          -15.94211483001709,
          -19.607954025268555,
          -14.93410587310791,
          -14.339755058288574
         ],
         "xaxis": "x",
         "y": [
          44.04446792602539,
          44.24580383300781,
          46.78224563598633,
          47.78934097290039
         ],
         "yaxis": "y"
        },
        {
         "hovertemplate": "color=fascicularis<br>x=%{x}<br>y=%{y}<extra></extra>",
         "legendgroup": "fascicularis",
         "marker": {
          "color": "#B6E880",
          "symbol": "circle"
         },
         "mode": "markers",
         "name": "fascicularis",
         "orientation": "v",
         "showlegend": true,
         "type": "scatter",
         "x": [
          -25.608964920043945,
          -23.98694610595703,
          -24.1577091217041,
          -24.09730339050293,
          -25.02767562866211,
          -20.647640228271484,
          -25.831470489501953,
          -23.20646095275879
         ],
         "xaxis": "x",
         "y": [
          44.14073181152344,
          52.5225944519043,
          43.83741760253906,
          45.91490173339844,
          47.559913635253906,
          44.573158264160156,
          47.096031188964844,
          46.02247619628906
         ],
         "yaxis": "y"
        },
        {
         "hovertemplate": "color=sylvanus<br>x=%{x}<br>y=%{y}<extra></extra>",
         "legendgroup": "sylvanus",
         "marker": {
          "color": "#FF97FF",
          "symbol": "circle"
         },
         "mode": "markers",
         "name": "sylvanus",
         "orientation": "v",
         "showlegend": true,
         "type": "scatter",
         "x": [
          -11.625402450561523,
          -22.411121368408203
         ],
         "xaxis": "x",
         "y": [
          46.3524169921875,
          52.765628814697266
         ],
         "yaxis": "y"
        },
        {
         "hovertemplate": "color=fuscata<br>x=%{x}<br>y=%{y}<extra></extra>",
         "legendgroup": "fuscata",
         "marker": {
          "color": "#FECB52",
          "symbol": "circle"
         },
         "mode": "markers",
         "name": "fuscata",
         "orientation": "v",
         "showlegend": true,
         "type": "scatter",
         "x": [
          -7.714540958404541,
          -12.736572265625
         ],
         "xaxis": "x",
         "y": [
          46.582340240478516,
          45.240257263183594
         ],
         "yaxis": "y"
        },
        {
         "hovertemplate": "color=mulatta<br>x=%{x}<br>y=%{y}<extra></extra>",
         "legendgroup": "mulatta",
         "marker": {
          "color": "#636efa",
          "symbol": "circle"
         },
         "mode": "markers",
         "name": "mulatta",
         "orientation": "v",
         "showlegend": true,
         "type": "scatter",
         "x": [
          -6.371706008911133,
          -6.942054748535156,
          -11.092110633850098
         ],
         "xaxis": "x",
         "y": [
          44.9184455871582,
          45.74961471557617,
          46.952301025390625
         ],
         "yaxis": "y"
        },
        {
         "hovertemplate": "color=cristata<br>x=%{x}<br>y=%{y}<extra></extra>",
         "legendgroup": "cristata",
         "marker": {
          "color": "#EF553B",
          "symbol": "circle"
         },
         "mode": "markers",
         "name": "cristata",
         "orientation": "v",
         "showlegend": true,
         "type": "scatter",
         "x": [
          32.10185623168945,
          33.379066467285156,
          34.216732025146484,
          34.98834991455078,
          36.10258865356445,
          34.964237213134766,
          38.612327575683594,
          41.43663024902344,
          39.718719482421875,
          43.31443405151367,
          13.569958686828613,
          14.56408405303955,
          12.057944297790527,
          15.110859870910645,
          15.259807586669922,
          14.148350715637207,
          15.655069351196289,
          16.311988830566406
         ],
         "xaxis": "x",
         "y": [
          -13.93498706817627,
          -11.956032752990723,
          -13.45644474029541,
          -14.163726806640625,
          -13.139986991882324,
          -12.272778511047363,
          -12.85519790649414,
          -12.154563903808594,
          -13.53770637512207,
          -10.948173522949219,
          -66.34209442138672,
          -65.94524383544922,
          -67.877197265625,
          -67.7586898803711,
          -68.97875213623047,
          -68.76326751708984,
          -70.82606506347656,
          -72.22180938720703
         ],
         "yaxis": "y"
        },
        {
         "hovertemplate": "color=polykomos<br>x=%{x}<br>y=%{y}<extra></extra>",
         "legendgroup": "polykomos",
         "marker": {
          "color": "#00cc96",
          "symbol": "circle"
         },
         "mode": "markers",
         "name": "polykomos",
         "orientation": "v",
         "showlegend": true,
         "type": "scatter",
         "x": [
          46.54282760620117,
          45.43359375,
          45.334007263183594,
          46.2221794128418,
          48.097652435302734,
          45.49031066894531,
          47.86716079711914,
          48.119651794433594,
          48.10273742675781,
          46.4814453125
         ],
         "xaxis": "x",
         "y": [
          -14.808161735534668,
          -11.876564979553223,
          -13.58482837677002,
          -13.148215293884277,
          -12.945712089538574,
          -9.56855297088623,
          -7.041075229644775,
          -6.10614013671875,
          -4.420571804046631,
          2.927436351776123
         ],
         "yaxis": "y"
        },
        {
         "hovertemplate": "color=torquatus<br>x=%{x}<br>y=%{y}<extra></extra>",
         "legendgroup": "torquatus",
         "marker": {
          "color": "#ab63fa",
          "symbol": "circle"
         },
         "mode": "markers",
         "name": "torquatus",
         "orientation": "v",
         "showlegend": true,
         "type": "scatter",
         "x": [
          49.5808219909668,
          59.93022537231445,
          58.81231689453125,
          55.21099090576172,
          59.93238830566406,
          54.65439987182617,
          57.47296905517578,
          57.7788200378418,
          58.64121627807617
         ],
         "xaxis": "x",
         "y": [
          -12.046643257141113,
          -7.079455852508545,
          -5.735372543334961,
          0.8101893067359924,
          -5.2744340896606445,
          1.238368272781372,
          -3.888709783554077,
          -6.414021968841553,
          -4.391815662384033
         ],
         "yaxis": "y"
        },
        {
         "hovertemplate": "color=gelada<br>x=%{x}<br>y=%{y}<extra></extra>",
         "legendgroup": "gelada",
         "marker": {
          "color": "#FFA15A",
          "symbol": "circle"
         },
         "mode": "markers",
         "name": "gelada",
         "orientation": "v",
         "showlegend": true,
         "type": "scatter",
         "x": [
          14.817604064941406
         ],
         "xaxis": "x",
         "y": [
          -49.9789924621582
         ],
         "yaxis": "y"
        },
        {
         "hovertemplate": "color=leucophaeus<br>x=%{x}<br>y=%{y}<extra></extra>",
         "legendgroup": "leucophaeus",
         "marker": {
          "color": "#19d3f3",
          "symbol": "circle"
         },
         "mode": "markers",
         "name": "leucophaeus",
         "orientation": "v",
         "showlegend": true,
         "type": "scatter",
         "x": [
          14.089917182922363,
          15.181281089782715,
          48.803592681884766,
          -23.522729873657227
         ],
         "xaxis": "x",
         "y": [
          -50.81904220581055,
          -50.996952056884766,
          5.749560832977295,
          30.40633201599121
         ],
         "yaxis": "y"
        },
        {
         "hovertemplate": "color=sphinx<br>x=%{x}<br>y=%{y}<extra></extra>",
         "legendgroup": "sphinx",
         "marker": {
          "color": "#FF6692",
          "symbol": "circle"
         },
         "mode": "markers",
         "name": "sphinx",
         "orientation": "v",
         "showlegend": true,
         "type": "scatter",
         "x": [
          6.781274318695068,
          -24.282150268554688
         ],
         "xaxis": "x",
         "y": [
          -49.016754150390625,
          30.045761108398438
         ],
         "yaxis": "y"
        },
        {
         "hovertemplate": "color=anubis<br>x=%{x}<br>y=%{y}<extra></extra>",
         "legendgroup": "anubis",
         "marker": {
          "color": "#B6E880",
          "symbol": "circle"
         },
         "mode": "markers",
         "name": "anubis",
         "orientation": "v",
         "showlegend": true,
         "type": "scatter",
         "x": [
          6.614353656768799,
          5.546589374542236,
          3.0396621227264404,
          0.3635190725326538,
          1.8030918836593628,
          3.344379425048828,
          4.530632495880127,
          0.6294852495193481,
          -23.37881851196289
         ],
         "xaxis": "x",
         "y": [
          -50.86637878417969,
          -50.84038543701172,
          -47.91277313232422,
          -48.1926155090332,
          -48.08283615112305,
          -46.914974212646484,
          -46.7987060546875,
          -46.7925910949707,
          29.104352951049805
         ],
         "yaxis": "y"
        },
        {
         "hovertemplate": "color=larvatus<br>x=%{x}<br>y=%{y}<extra></extra>",
         "legendgroup": "larvatus",
         "marker": {
          "color": "#FF97FF",
          "symbol": "circle"
         },
         "mode": "markers",
         "name": "larvatus",
         "orientation": "v",
         "showlegend": true,
         "type": "scatter",
         "x": [
          20.56117820739746,
          25.908910751342773,
          26.56980323791504,
          27.37008285522461,
          19.85445213317871,
          18.72612953186035,
          17.90471076965332,
          19.218822479248047,
          18.204133987426758
         ],
         "xaxis": "x",
         "y": [
          -32.49567413330078,
          -26.633602142333984,
          -25.998851776123047,
          -25.257366180419922,
          -34.21723556518555,
          -35.06284713745117,
          -34.080257415771484,
          -32.99473190307617,
          -32.4947395324707
         ],
         "yaxis": "y"
        },
        {
         "hovertemplate": "color=syndactylus<br>x=%{x}<br>y=%{y}<extra></extra>",
         "legendgroup": "syndactylus",
         "marker": {
          "color": "#FECB52",
          "symbol": "circle"
         },
         "mode": "markers",
         "name": "syndactylus",
         "orientation": "v",
         "showlegend": true,
         "type": "scatter",
         "x": [
          -15.57143497467041,
          -18.414106369018555
         ],
         "xaxis": "x",
         "y": [
          42.026546478271484,
          37.71367645263672
         ],
         "yaxis": "y"
        },
        {
         "hovertemplate": "color=lar<br>x=%{x}<br>y=%{y}<extra></extra>",
         "legendgroup": "lar",
         "marker": {
          "color": "#636efa",
          "symbol": "circle"
         },
         "mode": "markers",
         "name": "lar",
         "orientation": "v",
         "showlegend": true,
         "type": "scatter",
         "x": [
          -17.182931900024414,
          -15.79800796508789,
          -8.880319595336914,
          -13.432646751403809,
          -9.515201568603516,
          -12.94061279296875,
          -24.755084991455078,
          -10.51773738861084,
          -11.679998397827148,
          -6.9258341789245605,
          -7.706249237060547,
          17.41221046447754,
          17.648033142089844,
          18.857431411743164,
          18.501150131225586,
          19.648468017578125,
          20.584169387817383,
          20.995380401611328
         ],
         "xaxis": "x",
         "y": [
          37.34537124633789,
          37.32469940185547,
          39.08420181274414,
          38.927452087402344,
          37.85816955566406,
          37.34885025024414,
          52.892364501953125,
          37.14236068725586,
          37.918373107910156,
          36.51137161254883,
          35.9276237487793,
          -76.46622467041016,
          -79.3009262084961,
          -79.01734924316406,
          -77.05892181396484,
          -77.83674621582031,
          -79.91817474365234,
          -78.59210968017578
         ],
         "yaxis": "y"
        },
        {
         "hovertemplate": "color=pygmaeus<br>x=%{x}<br>y=%{y}<extra></extra>",
         "legendgroup": "pygmaeus",
         "marker": {
          "color": "#EF553B",
          "symbol": "circle"
         },
         "mode": "markers",
         "name": "pygmaeus",
         "orientation": "v",
         "showlegend": true,
         "type": "scatter",
         "x": [
          34.442996978759766,
          8.427918434143066
         ],
         "xaxis": "x",
         "y": [
          72.41900634765625,
          -52.33345031738281
         ],
         "yaxis": "y"
        },
        {
         "hovertemplate": "color=troglodytes<br>x=%{x}<br>y=%{y}<extra></extra>",
         "legendgroup": "troglodytes",
         "marker": {
          "color": "#00cc96",
          "symbol": "circle"
         },
         "mode": "markers",
         "name": "troglodytes",
         "orientation": "v",
         "showlegend": true,
         "type": "scatter",
         "x": [
          35.41850280761719,
          39.52070617675781,
          40.304073333740234,
          39.79254913330078,
          37.60464859008789,
          36.790802001953125,
          39.463863372802734,
          37.056156158447266,
          33.268524169921875
         ],
         "xaxis": "x",
         "y": [
          73.80557250976562,
          69.05268096923828,
          69.21849060058594,
          66.47274780273438,
          69.88994598388672,
          67.55867004394531,
          65.5972671508789,
          68.36532592773438,
          74.40147399902344
         ],
         "yaxis": "y"
        },
        {
         "hovertemplate": "color=paniscus<br>x=%{x}<br>y=%{y}<extra></extra>",
         "legendgroup": "paniscus",
         "marker": {
          "color": "#ab63fa",
          "symbol": "circle"
         },
         "mode": "markers",
         "name": "paniscus",
         "orientation": "v",
         "showlegend": true,
         "type": "scatter",
         "x": [
          33.69625473022461,
          31.356767654418945,
          31.604101181030273
         ],
         "xaxis": "x",
         "y": [
          73.32785034179688,
          72.8522720336914,
          74.05286407470703
         ],
         "yaxis": "y"
        },
        {
         "hovertemplate": "color=gorilla<br>x=%{x}<br>y=%{y}<extra></extra>",
         "legendgroup": "gorilla",
         "marker": {
          "color": "#FFA15A",
          "symbol": "circle"
         },
         "mode": "markers",
         "name": "gorilla",
         "orientation": "v",
         "showlegend": true,
         "type": "scatter",
         "x": [
          30.029132843017578,
          30.467906951904297,
          31.0596923828125,
          31.0997257232666,
          30.68779754638672,
          30.7318115234375
         ],
         "xaxis": "x",
         "y": [
          84.79265594482422,
          83.10133361816406,
          84.25443267822266,
          85.51490783691406,
          79.03754425048828,
          79.77434539794922
         ],
         "yaxis": "y"
        }
       ],
       "layout": {
        "legend": {
         "title": {
          "text": "color"
         },
         "tracegroupgap": 0
        },
        "template": {
         "data": {
          "bar": [
           {
            "error_x": {
             "color": "#2a3f5f"
            },
            "error_y": {
             "color": "#2a3f5f"
            },
            "marker": {
             "line": {
              "color": "#E5ECF6",
              "width": 0.5
             },
             "pattern": {
              "fillmode": "overlay",
              "size": 10,
              "solidity": 0.2
             }
            },
            "type": "bar"
           }
          ],
          "barpolar": [
           {
            "marker": {
             "line": {
              "color": "#E5ECF6",
              "width": 0.5
             },
             "pattern": {
              "fillmode": "overlay",
              "size": 10,
              "solidity": 0.2
             }
            },
            "type": "barpolar"
           }
          ],
          "carpet": [
           {
            "aaxis": {
             "endlinecolor": "#2a3f5f",
             "gridcolor": "white",
             "linecolor": "white",
             "minorgridcolor": "white",
             "startlinecolor": "#2a3f5f"
            },
            "baxis": {
             "endlinecolor": "#2a3f5f",
             "gridcolor": "white",
             "linecolor": "white",
             "minorgridcolor": "white",
             "startlinecolor": "#2a3f5f"
            },
            "type": "carpet"
           }
          ],
          "choropleth": [
           {
            "colorbar": {
             "outlinewidth": 0,
             "ticks": ""
            },
            "type": "choropleth"
           }
          ],
          "contour": [
           {
            "colorbar": {
             "outlinewidth": 0,
             "ticks": ""
            },
            "colorscale": [
             [
              0,
              "#0d0887"
             ],
             [
              0.1111111111111111,
              "#46039f"
             ],
             [
              0.2222222222222222,
              "#7201a8"
             ],
             [
              0.3333333333333333,
              "#9c179e"
             ],
             [
              0.4444444444444444,
              "#bd3786"
             ],
             [
              0.5555555555555556,
              "#d8576b"
             ],
             [
              0.6666666666666666,
              "#ed7953"
             ],
             [
              0.7777777777777778,
              "#fb9f3a"
             ],
             [
              0.8888888888888888,
              "#fdca26"
             ],
             [
              1,
              "#f0f921"
             ]
            ],
            "type": "contour"
           }
          ],
          "contourcarpet": [
           {
            "colorbar": {
             "outlinewidth": 0,
             "ticks": ""
            },
            "type": "contourcarpet"
           }
          ],
          "heatmap": [
           {
            "colorbar": {
             "outlinewidth": 0,
             "ticks": ""
            },
            "colorscale": [
             [
              0,
              "#0d0887"
             ],
             [
              0.1111111111111111,
              "#46039f"
             ],
             [
              0.2222222222222222,
              "#7201a8"
             ],
             [
              0.3333333333333333,
              "#9c179e"
             ],
             [
              0.4444444444444444,
              "#bd3786"
             ],
             [
              0.5555555555555556,
              "#d8576b"
             ],
             [
              0.6666666666666666,
              "#ed7953"
             ],
             [
              0.7777777777777778,
              "#fb9f3a"
             ],
             [
              0.8888888888888888,
              "#fdca26"
             ],
             [
              1,
              "#f0f921"
             ]
            ],
            "type": "heatmap"
           }
          ],
          "heatmapgl": [
           {
            "colorbar": {
             "outlinewidth": 0,
             "ticks": ""
            },
            "colorscale": [
             [
              0,
              "#0d0887"
             ],
             [
              0.1111111111111111,
              "#46039f"
             ],
             [
              0.2222222222222222,
              "#7201a8"
             ],
             [
              0.3333333333333333,
              "#9c179e"
             ],
             [
              0.4444444444444444,
              "#bd3786"
             ],
             [
              0.5555555555555556,
              "#d8576b"
             ],
             [
              0.6666666666666666,
              "#ed7953"
             ],
             [
              0.7777777777777778,
              "#fb9f3a"
             ],
             [
              0.8888888888888888,
              "#fdca26"
             ],
             [
              1,
              "#f0f921"
             ]
            ],
            "type": "heatmapgl"
           }
          ],
          "histogram": [
           {
            "marker": {
             "pattern": {
              "fillmode": "overlay",
              "size": 10,
              "solidity": 0.2
             }
            },
            "type": "histogram"
           }
          ],
          "histogram2d": [
           {
            "colorbar": {
             "outlinewidth": 0,
             "ticks": ""
            },
            "colorscale": [
             [
              0,
              "#0d0887"
             ],
             [
              0.1111111111111111,
              "#46039f"
             ],
             [
              0.2222222222222222,
              "#7201a8"
             ],
             [
              0.3333333333333333,
              "#9c179e"
             ],
             [
              0.4444444444444444,
              "#bd3786"
             ],
             [
              0.5555555555555556,
              "#d8576b"
             ],
             [
              0.6666666666666666,
              "#ed7953"
             ],
             [
              0.7777777777777778,
              "#fb9f3a"
             ],
             [
              0.8888888888888888,
              "#fdca26"
             ],
             [
              1,
              "#f0f921"
             ]
            ],
            "type": "histogram2d"
           }
          ],
          "histogram2dcontour": [
           {
            "colorbar": {
             "outlinewidth": 0,
             "ticks": ""
            },
            "colorscale": [
             [
              0,
              "#0d0887"
             ],
             [
              0.1111111111111111,
              "#46039f"
             ],
             [
              0.2222222222222222,
              "#7201a8"
             ],
             [
              0.3333333333333333,
              "#9c179e"
             ],
             [
              0.4444444444444444,
              "#bd3786"
             ],
             [
              0.5555555555555556,
              "#d8576b"
             ],
             [
              0.6666666666666666,
              "#ed7953"
             ],
             [
              0.7777777777777778,
              "#fb9f3a"
             ],
             [
              0.8888888888888888,
              "#fdca26"
             ],
             [
              1,
              "#f0f921"
             ]
            ],
            "type": "histogram2dcontour"
           }
          ],
          "mesh3d": [
           {
            "colorbar": {
             "outlinewidth": 0,
             "ticks": ""
            },
            "type": "mesh3d"
           }
          ],
          "parcoords": [
           {
            "line": {
             "colorbar": {
              "outlinewidth": 0,
              "ticks": ""
             }
            },
            "type": "parcoords"
           }
          ],
          "pie": [
           {
            "automargin": true,
            "type": "pie"
           }
          ],
          "scatter": [
           {
            "fillpattern": {
             "fillmode": "overlay",
             "size": 10,
             "solidity": 0.2
            },
            "type": "scatter"
           }
          ],
          "scatter3d": [
           {
            "line": {
             "colorbar": {
              "outlinewidth": 0,
              "ticks": ""
             }
            },
            "marker": {
             "colorbar": {
              "outlinewidth": 0,
              "ticks": ""
             }
            },
            "type": "scatter3d"
           }
          ],
          "scattercarpet": [
           {
            "marker": {
             "colorbar": {
              "outlinewidth": 0,
              "ticks": ""
             }
            },
            "type": "scattercarpet"
           }
          ],
          "scattergeo": [
           {
            "marker": {
             "colorbar": {
              "outlinewidth": 0,
              "ticks": ""
             }
            },
            "type": "scattergeo"
           }
          ],
          "scattergl": [
           {
            "marker": {
             "colorbar": {
              "outlinewidth": 0,
              "ticks": ""
             }
            },
            "type": "scattergl"
           }
          ],
          "scattermapbox": [
           {
            "marker": {
             "colorbar": {
              "outlinewidth": 0,
              "ticks": ""
             }
            },
            "type": "scattermapbox"
           }
          ],
          "scatterpolar": [
           {
            "marker": {
             "colorbar": {
              "outlinewidth": 0,
              "ticks": ""
             }
            },
            "type": "scatterpolar"
           }
          ],
          "scatterpolargl": [
           {
            "marker": {
             "colorbar": {
              "outlinewidth": 0,
              "ticks": ""
             }
            },
            "type": "scatterpolargl"
           }
          ],
          "scatterternary": [
           {
            "marker": {
             "colorbar": {
              "outlinewidth": 0,
              "ticks": ""
             }
            },
            "type": "scatterternary"
           }
          ],
          "surface": [
           {
            "colorbar": {
             "outlinewidth": 0,
             "ticks": ""
            },
            "colorscale": [
             [
              0,
              "#0d0887"
             ],
             [
              0.1111111111111111,
              "#46039f"
             ],
             [
              0.2222222222222222,
              "#7201a8"
             ],
             [
              0.3333333333333333,
              "#9c179e"
             ],
             [
              0.4444444444444444,
              "#bd3786"
             ],
             [
              0.5555555555555556,
              "#d8576b"
             ],
             [
              0.6666666666666666,
              "#ed7953"
             ],
             [
              0.7777777777777778,
              "#fb9f3a"
             ],
             [
              0.8888888888888888,
              "#fdca26"
             ],
             [
              1,
              "#f0f921"
             ]
            ],
            "type": "surface"
           }
          ],
          "table": [
           {
            "cells": {
             "fill": {
              "color": "#EBF0F8"
             },
             "line": {
              "color": "white"
             }
            },
            "header": {
             "fill": {
              "color": "#C8D4E3"
             },
             "line": {
              "color": "white"
             }
            },
            "type": "table"
           }
          ]
         },
         "layout": {
          "annotationdefaults": {
           "arrowcolor": "#2a3f5f",
           "arrowhead": 0,
           "arrowwidth": 1
          },
          "autotypenumbers": "strict",
          "coloraxis": {
           "colorbar": {
            "outlinewidth": 0,
            "ticks": ""
           }
          },
          "colorscale": {
           "diverging": [
            [
             0,
             "#8e0152"
            ],
            [
             0.1,
             "#c51b7d"
            ],
            [
             0.2,
             "#de77ae"
            ],
            [
             0.3,
             "#f1b6da"
            ],
            [
             0.4,
             "#fde0ef"
            ],
            [
             0.5,
             "#f7f7f7"
            ],
            [
             0.6,
             "#e6f5d0"
            ],
            [
             0.7,
             "#b8e186"
            ],
            [
             0.8,
             "#7fbc41"
            ],
            [
             0.9,
             "#4d9221"
            ],
            [
             1,
             "#276419"
            ]
           ],
           "sequential": [
            [
             0,
             "#0d0887"
            ],
            [
             0.1111111111111111,
             "#46039f"
            ],
            [
             0.2222222222222222,
             "#7201a8"
            ],
            [
             0.3333333333333333,
             "#9c179e"
            ],
            [
             0.4444444444444444,
             "#bd3786"
            ],
            [
             0.5555555555555556,
             "#d8576b"
            ],
            [
             0.6666666666666666,
             "#ed7953"
            ],
            [
             0.7777777777777778,
             "#fb9f3a"
            ],
            [
             0.8888888888888888,
             "#fdca26"
            ],
            [
             1,
             "#f0f921"
            ]
           ],
           "sequentialminus": [
            [
             0,
             "#0d0887"
            ],
            [
             0.1111111111111111,
             "#46039f"
            ],
            [
             0.2222222222222222,
             "#7201a8"
            ],
            [
             0.3333333333333333,
             "#9c179e"
            ],
            [
             0.4444444444444444,
             "#bd3786"
            ],
            [
             0.5555555555555556,
             "#d8576b"
            ],
            [
             0.6666666666666666,
             "#ed7953"
            ],
            [
             0.7777777777777778,
             "#fb9f3a"
            ],
            [
             0.8888888888888888,
             "#fdca26"
            ],
            [
             1,
             "#f0f921"
            ]
           ]
          },
          "colorway": [
           "#636efa",
           "#EF553B",
           "#00cc96",
           "#ab63fa",
           "#FFA15A",
           "#19d3f3",
           "#FF6692",
           "#B6E880",
           "#FF97FF",
           "#FECB52"
          ],
          "font": {
           "color": "#2a3f5f"
          },
          "geo": {
           "bgcolor": "white",
           "lakecolor": "white",
           "landcolor": "#E5ECF6",
           "showlakes": true,
           "showland": true,
           "subunitcolor": "white"
          },
          "hoverlabel": {
           "align": "left"
          },
          "hovermode": "closest",
          "mapbox": {
           "style": "light"
          },
          "paper_bgcolor": "white",
          "plot_bgcolor": "#E5ECF6",
          "polar": {
           "angularaxis": {
            "gridcolor": "white",
            "linecolor": "white",
            "ticks": ""
           },
           "bgcolor": "#E5ECF6",
           "radialaxis": {
            "gridcolor": "white",
            "linecolor": "white",
            "ticks": ""
           }
          },
          "scene": {
           "xaxis": {
            "backgroundcolor": "#E5ECF6",
            "gridcolor": "white",
            "gridwidth": 2,
            "linecolor": "white",
            "showbackground": true,
            "ticks": "",
            "zerolinecolor": "white"
           },
           "yaxis": {
            "backgroundcolor": "#E5ECF6",
            "gridcolor": "white",
            "gridwidth": 2,
            "linecolor": "white",
            "showbackground": true,
            "ticks": "",
            "zerolinecolor": "white"
           },
           "zaxis": {
            "backgroundcolor": "#E5ECF6",
            "gridcolor": "white",
            "gridwidth": 2,
            "linecolor": "white",
            "showbackground": true,
            "ticks": "",
            "zerolinecolor": "white"
           }
          },
          "shapedefaults": {
           "line": {
            "color": "#2a3f5f"
           }
          },
          "ternary": {
           "aaxis": {
            "gridcolor": "white",
            "linecolor": "white",
            "ticks": ""
           },
           "baxis": {
            "gridcolor": "white",
            "linecolor": "white",
            "ticks": ""
           },
           "bgcolor": "#E5ECF6",
           "caxis": {
            "gridcolor": "white",
            "linecolor": "white",
            "ticks": ""
           }
          },
          "title": {
           "x": 0.05
          },
          "xaxis": {
           "automargin": true,
           "gridcolor": "white",
           "linecolor": "white",
           "ticks": "",
           "title": {
            "standoff": 15
           },
           "zerolinecolor": "white",
           "zerolinewidth": 2
          },
          "yaxis": {
           "automargin": true,
           "gridcolor": "white",
           "linecolor": "white",
           "ticks": "",
           "title": {
            "standoff": 15
           },
           "zerolinecolor": "white",
           "zerolinewidth": 2
          }
         }
        },
        "title": {
         "text": "True"
        },
        "xaxis": {
         "anchor": "y",
         "domain": [
          0,
          1
         ],
         "title": {
          "text": "x"
         }
        },
        "yaxis": {
         "anchor": "x",
         "domain": [
          0,
          1
         ],
         "title": {
          "text": "y"
         }
        }
       }
      },
      "text/html": [
       "<div>                            <div id=\"7a0cdf0f-fb25-4438-bbac-2bf04856bc11\" class=\"plotly-graph-div\" style=\"height:525px; width:100%;\"></div>            <script type=\"text/javascript\">                require([\"plotly\"], function(Plotly) {                    window.PLOTLYENV=window.PLOTLYENV || {};                                    if (document.getElementById(\"7a0cdf0f-fb25-4438-bbac-2bf04856bc11\")) {                    Plotly.newPlot(                        \"7a0cdf0f-fb25-4438-bbac-2bf04856bc11\",                        [{\"hovertemplate\":\"color=hosei<br>x=%{x}<br>y=%{y}<extra></extra>\",\"legendgroup\":\"hosei\",\"marker\":{\"color\":\"#636efa\",\"symbol\":\"circle\"},\"mode\":\"markers\",\"name\":\"hosei\",\"orientation\":\"v\",\"showlegend\":true,\"x\":[-67.27223205566406,-68.56813049316406,-72.40565490722656,-68.96580505371094,-64.92704772949219],\"xaxis\":\"x\",\"y\":[8.40735149383545,5.052196979522705,-54.675594329833984,-53.48655319213867,-53.85409164428711],\"yaxis\":\"y\",\"type\":\"scatter\"},{\"hovertemplate\":\"color=rubicunda<br>x=%{x}<br>y=%{y}<extra></extra>\",\"legendgroup\":\"rubicunda\",\"marker\":{\"color\":\"#EF553B\",\"symbol\":\"circle\"},\"mode\":\"markers\",\"name\":\"rubicunda\",\"orientation\":\"v\",\"showlegend\":true,\"x\":[-67.19023132324219,-67.56150817871094,-61.43753433227539,-71.74285888671875,-69.87593841552734,-67.77559661865234,-68.5856704711914,-67.2320556640625],\"xaxis\":\"x\",\"y\":[5.938101291656494,4.858958721160889,3.0508413314819336,-53.60908508300781,-54.229862213134766,-52.99259567260742,-55.11400604248047,-54.71678161621094],\"yaxis\":\"y\",\"type\":\"scatter\"},{\"hovertemplate\":\"color=mitis<br>x=%{x}<br>y=%{y}<extra></extra>\",\"legendgroup\":\"mitis\",\"marker\":{\"color\":\"#00cc96\",\"symbol\":\"circle\"},\"mode\":\"markers\",\"name\":\"mitis\",\"orientation\":\"v\",\"showlegend\":true,\"x\":[-66.20805358886719,-66.19544982910156,-64.37088012695312,-62.774322509765625,-62.07942581176758,-59.017250061035156,-61.263614654541016,-59.51559829711914,-60.95121383666992,-58.25402069091797],\"xaxis\":\"x\",\"y\":[9.312206268310547,10.58822250366211,8.127779960632324,5.551912307739258,4.645066738128662,6.0175042152404785,7.842515468597412,2.732070207595825,6.799627304077148,1.9125605821609497],\"yaxis\":\"y\",\"type\":\"scatter\"},{\"hovertemplate\":\"color=talapoin<br>x=%{x}<br>y=%{y}<extra></extra>\",\"legendgroup\":\"talapoin\",\"marker\":{\"color\":\"#ab63fa\",\"symbol\":\"circle\"},\"mode\":\"markers\",\"name\":\"talapoin\",\"orientation\":\"v\",\"showlegend\":true,\"x\":[-53.327030181884766,-52.62757110595703,-55.95917510986328,-54.3402099609375,-54.91550064086914],\"xaxis\":\"x\",\"y\":[-2.067394495010376,-2.7042593955993652,-3.244302272796631,-3.6893160343170166,-2.574280261993408],\"yaxis\":\"y\",\"type\":\"scatter\"},{\"hovertemplate\":\"color=albigena<br>x=%{x}<br>y=%{y}<extra></extra>\",\"legendgroup\":\"albigena\",\"marker\":{\"color\":\"#FFA15A\",\"symbol\":\"circle\"},\"mode\":\"markers\",\"name\":\"albigena\",\"orientation\":\"v\",\"showlegend\":true,\"x\":[43.91293716430664,45.56434631347656,44.43137741088867,45.54278564453125,-58.06019592285156,47.24002456665039],\"xaxis\":\"x\",\"y\":[4.66592264175415,4.306750774383545,5.944072723388672,5.796291351318359,6.748660087585449,4.658692836761475],\"yaxis\":\"y\",\"type\":\"scatter\"},{\"hovertemplate\":\"color=badius<br>x=%{x}<br>y=%{y}<extra></extra>\",\"legendgroup\":\"badius\",\"marker\":{\"color\":\"#19d3f3\",\"symbol\":\"circle\"},\"mode\":\"markers\",\"name\":\"badius\",\"orientation\":\"v\",\"showlegend\":true,\"x\":[-63.114349365234375,-58.969566345214844,-60.326045989990234,-58.89076232910156,-61.059146881103516,-62.84700393676758,-56.63621520996094,-60.33967971801758,-63.82267379760742,-58.74723815917969],\"xaxis\":\"x\",\"y\":[-50.27098846435547,-53.21603012084961,-54.98150634765625,-51.92171859741211,-50.63301467895508,-55.51521301269531,-51.49911117553711,-51.470062255859375,-54.230865478515625,-49.77951431274414],\"yaxis\":\"y\",\"type\":\"scatter\"},{\"hovertemplate\":\"color=patas<br>x=%{x}<br>y=%{y}<extra></extra>\",\"legendgroup\":\"patas\",\"marker\":{\"color\":\"#FF6692\",\"symbol\":\"circle\"},\"mode\":\"markers\",\"name\":\"patas\",\"orientation\":\"v\",\"showlegend\":true,\"x\":[-15.94211483001709,-19.607954025268555,-14.93410587310791,-14.339755058288574],\"xaxis\":\"x\",\"y\":[44.04446792602539,44.24580383300781,46.78224563598633,47.78934097290039],\"yaxis\":\"y\",\"type\":\"scatter\"},{\"hovertemplate\":\"color=fascicularis<br>x=%{x}<br>y=%{y}<extra></extra>\",\"legendgroup\":\"fascicularis\",\"marker\":{\"color\":\"#B6E880\",\"symbol\":\"circle\"},\"mode\":\"markers\",\"name\":\"fascicularis\",\"orientation\":\"v\",\"showlegend\":true,\"x\":[-25.608964920043945,-23.98694610595703,-24.1577091217041,-24.09730339050293,-25.02767562866211,-20.647640228271484,-25.831470489501953,-23.20646095275879],\"xaxis\":\"x\",\"y\":[44.14073181152344,52.5225944519043,43.83741760253906,45.91490173339844,47.559913635253906,44.573158264160156,47.096031188964844,46.02247619628906],\"yaxis\":\"y\",\"type\":\"scatter\"},{\"hovertemplate\":\"color=sylvanus<br>x=%{x}<br>y=%{y}<extra></extra>\",\"legendgroup\":\"sylvanus\",\"marker\":{\"color\":\"#FF97FF\",\"symbol\":\"circle\"},\"mode\":\"markers\",\"name\":\"sylvanus\",\"orientation\":\"v\",\"showlegend\":true,\"x\":[-11.625402450561523,-22.411121368408203],\"xaxis\":\"x\",\"y\":[46.3524169921875,52.765628814697266],\"yaxis\":\"y\",\"type\":\"scatter\"},{\"hovertemplate\":\"color=fuscata<br>x=%{x}<br>y=%{y}<extra></extra>\",\"legendgroup\":\"fuscata\",\"marker\":{\"color\":\"#FECB52\",\"symbol\":\"circle\"},\"mode\":\"markers\",\"name\":\"fuscata\",\"orientation\":\"v\",\"showlegend\":true,\"x\":[-7.714540958404541,-12.736572265625],\"xaxis\":\"x\",\"y\":[46.582340240478516,45.240257263183594],\"yaxis\":\"y\",\"type\":\"scatter\"},{\"hovertemplate\":\"color=mulatta<br>x=%{x}<br>y=%{y}<extra></extra>\",\"legendgroup\":\"mulatta\",\"marker\":{\"color\":\"#636efa\",\"symbol\":\"circle\"},\"mode\":\"markers\",\"name\":\"mulatta\",\"orientation\":\"v\",\"showlegend\":true,\"x\":[-6.371706008911133,-6.942054748535156,-11.092110633850098],\"xaxis\":\"x\",\"y\":[44.9184455871582,45.74961471557617,46.952301025390625],\"yaxis\":\"y\",\"type\":\"scatter\"},{\"hovertemplate\":\"color=cristata<br>x=%{x}<br>y=%{y}<extra></extra>\",\"legendgroup\":\"cristata\",\"marker\":{\"color\":\"#EF553B\",\"symbol\":\"circle\"},\"mode\":\"markers\",\"name\":\"cristata\",\"orientation\":\"v\",\"showlegend\":true,\"x\":[32.10185623168945,33.379066467285156,34.216732025146484,34.98834991455078,36.10258865356445,34.964237213134766,38.612327575683594,41.43663024902344,39.718719482421875,43.31443405151367,13.569958686828613,14.56408405303955,12.057944297790527,15.110859870910645,15.259807586669922,14.148350715637207,15.655069351196289,16.311988830566406],\"xaxis\":\"x\",\"y\":[-13.93498706817627,-11.956032752990723,-13.45644474029541,-14.163726806640625,-13.139986991882324,-12.272778511047363,-12.85519790649414,-12.154563903808594,-13.53770637512207,-10.948173522949219,-66.34209442138672,-65.94524383544922,-67.877197265625,-67.7586898803711,-68.97875213623047,-68.76326751708984,-70.82606506347656,-72.22180938720703],\"yaxis\":\"y\",\"type\":\"scatter\"},{\"hovertemplate\":\"color=polykomos<br>x=%{x}<br>y=%{y}<extra></extra>\",\"legendgroup\":\"polykomos\",\"marker\":{\"color\":\"#00cc96\",\"symbol\":\"circle\"},\"mode\":\"markers\",\"name\":\"polykomos\",\"orientation\":\"v\",\"showlegend\":true,\"x\":[46.54282760620117,45.43359375,45.334007263183594,46.2221794128418,48.097652435302734,45.49031066894531,47.86716079711914,48.119651794433594,48.10273742675781,46.4814453125],\"xaxis\":\"x\",\"y\":[-14.808161735534668,-11.876564979553223,-13.58482837677002,-13.148215293884277,-12.945712089538574,-9.56855297088623,-7.041075229644775,-6.10614013671875,-4.420571804046631,2.927436351776123],\"yaxis\":\"y\",\"type\":\"scatter\"},{\"hovertemplate\":\"color=torquatus<br>x=%{x}<br>y=%{y}<extra></extra>\",\"legendgroup\":\"torquatus\",\"marker\":{\"color\":\"#ab63fa\",\"symbol\":\"circle\"},\"mode\":\"markers\",\"name\":\"torquatus\",\"orientation\":\"v\",\"showlegend\":true,\"x\":[49.5808219909668,59.93022537231445,58.81231689453125,55.21099090576172,59.93238830566406,54.65439987182617,57.47296905517578,57.7788200378418,58.64121627807617],\"xaxis\":\"x\",\"y\":[-12.046643257141113,-7.079455852508545,-5.735372543334961,0.8101893067359924,-5.2744340896606445,1.238368272781372,-3.888709783554077,-6.414021968841553,-4.391815662384033],\"yaxis\":\"y\",\"type\":\"scatter\"},{\"hovertemplate\":\"color=gelada<br>x=%{x}<br>y=%{y}<extra></extra>\",\"legendgroup\":\"gelada\",\"marker\":{\"color\":\"#FFA15A\",\"symbol\":\"circle\"},\"mode\":\"markers\",\"name\":\"gelada\",\"orientation\":\"v\",\"showlegend\":true,\"x\":[14.817604064941406],\"xaxis\":\"x\",\"y\":[-49.9789924621582],\"yaxis\":\"y\",\"type\":\"scatter\"},{\"hovertemplate\":\"color=leucophaeus<br>x=%{x}<br>y=%{y}<extra></extra>\",\"legendgroup\":\"leucophaeus\",\"marker\":{\"color\":\"#19d3f3\",\"symbol\":\"circle\"},\"mode\":\"markers\",\"name\":\"leucophaeus\",\"orientation\":\"v\",\"showlegend\":true,\"x\":[14.089917182922363,15.181281089782715,48.803592681884766,-23.522729873657227],\"xaxis\":\"x\",\"y\":[-50.81904220581055,-50.996952056884766,5.749560832977295,30.40633201599121],\"yaxis\":\"y\",\"type\":\"scatter\"},{\"hovertemplate\":\"color=sphinx<br>x=%{x}<br>y=%{y}<extra></extra>\",\"legendgroup\":\"sphinx\",\"marker\":{\"color\":\"#FF6692\",\"symbol\":\"circle\"},\"mode\":\"markers\",\"name\":\"sphinx\",\"orientation\":\"v\",\"showlegend\":true,\"x\":[6.781274318695068,-24.282150268554688],\"xaxis\":\"x\",\"y\":[-49.016754150390625,30.045761108398438],\"yaxis\":\"y\",\"type\":\"scatter\"},{\"hovertemplate\":\"color=anubis<br>x=%{x}<br>y=%{y}<extra></extra>\",\"legendgroup\":\"anubis\",\"marker\":{\"color\":\"#B6E880\",\"symbol\":\"circle\"},\"mode\":\"markers\",\"name\":\"anubis\",\"orientation\":\"v\",\"showlegend\":true,\"x\":[6.614353656768799,5.546589374542236,3.0396621227264404,0.3635190725326538,1.8030918836593628,3.344379425048828,4.530632495880127,0.6294852495193481,-23.37881851196289],\"xaxis\":\"x\",\"y\":[-50.86637878417969,-50.84038543701172,-47.91277313232422,-48.1926155090332,-48.08283615112305,-46.914974212646484,-46.7987060546875,-46.7925910949707,29.104352951049805],\"yaxis\":\"y\",\"type\":\"scatter\"},{\"hovertemplate\":\"color=larvatus<br>x=%{x}<br>y=%{y}<extra></extra>\",\"legendgroup\":\"larvatus\",\"marker\":{\"color\":\"#FF97FF\",\"symbol\":\"circle\"},\"mode\":\"markers\",\"name\":\"larvatus\",\"orientation\":\"v\",\"showlegend\":true,\"x\":[20.56117820739746,25.908910751342773,26.56980323791504,27.37008285522461,19.85445213317871,18.72612953186035,17.90471076965332,19.218822479248047,18.204133987426758],\"xaxis\":\"x\",\"y\":[-32.49567413330078,-26.633602142333984,-25.998851776123047,-25.257366180419922,-34.21723556518555,-35.06284713745117,-34.080257415771484,-32.99473190307617,-32.4947395324707],\"yaxis\":\"y\",\"type\":\"scatter\"},{\"hovertemplate\":\"color=syndactylus<br>x=%{x}<br>y=%{y}<extra></extra>\",\"legendgroup\":\"syndactylus\",\"marker\":{\"color\":\"#FECB52\",\"symbol\":\"circle\"},\"mode\":\"markers\",\"name\":\"syndactylus\",\"orientation\":\"v\",\"showlegend\":true,\"x\":[-15.57143497467041,-18.414106369018555],\"xaxis\":\"x\",\"y\":[42.026546478271484,37.71367645263672],\"yaxis\":\"y\",\"type\":\"scatter\"},{\"hovertemplate\":\"color=lar<br>x=%{x}<br>y=%{y}<extra></extra>\",\"legendgroup\":\"lar\",\"marker\":{\"color\":\"#636efa\",\"symbol\":\"circle\"},\"mode\":\"markers\",\"name\":\"lar\",\"orientation\":\"v\",\"showlegend\":true,\"x\":[-17.182931900024414,-15.79800796508789,-8.880319595336914,-13.432646751403809,-9.515201568603516,-12.94061279296875,-24.755084991455078,-10.51773738861084,-11.679998397827148,-6.9258341789245605,-7.706249237060547,17.41221046447754,17.648033142089844,18.857431411743164,18.501150131225586,19.648468017578125,20.584169387817383,20.995380401611328],\"xaxis\":\"x\",\"y\":[37.34537124633789,37.32469940185547,39.08420181274414,38.927452087402344,37.85816955566406,37.34885025024414,52.892364501953125,37.14236068725586,37.918373107910156,36.51137161254883,35.9276237487793,-76.46622467041016,-79.3009262084961,-79.01734924316406,-77.05892181396484,-77.83674621582031,-79.91817474365234,-78.59210968017578],\"yaxis\":\"y\",\"type\":\"scatter\"},{\"hovertemplate\":\"color=pygmaeus<br>x=%{x}<br>y=%{y}<extra></extra>\",\"legendgroup\":\"pygmaeus\",\"marker\":{\"color\":\"#EF553B\",\"symbol\":\"circle\"},\"mode\":\"markers\",\"name\":\"pygmaeus\",\"orientation\":\"v\",\"showlegend\":true,\"x\":[34.442996978759766,8.427918434143066],\"xaxis\":\"x\",\"y\":[72.41900634765625,-52.33345031738281],\"yaxis\":\"y\",\"type\":\"scatter\"},{\"hovertemplate\":\"color=troglodytes<br>x=%{x}<br>y=%{y}<extra></extra>\",\"legendgroup\":\"troglodytes\",\"marker\":{\"color\":\"#00cc96\",\"symbol\":\"circle\"},\"mode\":\"markers\",\"name\":\"troglodytes\",\"orientation\":\"v\",\"showlegend\":true,\"x\":[35.41850280761719,39.52070617675781,40.304073333740234,39.79254913330078,37.60464859008789,36.790802001953125,39.463863372802734,37.056156158447266,33.268524169921875],\"xaxis\":\"x\",\"y\":[73.80557250976562,69.05268096923828,69.21849060058594,66.47274780273438,69.88994598388672,67.55867004394531,65.5972671508789,68.36532592773438,74.40147399902344],\"yaxis\":\"y\",\"type\":\"scatter\"},{\"hovertemplate\":\"color=paniscus<br>x=%{x}<br>y=%{y}<extra></extra>\",\"legendgroup\":\"paniscus\",\"marker\":{\"color\":\"#ab63fa\",\"symbol\":\"circle\"},\"mode\":\"markers\",\"name\":\"paniscus\",\"orientation\":\"v\",\"showlegend\":true,\"x\":[33.69625473022461,31.356767654418945,31.604101181030273],\"xaxis\":\"x\",\"y\":[73.32785034179688,72.8522720336914,74.05286407470703],\"yaxis\":\"y\",\"type\":\"scatter\"},{\"hovertemplate\":\"color=gorilla<br>x=%{x}<br>y=%{y}<extra></extra>\",\"legendgroup\":\"gorilla\",\"marker\":{\"color\":\"#FFA15A\",\"symbol\":\"circle\"},\"mode\":\"markers\",\"name\":\"gorilla\",\"orientation\":\"v\",\"showlegend\":true,\"x\":[30.029132843017578,30.467906951904297,31.0596923828125,31.0997257232666,30.68779754638672,30.7318115234375],\"xaxis\":\"x\",\"y\":[84.79265594482422,83.10133361816406,84.25443267822266,85.51490783691406,79.03754425048828,79.77434539794922],\"yaxis\":\"y\",\"type\":\"scatter\"}],                        {\"template\":{\"data\":{\"histogram2dcontour\":[{\"type\":\"histogram2dcontour\",\"colorbar\":{\"outlinewidth\":0,\"ticks\":\"\"},\"colorscale\":[[0.0,\"#0d0887\"],[0.1111111111111111,\"#46039f\"],[0.2222222222222222,\"#7201a8\"],[0.3333333333333333,\"#9c179e\"],[0.4444444444444444,\"#bd3786\"],[0.5555555555555556,\"#d8576b\"],[0.6666666666666666,\"#ed7953\"],[0.7777777777777778,\"#fb9f3a\"],[0.8888888888888888,\"#fdca26\"],[1.0,\"#f0f921\"]]}],\"choropleth\":[{\"type\":\"choropleth\",\"colorbar\":{\"outlinewidth\":0,\"ticks\":\"\"}}],\"histogram2d\":[{\"type\":\"histogram2d\",\"colorbar\":{\"outlinewidth\":0,\"ticks\":\"\"},\"colorscale\":[[0.0,\"#0d0887\"],[0.1111111111111111,\"#46039f\"],[0.2222222222222222,\"#7201a8\"],[0.3333333333333333,\"#9c179e\"],[0.4444444444444444,\"#bd3786\"],[0.5555555555555556,\"#d8576b\"],[0.6666666666666666,\"#ed7953\"],[0.7777777777777778,\"#fb9f3a\"],[0.8888888888888888,\"#fdca26\"],[1.0,\"#f0f921\"]]}],\"heatmap\":[{\"type\":\"heatmap\",\"colorbar\":{\"outlinewidth\":0,\"ticks\":\"\"},\"colorscale\":[[0.0,\"#0d0887\"],[0.1111111111111111,\"#46039f\"],[0.2222222222222222,\"#7201a8\"],[0.3333333333333333,\"#9c179e\"],[0.4444444444444444,\"#bd3786\"],[0.5555555555555556,\"#d8576b\"],[0.6666666666666666,\"#ed7953\"],[0.7777777777777778,\"#fb9f3a\"],[0.8888888888888888,\"#fdca26\"],[1.0,\"#f0f921\"]]}],\"heatmapgl\":[{\"type\":\"heatmapgl\",\"colorbar\":{\"outlinewidth\":0,\"ticks\":\"\"},\"colorscale\":[[0.0,\"#0d0887\"],[0.1111111111111111,\"#46039f\"],[0.2222222222222222,\"#7201a8\"],[0.3333333333333333,\"#9c179e\"],[0.4444444444444444,\"#bd3786\"],[0.5555555555555556,\"#d8576b\"],[0.6666666666666666,\"#ed7953\"],[0.7777777777777778,\"#fb9f3a\"],[0.8888888888888888,\"#fdca26\"],[1.0,\"#f0f921\"]]}],\"contourcarpet\":[{\"type\":\"contourcarpet\",\"colorbar\":{\"outlinewidth\":0,\"ticks\":\"\"}}],\"contour\":[{\"type\":\"contour\",\"colorbar\":{\"outlinewidth\":0,\"ticks\":\"\"},\"colorscale\":[[0.0,\"#0d0887\"],[0.1111111111111111,\"#46039f\"],[0.2222222222222222,\"#7201a8\"],[0.3333333333333333,\"#9c179e\"],[0.4444444444444444,\"#bd3786\"],[0.5555555555555556,\"#d8576b\"],[0.6666666666666666,\"#ed7953\"],[0.7777777777777778,\"#fb9f3a\"],[0.8888888888888888,\"#fdca26\"],[1.0,\"#f0f921\"]]}],\"surface\":[{\"type\":\"surface\",\"colorbar\":{\"outlinewidth\":0,\"ticks\":\"\"},\"colorscale\":[[0.0,\"#0d0887\"],[0.1111111111111111,\"#46039f\"],[0.2222222222222222,\"#7201a8\"],[0.3333333333333333,\"#9c179e\"],[0.4444444444444444,\"#bd3786\"],[0.5555555555555556,\"#d8576b\"],[0.6666666666666666,\"#ed7953\"],[0.7777777777777778,\"#fb9f3a\"],[0.8888888888888888,\"#fdca26\"],[1.0,\"#f0f921\"]]}],\"mesh3d\":[{\"type\":\"mesh3d\",\"colorbar\":{\"outlinewidth\":0,\"ticks\":\"\"}}],\"scatter\":[{\"fillpattern\":{\"fillmode\":\"overlay\",\"size\":10,\"solidity\":0.2},\"type\":\"scatter\"}],\"parcoords\":[{\"type\":\"parcoords\",\"line\":{\"colorbar\":{\"outlinewidth\":0,\"ticks\":\"\"}}}],\"scatterpolargl\":[{\"type\":\"scatterpolargl\",\"marker\":{\"colorbar\":{\"outlinewidth\":0,\"ticks\":\"\"}}}],\"bar\":[{\"error_x\":{\"color\":\"#2a3f5f\"},\"error_y\":{\"color\":\"#2a3f5f\"},\"marker\":{\"line\":{\"color\":\"#E5ECF6\",\"width\":0.5},\"pattern\":{\"fillmode\":\"overlay\",\"size\":10,\"solidity\":0.2}},\"type\":\"bar\"}],\"scattergeo\":[{\"type\":\"scattergeo\",\"marker\":{\"colorbar\":{\"outlinewidth\":0,\"ticks\":\"\"}}}],\"scatterpolar\":[{\"type\":\"scatterpolar\",\"marker\":{\"colorbar\":{\"outlinewidth\":0,\"ticks\":\"\"}}}],\"histogram\":[{\"marker\":{\"pattern\":{\"fillmode\":\"overlay\",\"size\":10,\"solidity\":0.2}},\"type\":\"histogram\"}],\"scattergl\":[{\"type\":\"scattergl\",\"marker\":{\"colorbar\":{\"outlinewidth\":0,\"ticks\":\"\"}}}],\"scatter3d\":[{\"type\":\"scatter3d\",\"line\":{\"colorbar\":{\"outlinewidth\":0,\"ticks\":\"\"}},\"marker\":{\"colorbar\":{\"outlinewidth\":0,\"ticks\":\"\"}}}],\"scattermapbox\":[{\"type\":\"scattermapbox\",\"marker\":{\"colorbar\":{\"outlinewidth\":0,\"ticks\":\"\"}}}],\"scatterternary\":[{\"type\":\"scatterternary\",\"marker\":{\"colorbar\":{\"outlinewidth\":0,\"ticks\":\"\"}}}],\"scattercarpet\":[{\"type\":\"scattercarpet\",\"marker\":{\"colorbar\":{\"outlinewidth\":0,\"ticks\":\"\"}}}],\"carpet\":[{\"aaxis\":{\"endlinecolor\":\"#2a3f5f\",\"gridcolor\":\"white\",\"linecolor\":\"white\",\"minorgridcolor\":\"white\",\"startlinecolor\":\"#2a3f5f\"},\"baxis\":{\"endlinecolor\":\"#2a3f5f\",\"gridcolor\":\"white\",\"linecolor\":\"white\",\"minorgridcolor\":\"white\",\"startlinecolor\":\"#2a3f5f\"},\"type\":\"carpet\"}],\"table\":[{\"cells\":{\"fill\":{\"color\":\"#EBF0F8\"},\"line\":{\"color\":\"white\"}},\"header\":{\"fill\":{\"color\":\"#C8D4E3\"},\"line\":{\"color\":\"white\"}},\"type\":\"table\"}],\"barpolar\":[{\"marker\":{\"line\":{\"color\":\"#E5ECF6\",\"width\":0.5},\"pattern\":{\"fillmode\":\"overlay\",\"size\":10,\"solidity\":0.2}},\"type\":\"barpolar\"}],\"pie\":[{\"automargin\":true,\"type\":\"pie\"}]},\"layout\":{\"autotypenumbers\":\"strict\",\"colorway\":[\"#636efa\",\"#EF553B\",\"#00cc96\",\"#ab63fa\",\"#FFA15A\",\"#19d3f3\",\"#FF6692\",\"#B6E880\",\"#FF97FF\",\"#FECB52\"],\"font\":{\"color\":\"#2a3f5f\"},\"hovermode\":\"closest\",\"hoverlabel\":{\"align\":\"left\"},\"paper_bgcolor\":\"white\",\"plot_bgcolor\":\"#E5ECF6\",\"polar\":{\"bgcolor\":\"#E5ECF6\",\"angularaxis\":{\"gridcolor\":\"white\",\"linecolor\":\"white\",\"ticks\":\"\"},\"radialaxis\":{\"gridcolor\":\"white\",\"linecolor\":\"white\",\"ticks\":\"\"}},\"ternary\":{\"bgcolor\":\"#E5ECF6\",\"aaxis\":{\"gridcolor\":\"white\",\"linecolor\":\"white\",\"ticks\":\"\"},\"baxis\":{\"gridcolor\":\"white\",\"linecolor\":\"white\",\"ticks\":\"\"},\"caxis\":{\"gridcolor\":\"white\",\"linecolor\":\"white\",\"ticks\":\"\"}},\"coloraxis\":{\"colorbar\":{\"outlinewidth\":0,\"ticks\":\"\"}},\"colorscale\":{\"sequential\":[[0.0,\"#0d0887\"],[0.1111111111111111,\"#46039f\"],[0.2222222222222222,\"#7201a8\"],[0.3333333333333333,\"#9c179e\"],[0.4444444444444444,\"#bd3786\"],[0.5555555555555556,\"#d8576b\"],[0.6666666666666666,\"#ed7953\"],[0.7777777777777778,\"#fb9f3a\"],[0.8888888888888888,\"#fdca26\"],[1.0,\"#f0f921\"]],\"sequentialminus\":[[0.0,\"#0d0887\"],[0.1111111111111111,\"#46039f\"],[0.2222222222222222,\"#7201a8\"],[0.3333333333333333,\"#9c179e\"],[0.4444444444444444,\"#bd3786\"],[0.5555555555555556,\"#d8576b\"],[0.6666666666666666,\"#ed7953\"],[0.7777777777777778,\"#fb9f3a\"],[0.8888888888888888,\"#fdca26\"],[1.0,\"#f0f921\"]],\"diverging\":[[0,\"#8e0152\"],[0.1,\"#c51b7d\"],[0.2,\"#de77ae\"],[0.3,\"#f1b6da\"],[0.4,\"#fde0ef\"],[0.5,\"#f7f7f7\"],[0.6,\"#e6f5d0\"],[0.7,\"#b8e186\"],[0.8,\"#7fbc41\"],[0.9,\"#4d9221\"],[1,\"#276419\"]]},\"xaxis\":{\"gridcolor\":\"white\",\"linecolor\":\"white\",\"ticks\":\"\",\"title\":{\"standoff\":15},\"zerolinecolor\":\"white\",\"automargin\":true,\"zerolinewidth\":2},\"yaxis\":{\"gridcolor\":\"white\",\"linecolor\":\"white\",\"ticks\":\"\",\"title\":{\"standoff\":15},\"zerolinecolor\":\"white\",\"automargin\":true,\"zerolinewidth\":2},\"scene\":{\"xaxis\":{\"backgroundcolor\":\"#E5ECF6\",\"gridcolor\":\"white\",\"linecolor\":\"white\",\"showbackground\":true,\"ticks\":\"\",\"zerolinecolor\":\"white\",\"gridwidth\":2},\"yaxis\":{\"backgroundcolor\":\"#E5ECF6\",\"gridcolor\":\"white\",\"linecolor\":\"white\",\"showbackground\":true,\"ticks\":\"\",\"zerolinecolor\":\"white\",\"gridwidth\":2},\"zaxis\":{\"backgroundcolor\":\"#E5ECF6\",\"gridcolor\":\"white\",\"linecolor\":\"white\",\"showbackground\":true,\"ticks\":\"\",\"zerolinecolor\":\"white\",\"gridwidth\":2}},\"shapedefaults\":{\"line\":{\"color\":\"#2a3f5f\"}},\"annotationdefaults\":{\"arrowcolor\":\"#2a3f5f\",\"arrowhead\":0,\"arrowwidth\":1},\"geo\":{\"bgcolor\":\"white\",\"landcolor\":\"#E5ECF6\",\"subunitcolor\":\"white\",\"showland\":true,\"showlakes\":true,\"lakecolor\":\"white\"},\"title\":{\"x\":0.05},\"mapbox\":{\"style\":\"light\"}}},\"xaxis\":{\"anchor\":\"y\",\"domain\":[0.0,1.0],\"title\":{\"text\":\"x\"}},\"yaxis\":{\"anchor\":\"x\",\"domain\":[0.0,1.0],\"title\":{\"text\":\"y\"}},\"legend\":{\"title\":{\"text\":\"color\"},\"tracegroupgap\":0},\"title\":{\"text\":\"True\"}},                        {\"responsive\": true}                    ).then(function(){\n",
       "                            \n",
       "var gd = document.getElementById('7a0cdf0f-fb25-4438-bbac-2bf04856bc11');\n",
       "var x = new MutationObserver(function (mutations, observer) {{\n",
       "        var display = window.getComputedStyle(gd).display;\n",
       "        if (!display || display === 'none') {{\n",
       "            console.log([gd, 'removed!']);\n",
       "            Plotly.purge(gd);\n",
       "            observer.disconnect();\n",
       "        }}\n",
       "}});\n",
       "\n",
       "// Listen for the removal of the full notebook cells\n",
       "var notebookContainer = gd.closest('#notebook-container');\n",
       "if (notebookContainer) {{\n",
       "    x.observe(notebookContainer, {childList: true});\n",
       "}}\n",
       "\n",
       "// Listen for the clearing of the current output cell\n",
       "var outputEl = gd.closest('.output');\n",
       "if (outputEl) {{\n",
       "    x.observe(outputEl, {childList: true});\n",
       "}}\n",
       "\n",
       "                        })                };                });            </script>        </div>"
      ]
     },
     "metadata": {},
     "output_type": "display_data"
    }
   ],
   "source": [
    "\n",
    "from sklearn.cluster import KMeans\n",
    "kmns = KMeans(n_clusters=25, init='k-means++')\n",
    "kY = kmns.fit_predict(X)\n",
    "# K-means on tSNE results\n",
    "kmns = KMeans(n_clusters=25, init='k-means++')\n",
    "kY = kmns.fit_predict(Y)\n",
    "\n",
    "fig = px.scatter( x=Y[:,0], y=Y[:,1] , color=kY, title='K-means predicted')\n",
    "fig.show()\n",
    "\n",
    "fig = px.scatter( x=Y[:,0], y=Y[:,1] , color=df['Species'], title='True')\n",
    "fig.show()"
   ]
  },
  {
   "cell_type": "markdown",
   "id": "70f44810",
   "metadata": {},
   "source": [
    "As we see the data is so difficult to seprate the spcies because the coordinates do not explain the clusters enough.\n",
    "The results aren't great, as expected. Many species get misclassified, including the badius and rubicunda.\n",
    "there is no requirement to predetermine the number of clusters as we did in the K-Means algorithm.\n"
   ]
  },
  {
   "cell_type": "code",
   "execution_count": 68,
   "id": "c6730c8d",
   "metadata": {},
   "outputs": [
    {
     "name": "stderr",
     "output_type": "stream",
     "text": [
      "C:\\Users\\Farimah\\anaconda3\\lib\\site-packages\\sklearn\\cluster\\_kmeans.py:1332: UserWarning:\n",
      "\n",
      "KMeans is known to have a memory leak on Windows with MKL, when there are less chunks than available threads. You can avoid it by setting the environment variable OMP_NUM_THREADS=1.\n",
      "\n"
     ]
    },
    {
     "data": {
      "text/plain": [
       "0.49935596483740263"
      ]
     },
     "execution_count": 68,
     "metadata": {},
     "output_type": "execute_result"
    }
   ],
   "source": [
    "# ARI\n",
    "from sklearn import metrics\n",
    "from sklearn import cluster\n",
    "\n",
    "\n",
    "kmns = KMeans(n_clusters=25, init='k-means++')\n",
    "kY = kmns.fit_predict(X)\n",
    "\n",
    "metrics.adjusted_rand_score(y,kY)\n"
   ]
  },
  {
   "cell_type": "markdown",
   "id": "755dce6d",
   "metadata": {},
   "source": [
    "The Rand Index measures similarity between two clusterings by counting the number of samples assigned to the same or different clusters in predicted and true clusterings.\n",
    "The adjusted Rand index is thus ensured to have a value close to 0.0 for random labeling independently of the number of clusters and samples and exactly 1.0 when the clusterings are identical.\n",
    "As we can see the result of adjusted_rand index  is 0 which means random the cluster is randomly pointing sth which is not good , the best result is when is 1 it can recinstract the cluster .\n",
    "\n",
    "https://scikit-learn.org/stable/modules/generated/sklearn.metrics.adjusted_rand_score.html"
   ]
  },
  {
   "cell_type": "markdown",
   "id": "0fd4b8ed",
   "metadata": {},
   "source": [
    "### Hierarchical clustering\n",
    "\n",
    "In the last step I performed hierarchical clustering analysis (HAC)\n",
    "I used AgglomerativeClustering to perform (HAC)\n",
    "Agglomerative is a bottom-up approach, in which the algorithm starts with taking all data points as single clusters and merging them until one cluster is left.\n",
    "With this algorithm, we build a tree-shaped structure that represents the hierarchy of clusters.\n",
    "There may be some similarities in the results of K-means clustering and hierarchical clustering, but they differ depending on how they are applied. In contrast to K-Means, there is no need to predetermine the number of clusters.\n",
    "There are some challenges with this algorithm, as we saw with the K-means clustering, such as a predetermined number of clusters, and the algorithm attempts to create a cluster of the same size all the time.\n",
    "In order to solve these two challenges (Agglomerative is a bottom-up approach, and Divisive is a top-down approach) we can use hierarchical clustering.\n",
    "\n",
    "\n",
    "We use the \"ward\" linkage, which defines the linkage criteria. For creating the Dendrogram,It reduces the variance among clusters.\n",
    "\n",
    "https://www.javatpoint.com/hierarchical-clustering-in-machine-learning"
   ]
  },
  {
   "cell_type": "code",
   "execution_count": 69,
   "id": "7a500a2a",
   "metadata": {
    "scrolled": false
   },
   "outputs": [
    {
     "data": {
      "image/png": "[encoded data removed]",
      "text/plain": [
       "<Figure size 576x396 with 1 Axes>"
      ]
     },
     "metadata": {},
     "output_type": "display_data"
    }
   ],
   "source": [
    "from sklearn.cluster import AgglomerativeClustering\n",
    "# either set number of clusters or distance metric\n",
    "ag = AgglomerativeClustering(n_clusters=25, linkage='ward', \n",
    "compute_full_tree=True)\n",
    "ag = ag.fit(X)\n",
    "labels = ag.labels_\n",
    "y = ag.fit_predict(X)\n",
    "from scipy.cluster import hierarchy\n",
    "Z = hierarchy.linkage(ag.children_, method='ward')\n",
    "den = hierarchy.dendrogram(Z)"
   ]
  },
  {
   "cell_type": "markdown",
   "id": "691f9d23",
   "metadata": {},
   "source": [
    "As we see in this Dendrogram, we will now determine the optimal number of clusters for our model. For this, we will find the maximum vertical distance that does not cut any horizontal bar. Consider the above diagram , the optimal number of clusters will be 3 clusters. But I cant cluster species"
   ]
  },
  {
   "cell_type": "code",
   "execution_count": 70,
   "id": "6971a2bb",
   "metadata": {},
   "outputs": [
    {
     "data": {
      "application/vnd.plotly.v1+json": {
       "config": {
        "plotlyServerURL": "https://plot.ly"
       },
       "data": [
        {
         "hovertemplate": "x=%{x}<br>y=%{y}<br>color=%{marker.color}<extra></extra>",
         "legendgroup": "",
         "marker": {
          "color": [
           11,
           11,
           11,
           11,
           11,
           11,
           11,
           11,
           11,
           11,
           11,
           11,
           11,
           11,
           11,
           19,
           19,
           19,
           19,
           19,
           10,
           10,
           10,
           10,
           11,
           10,
           2,
           2,
           2,
           2,
           2,
           2,
           2,
           2,
           2,
           2,
           2,
           2,
           2,
           2,
           2,
           2,
           2,
           2,
           5,
           5,
           5,
           5,
           1,
           23,
           1,
           1,
           1,
           5,
           1,
           1,
           5,
           21,
           1,
           5,
           1,
           1,
           5,
           0,
           0,
           0,
           0,
           0,
           0,
           16,
           16,
           16,
           16,
           16,
           16,
           16,
           16,
           16,
           16,
           4,
           4,
           4,
           10,
           16,
           4,
           4,
           18,
           4,
           18,
           4,
           4,
           4,
           9,
           9,
           9,
           13,
           3,
           3,
           3,
           8,
           8,
           8,
           8,
           8,
           8,
           12,
           0,
           0,
           0,
           12,
           12,
           12,
           12,
           12,
           5,
           5,
           5,
           5,
           1,
           1,
           1,
           1,
           23,
           1,
           1,
           1,
           1,
           6,
           6,
           6,
           22,
           22,
           7,
           7,
           7,
           7,
           7,
           7,
           7,
           22,
           22,
           22,
           22,
           17,
           17,
           17,
           17,
           20,
           20,
           14,
           24,
           24,
           24,
           24,
           24,
           24,
           15,
           15,
           15,
           15,
           15,
           15,
           15,
           15,
           15
          ],
          "coloraxis": "coloraxis",
          "symbol": "circle"
         },
         "mode": "markers",
         "name": "",
         "orientation": "v",
         "showlegend": false,
         "type": "scatter",
         "x": [
          -67.27223205566406,
          -68.56813049316406,
          -67.19023132324219,
          -67.56150817871094,
          -61.43753433227539,
          -66.20805358886719,
          -66.19544982910156,
          -64.37088012695312,
          -62.774322509765625,
          -62.07942581176758,
          -59.017250061035156,
          -61.263614654541016,
          -59.51559829711914,
          -60.95121383666992,
          -58.25402069091797,
          -53.327030181884766,
          -52.62757110595703,
          -55.95917510986328,
          -54.3402099609375,
          -54.91550064086914,
          43.91293716430664,
          45.56434631347656,
          44.43137741088867,
          45.54278564453125,
          -58.06019592285156,
          47.24002456665039,
          -71.74285888671875,
          -69.87593841552734,
          -67.77559661865234,
          -68.5856704711914,
          -67.2320556640625,
          -72.40565490722656,
          -68.96580505371094,
          -64.92704772949219,
          -63.114349365234375,
          -58.969566345214844,
          -60.326045989990234,
          -58.89076232910156,
          -61.059146881103516,
          -62.84700393676758,
          -56.63621520996094,
          -60.33967971801758,
          -63.82267379760742,
          -58.74723815917969,
          -15.94211483001709,
          -19.607954025268555,
          -14.93410587310791,
          -14.339755058288574,
          -25.608964920043945,
          -23.98694610595703,
          -24.1577091217041,
          -24.09730339050293,
          -25.02767562866211,
          -20.647640228271484,
          -25.831470489501953,
          -23.20646095275879,
          -11.625402450561523,
          -22.411121368408203,
          -7.714540958404541,
          -12.736572265625,
          -6.371706008911133,
          -6.942054748535156,
          -11.092110633850098,
          32.10185623168945,
          33.379066467285156,
          34.216732025146484,
          34.98834991455078,
          36.10258865356445,
          34.964237213134766,
          38.612327575683594,
          41.43663024902344,
          39.718719482421875,
          43.31443405151367,
          46.54282760620117,
          45.43359375,
          45.334007263183594,
          46.2221794128418,
          48.097652435302734,
          45.49031066894531,
          47.86716079711914,
          48.119651794433594,
          48.10273742675781,
          46.4814453125,
          49.5808219909668,
          59.93022537231445,
          58.81231689453125,
          55.21099090576172,
          59.93238830566406,
          54.65439987182617,
          57.47296905517578,
          57.7788200378418,
          58.64121627807617,
          14.817604064941406,
          14.089917182922363,
          15.181281089782715,
          48.803592681884766,
          6.781274318695068,
          6.614353656768799,
          5.546589374542236,
          3.0396621227264404,
          0.3635190725326538,
          1.8030918836593628,
          3.344379425048828,
          4.530632495880127,
          0.6294852495193481,
          20.56117820739746,
          25.908910751342773,
          26.56980323791504,
          27.37008285522461,
          19.85445213317871,
          18.72612953186035,
          17.90471076965332,
          19.218822479248047,
          18.204133987426758,
          -15.57143497467041,
          -18.414106369018555,
          -17.182931900024414,
          -15.79800796508789,
          -8.880319595336914,
          -13.432646751403809,
          -9.515201568603516,
          -12.94061279296875,
          -24.755084991455078,
          -10.51773738861084,
          -11.679998397827148,
          -6.9258341789245605,
          -7.706249237060547,
          -23.37881851196289,
          -23.522729873657227,
          -24.282150268554688,
          34.442996978759766,
          35.41850280761719,
          39.52070617675781,
          40.304073333740234,
          39.79254913330078,
          37.60464859008789,
          36.790802001953125,
          39.463863372802734,
          37.056156158447266,
          33.268524169921875,
          33.69625473022461,
          31.356767654418945,
          31.604101181030273,
          30.029132843017578,
          30.467906951904297,
          31.0596923828125,
          31.0997257232666,
          30.68779754638672,
          30.7318115234375,
          8.427918434143066,
          13.569958686828613,
          14.56408405303955,
          12.057944297790527,
          15.110859870910645,
          15.259807586669922,
          14.148350715637207,
          15.655069351196289,
          16.311988830566406,
          17.41221046447754,
          17.648033142089844,
          18.857431411743164,
          18.501150131225586,
          19.648468017578125,
          20.584169387817383,
          20.995380401611328
         ],
         "xaxis": "x",
         "y": [
          8.40735149383545,
          5.052196979522705,
          5.938101291656494,
          4.858958721160889,
          3.0508413314819336,
          9.312206268310547,
          10.58822250366211,
          8.127779960632324,
          5.551912307739258,
          4.645066738128662,
          6.0175042152404785,
          7.842515468597412,
          2.732070207595825,
          6.799627304077148,
          1.9125605821609497,
          -2.067394495010376,
          -2.7042593955993652,
          -3.244302272796631,
          -3.6893160343170166,
          -2.574280261993408,
          4.66592264175415,
          4.306750774383545,
          5.944072723388672,
          5.796291351318359,
          6.748660087585449,
          4.658692836761475,
          -53.60908508300781,
          -54.229862213134766,
          -52.99259567260742,
          -55.11400604248047,
          -54.71678161621094,
          -54.675594329833984,
          -53.48655319213867,
          -53.85409164428711,
          -50.27098846435547,
          -53.21603012084961,
          -54.98150634765625,
          -51.92171859741211,
          -50.63301467895508,
          -55.51521301269531,
          -51.49911117553711,
          -51.470062255859375,
          -54.230865478515625,
          -49.77951431274414,
          44.04446792602539,
          44.24580383300781,
          46.78224563598633,
          47.78934097290039,
          44.14073181152344,
          52.5225944519043,
          43.83741760253906,
          45.91490173339844,
          47.559913635253906,
          44.573158264160156,
          47.096031188964844,
          46.02247619628906,
          46.3524169921875,
          52.765628814697266,
          46.582340240478516,
          45.240257263183594,
          44.9184455871582,
          45.74961471557617,
          46.952301025390625,
          -13.93498706817627,
          -11.956032752990723,
          -13.45644474029541,
          -14.163726806640625,
          -13.139986991882324,
          -12.272778511047363,
          -12.85519790649414,
          -12.154563903808594,
          -13.53770637512207,
          -10.948173522949219,
          -14.808161735534668,
          -11.876564979553223,
          -13.58482837677002,
          -13.148215293884277,
          -12.945712089538574,
          -9.56855297088623,
          -7.041075229644775,
          -6.10614013671875,
          -4.420571804046631,
          2.927436351776123,
          -12.046643257141113,
          -7.079455852508545,
          -5.735372543334961,
          0.8101893067359924,
          -5.2744340896606445,
          1.238368272781372,
          -3.888709783554077,
          -6.414021968841553,
          -4.391815662384033,
          -49.9789924621582,
          -50.81904220581055,
          -50.996952056884766,
          5.749560832977295,
          -49.016754150390625,
          -50.86637878417969,
          -50.84038543701172,
          -47.91277313232422,
          -48.1926155090332,
          -48.08283615112305,
          -46.914974212646484,
          -46.7987060546875,
          -46.7925910949707,
          -32.49567413330078,
          -26.633602142333984,
          -25.998851776123047,
          -25.257366180419922,
          -34.21723556518555,
          -35.06284713745117,
          -34.080257415771484,
          -32.99473190307617,
          -32.4947395324707,
          42.026546478271484,
          37.71367645263672,
          37.34537124633789,
          37.32469940185547,
          39.08420181274414,
          38.927452087402344,
          37.85816955566406,
          37.34885025024414,
          52.892364501953125,
          37.14236068725586,
          37.918373107910156,
          36.51137161254883,
          35.9276237487793,
          29.104352951049805,
          30.40633201599121,
          30.045761108398438,
          72.41900634765625,
          73.80557250976562,
          69.05268096923828,
          69.21849060058594,
          66.47274780273438,
          69.88994598388672,
          67.55867004394531,
          65.5972671508789,
          68.36532592773438,
          74.40147399902344,
          73.32785034179688,
          72.8522720336914,
          74.05286407470703,
          84.79265594482422,
          83.10133361816406,
          84.25443267822266,
          85.51490783691406,
          79.03754425048828,
          79.77434539794922,
          -52.33345031738281,
          -66.34209442138672,
          -65.94524383544922,
          -67.877197265625,
          -67.7586898803711,
          -68.97875213623047,
          -68.76326751708984,
          -70.82606506347656,
          -72.22180938720703,
          -76.46622467041016,
          -79.3009262084961,
          -79.01734924316406,
          -77.05892181396484,
          -77.83674621582031,
          -79.91817474365234,
          -78.59210968017578
         ],
         "yaxis": "y"
        }
       ],
       "layout": {
        "coloraxis": {
         "colorbar": {
          "title": {
           "text": "color"
          }
         },
         "colorscale": [
          [
           0,
           "#0d0887"
          ],
          [
           0.1111111111111111,
           "#46039f"
          ],
          [
           0.2222222222222222,
           "#7201a8"
          ],
          [
           0.3333333333333333,
           "#9c179e"
          ],
          [
           0.4444444444444444,
           "#bd3786"
          ],
          [
           0.5555555555555556,
           "#d8576b"
          ],
          [
           0.6666666666666666,
           "#ed7953"
          ],
          [
           0.7777777777777778,
           "#fb9f3a"
          ],
          [
           0.8888888888888888,
           "#fdca26"
          ],
          [
           1,
           "#f0f921"
          ]
         ]
        },
        "legend": {
         "tracegroupgap": 0
        },
        "margin": {
         "t": 60
        },
        "template": {
         "data": {
          "bar": [
           {
            "error_x": {
             "color": "#2a3f5f"
            },
            "error_y": {
             "color": "#2a3f5f"
            },
            "marker": {
             "line": {
              "color": "#E5ECF6",
              "width": 0.5
             },
             "pattern": {
              "fillmode": "overlay",
              "size": 10,
              "solidity": 0.2
             }
            },
            "type": "bar"
           }
          ],
          "barpolar": [
           {
            "marker": {
             "line": {
              "color": "#E5ECF6",
              "width": 0.5
             },
             "pattern": {
              "fillmode": "overlay",
              "size": 10,
              "solidity": 0.2
             }
            },
            "type": "barpolar"
           }
          ],
          "carpet": [
           {
            "aaxis": {
             "endlinecolor": "#2a3f5f",
             "gridcolor": "white",
             "linecolor": "white",
             "minorgridcolor": "white",
             "startlinecolor": "#2a3f5f"
            },
            "baxis": {
             "endlinecolor": "#2a3f5f",
             "gridcolor": "white",
             "linecolor": "white",
             "minorgridcolor": "white",
             "startlinecolor": "#2a3f5f"
            },
            "type": "carpet"
           }
          ],
          "choropleth": [
           {
            "colorbar": {
             "outlinewidth": 0,
             "ticks": ""
            },
            "type": "choropleth"
           }
          ],
          "contour": [
           {
            "colorbar": {
             "outlinewidth": 0,
             "ticks": ""
            },
            "colorscale": [
             [
              0,
              "#0d0887"
             ],
             [
              0.1111111111111111,
              "#46039f"
             ],
             [
              0.2222222222222222,
              "#7201a8"
             ],
             [
              0.3333333333333333,
              "#9c179e"
             ],
             [
              0.4444444444444444,
              "#bd3786"
             ],
             [
              0.5555555555555556,
              "#d8576b"
             ],
             [
              0.6666666666666666,
              "#ed7953"
             ],
             [
              0.7777777777777778,
              "#fb9f3a"
             ],
             [
              0.8888888888888888,
              "#fdca26"
             ],
             [
              1,
              "#f0f921"
             ]
            ],
            "type": "contour"
           }
          ],
          "contourcarpet": [
           {
            "colorbar": {
             "outlinewidth": 0,
             "ticks": ""
            },
            "type": "contourcarpet"
           }
          ],
          "heatmap": [
           {
            "colorbar": {
             "outlinewidth": 0,
             "ticks": ""
            },
            "colorscale": [
             [
              0,
              "#0d0887"
             ],
             [
              0.1111111111111111,
              "#46039f"
             ],
             [
              0.2222222222222222,
              "#7201a8"
             ],
             [
              0.3333333333333333,
              "#9c179e"
             ],
             [
              0.4444444444444444,
              "#bd3786"
             ],
             [
              0.5555555555555556,
              "#d8576b"
             ],
             [
              0.6666666666666666,
              "#ed7953"
             ],
             [
              0.7777777777777778,
              "#fb9f3a"
             ],
             [
              0.8888888888888888,
              "#fdca26"
             ],
             [
              1,
              "#f0f921"
             ]
            ],
            "type": "heatmap"
           }
          ],
          "heatmapgl": [
           {
            "colorbar": {
             "outlinewidth": 0,
             "ticks": ""
            },
            "colorscale": [
             [
              0,
              "#0d0887"
             ],
             [
              0.1111111111111111,
              "#46039f"
             ],
             [
              0.2222222222222222,
              "#7201a8"
             ],
             [
              0.3333333333333333,
              "#9c179e"
             ],
             [
              0.4444444444444444,
              "#bd3786"
             ],
             [
              0.5555555555555556,
              "#d8576b"
             ],
             [
              0.6666666666666666,
              "#ed7953"
             ],
             [
              0.7777777777777778,
              "#fb9f3a"
             ],
             [
              0.8888888888888888,
              "#fdca26"
             ],
             [
              1,
              "#f0f921"
             ]
            ],
            "type": "heatmapgl"
           }
          ],
          "histogram": [
           {
            "marker": {
             "pattern": {
              "fillmode": "overlay",
              "size": 10,
              "solidity": 0.2
             }
            },
            "type": "histogram"
           }
          ],
          "histogram2d": [
           {
            "colorbar": {
             "outlinewidth": 0,
             "ticks": ""
            },
            "colorscale": [
             [
              0,
              "#0d0887"
             ],
             [
              0.1111111111111111,
              "#46039f"
             ],
             [
              0.2222222222222222,
              "#7201a8"
             ],
             [
              0.3333333333333333,
              "#9c179e"
             ],
             [
              0.4444444444444444,
              "#bd3786"
             ],
             [
              0.5555555555555556,
              "#d8576b"
             ],
             [
              0.6666666666666666,
              "#ed7953"
             ],
             [
              0.7777777777777778,
              "#fb9f3a"
             ],
             [
              0.8888888888888888,
              "#fdca26"
             ],
             [
              1,
              "#f0f921"
             ]
            ],
            "type": "histogram2d"
           }
          ],
          "histogram2dcontour": [
           {
            "colorbar": {
             "outlinewidth": 0,
             "ticks": ""
            },
            "colorscale": [
             [
              0,
              "#0d0887"
             ],
             [
              0.1111111111111111,
              "#46039f"
             ],
             [
              0.2222222222222222,
              "#7201a8"
             ],
             [
              0.3333333333333333,
              "#9c179e"
             ],
             [
              0.4444444444444444,
              "#bd3786"
             ],
             [
              0.5555555555555556,
              "#d8576b"
             ],
             [
              0.6666666666666666,
              "#ed7953"
             ],
             [
              0.7777777777777778,
              "#fb9f3a"
             ],
             [
              0.8888888888888888,
              "#fdca26"
             ],
             [
              1,
              "#f0f921"
             ]
            ],
            "type": "histogram2dcontour"
           }
          ],
          "mesh3d": [
           {
            "colorbar": {
             "outlinewidth": 0,
             "ticks": ""
            },
            "type": "mesh3d"
           }
          ],
          "parcoords": [
           {
            "line": {
             "colorbar": {
              "outlinewidth": 0,
              "ticks": ""
             }
            },
            "type": "parcoords"
           }
          ],
          "pie": [
           {
            "automargin": true,
            "type": "pie"
           }
          ],
          "scatter": [
           {
            "fillpattern": {
             "fillmode": "overlay",
             "size": 10,
             "solidity": 0.2
            },
            "type": "scatter"
           }
          ],
          "scatter3d": [
           {
            "line": {
             "colorbar": {
              "outlinewidth": 0,
              "ticks": ""
             }
            },
            "marker": {
             "colorbar": {
              "outlinewidth": 0,
              "ticks": ""
             }
            },
            "type": "scatter3d"
           }
          ],
          "scattercarpet": [
           {
            "marker": {
             "colorbar": {
              "outlinewidth": 0,
              "ticks": ""
             }
            },
            "type": "scattercarpet"
           }
          ],
          "scattergeo": [
           {
            "marker": {
             "colorbar": {
              "outlinewidth": 0,
              "ticks": ""
             }
            },
            "type": "scattergeo"
           }
          ],
          "scattergl": [
           {
            "marker": {
             "colorbar": {
              "outlinewidth": 0,
              "ticks": ""
             }
            },
            "type": "scattergl"
           }
          ],
          "scattermapbox": [
           {
            "marker": {
             "colorbar": {
              "outlinewidth": 0,
              "ticks": ""
             }
            },
            "type": "scattermapbox"
           }
          ],
          "scatterpolar": [
           {
            "marker": {
             "colorbar": {
              "outlinewidth": 0,
              "ticks": ""
             }
            },
            "type": "scatterpolar"
           }
          ],
          "scatterpolargl": [
           {
            "marker": {
             "colorbar": {
              "outlinewidth": 0,
              "ticks": ""
             }
            },
            "type": "scatterpolargl"
           }
          ],
          "scatterternary": [
           {
            "marker": {
             "colorbar": {
              "outlinewidth": 0,
              "ticks": ""
             }
            },
            "type": "scatterternary"
           }
          ],
          "surface": [
           {
            "colorbar": {
             "outlinewidth": 0,
             "ticks": ""
            },
            "colorscale": [
             [
              0,
              "#0d0887"
             ],
             [
              0.1111111111111111,
              "#46039f"
             ],
             [
              0.2222222222222222,
              "#7201a8"
             ],
             [
              0.3333333333333333,
              "#9c179e"
             ],
             [
              0.4444444444444444,
              "#bd3786"
             ],
             [
              0.5555555555555556,
              "#d8576b"
             ],
             [
              0.6666666666666666,
              "#ed7953"
             ],
             [
              0.7777777777777778,
              "#fb9f3a"
             ],
             [
              0.8888888888888888,
              "#fdca26"
             ],
             [
              1,
              "#f0f921"
             ]
            ],
            "type": "surface"
           }
          ],
          "table": [
           {
            "cells": {
             "fill": {
              "color": "#EBF0F8"
             },
             "line": {
              "color": "white"
             }
            },
            "header": {
             "fill": {
              "color": "#C8D4E3"
             },
             "line": {
              "color": "white"
             }
            },
            "type": "table"
           }
          ]
         },
         "layout": {
          "annotationdefaults": {
           "arrowcolor": "#2a3f5f",
           "arrowhead": 0,
           "arrowwidth": 1
          },
          "autotypenumbers": "strict",
          "coloraxis": {
           "colorbar": {
            "outlinewidth": 0,
            "ticks": ""
           }
          },
          "colorscale": {
           "diverging": [
            [
             0,
             "#8e0152"
            ],
            [
             0.1,
             "#c51b7d"
            ],
            [
             0.2,
             "#de77ae"
            ],
            [
             0.3,
             "#f1b6da"
            ],
            [
             0.4,
             "#fde0ef"
            ],
            [
             0.5,
             "#f7f7f7"
            ],
            [
             0.6,
             "#e6f5d0"
            ],
            [
             0.7,
             "#b8e186"
            ],
            [
             0.8,
             "#7fbc41"
            ],
            [
             0.9,
             "#4d9221"
            ],
            [
             1,
             "#276419"
            ]
           ],
           "sequential": [
            [
             0,
             "#0d0887"
            ],
            [
             0.1111111111111111,
             "#46039f"
            ],
            [
             0.2222222222222222,
             "#7201a8"
            ],
            [
             0.3333333333333333,
             "#9c179e"
            ],
            [
             0.4444444444444444,
             "#bd3786"
            ],
            [
             0.5555555555555556,
             "#d8576b"
            ],
            [
             0.6666666666666666,
             "#ed7953"
            ],
            [
             0.7777777777777778,
             "#fb9f3a"
            ],
            [
             0.8888888888888888,
             "#fdca26"
            ],
            [
             1,
             "#f0f921"
            ]
           ],
           "sequentialminus": [
            [
             0,
             "#0d0887"
            ],
            [
             0.1111111111111111,
             "#46039f"
            ],
            [
             0.2222222222222222,
             "#7201a8"
            ],
            [
             0.3333333333333333,
             "#9c179e"
            ],
            [
             0.4444444444444444,
             "#bd3786"
            ],
            [
             0.5555555555555556,
             "#d8576b"
            ],
            [
             0.6666666666666666,
             "#ed7953"
            ],
            [
             0.7777777777777778,
             "#fb9f3a"
            ],
            [
             0.8888888888888888,
             "#fdca26"
            ],
            [
             1,
             "#f0f921"
            ]
           ]
          },
          "colorway": [
           "#636efa",
           "#EF553B",
           "#00cc96",
           "#ab63fa",
           "#FFA15A",
           "#19d3f3",
           "#FF6692",
           "#B6E880",
           "#FF97FF",
           "#FECB52"
          ],
          "font": {
           "color": "#2a3f5f"
          },
          "geo": {
           "bgcolor": "white",
           "lakecolor": "white",
           "landcolor": "#E5ECF6",
           "showlakes": true,
           "showland": true,
           "subunitcolor": "white"
          },
          "hoverlabel": {
           "align": "left"
          },
          "hovermode": "closest",
          "mapbox": {
           "style": "light"
          },
          "paper_bgcolor": "white",
          "plot_bgcolor": "#E5ECF6",
          "polar": {
           "angularaxis": {
            "gridcolor": "white",
            "linecolor": "white",
            "ticks": ""
           },
           "bgcolor": "#E5ECF6",
           "radialaxis": {
            "gridcolor": "white",
            "linecolor": "white",
            "ticks": ""
           }
          },
          "scene": {
           "xaxis": {
            "backgroundcolor": "#E5ECF6",
            "gridcolor": "white",
            "gridwidth": 2,
            "linecolor": "white",
            "showbackground": true,
            "ticks": "",
            "zerolinecolor": "white"
           },
           "yaxis": {
            "backgroundcolor": "#E5ECF6",
            "gridcolor": "white",
            "gridwidth": 2,
            "linecolor": "white",
            "showbackground": true,
            "ticks": "",
            "zerolinecolor": "white"
           },
           "zaxis": {
            "backgroundcolor": "#E5ECF6",
            "gridcolor": "white",
            "gridwidth": 2,
            "linecolor": "white",
            "showbackground": true,
            "ticks": "",
            "zerolinecolor": "white"
           }
          },
          "shapedefaults": {
           "line": {
            "color": "#2a3f5f"
           }
          },
          "ternary": {
           "aaxis": {
            "gridcolor": "white",
            "linecolor": "white",
            "ticks": ""
           },
           "baxis": {
            "gridcolor": "white",
            "linecolor": "white",
            "ticks": ""
           },
           "bgcolor": "#E5ECF6",
           "caxis": {
            "gridcolor": "white",
            "linecolor": "white",
            "ticks": ""
           }
          },
          "title": {
           "x": 0.05
          },
          "xaxis": {
           "automargin": true,
           "gridcolor": "white",
           "linecolor": "white",
           "ticks": "",
           "title": {
            "standoff": 15
           },
           "zerolinecolor": "white",
           "zerolinewidth": 2
          },
          "yaxis": {
           "automargin": true,
           "gridcolor": "white",
           "linecolor": "white",
           "ticks": "",
           "title": {
            "standoff": 15
           },
           "zerolinecolor": "white",
           "zerolinewidth": 2
          }
         }
        },
        "xaxis": {
         "anchor": "y",
         "domain": [
          0,
          1
         ],
         "title": {
          "text": "x"
         }
        },
        "yaxis": {
         "anchor": "x",
         "domain": [
          0,
          1
         ],
         "title": {
          "text": "y"
         }
        }
       }
      },
      "text/html": [
       "<div>                            <div id=\"4847a72c-b483-4ee9-8689-ecc2687929d1\" class=\"plotly-graph-div\" style=\"height:525px; width:100%;\"></div>            <script type=\"text/javascript\">                require([\"plotly\"], function(Plotly) {                    window.PLOTLYENV=window.PLOTLYENV || {};                                    if (document.getElementById(\"4847a72c-b483-4ee9-8689-ecc2687929d1\")) {                    Plotly.newPlot(                        \"4847a72c-b483-4ee9-8689-ecc2687929d1\",                        [{\"hovertemplate\":\"x=%{x}<br>y=%{y}<br>color=%{marker.color}<extra></extra>\",\"legendgroup\":\"\",\"marker\":{\"color\":[11,11,11,11,11,11,11,11,11,11,11,11,11,11,11,19,19,19,19,19,10,10,10,10,11,10,2,2,2,2,2,2,2,2,2,2,2,2,2,2,2,2,2,2,5,5,5,5,1,23,1,1,1,5,1,1,5,21,1,5,1,1,5,0,0,0,0,0,0,16,16,16,16,16,16,16,16,16,16,4,4,4,10,16,4,4,18,4,18,4,4,4,9,9,9,13,3,3,3,8,8,8,8,8,8,12,0,0,0,12,12,12,12,12,5,5,5,5,1,1,1,1,23,1,1,1,1,6,6,6,22,22,7,7,7,7,7,7,7,22,22,22,22,17,17,17,17,20,20,14,24,24,24,24,24,24,15,15,15,15,15,15,15,15,15],\"coloraxis\":\"coloraxis\",\"symbol\":\"circle\"},\"mode\":\"markers\",\"name\":\"\",\"orientation\":\"v\",\"showlegend\":false,\"x\":[-67.27223205566406,-68.56813049316406,-67.19023132324219,-67.56150817871094,-61.43753433227539,-66.20805358886719,-66.19544982910156,-64.37088012695312,-62.774322509765625,-62.07942581176758,-59.017250061035156,-61.263614654541016,-59.51559829711914,-60.95121383666992,-58.25402069091797,-53.327030181884766,-52.62757110595703,-55.95917510986328,-54.3402099609375,-54.91550064086914,43.91293716430664,45.56434631347656,44.43137741088867,45.54278564453125,-58.06019592285156,47.24002456665039,-71.74285888671875,-69.87593841552734,-67.77559661865234,-68.5856704711914,-67.2320556640625,-72.40565490722656,-68.96580505371094,-64.92704772949219,-63.114349365234375,-58.969566345214844,-60.326045989990234,-58.89076232910156,-61.059146881103516,-62.84700393676758,-56.63621520996094,-60.33967971801758,-63.82267379760742,-58.74723815917969,-15.94211483001709,-19.607954025268555,-14.93410587310791,-14.339755058288574,-25.608964920043945,-23.98694610595703,-24.1577091217041,-24.09730339050293,-25.02767562866211,-20.647640228271484,-25.831470489501953,-23.20646095275879,-11.625402450561523,-22.411121368408203,-7.714540958404541,-12.736572265625,-6.371706008911133,-6.942054748535156,-11.092110633850098,32.10185623168945,33.379066467285156,34.216732025146484,34.98834991455078,36.10258865356445,34.964237213134766,38.612327575683594,41.43663024902344,39.718719482421875,43.31443405151367,46.54282760620117,45.43359375,45.334007263183594,46.2221794128418,48.097652435302734,45.49031066894531,47.86716079711914,48.119651794433594,48.10273742675781,46.4814453125,49.5808219909668,59.93022537231445,58.81231689453125,55.21099090576172,59.93238830566406,54.65439987182617,57.47296905517578,57.7788200378418,58.64121627807617,14.817604064941406,14.089917182922363,15.181281089782715,48.803592681884766,6.781274318695068,6.614353656768799,5.546589374542236,3.0396621227264404,0.3635190725326538,1.8030918836593628,3.344379425048828,4.530632495880127,0.6294852495193481,20.56117820739746,25.908910751342773,26.56980323791504,27.37008285522461,19.85445213317871,18.72612953186035,17.90471076965332,19.218822479248047,18.204133987426758,-15.57143497467041,-18.414106369018555,-17.182931900024414,-15.79800796508789,-8.880319595336914,-13.432646751403809,-9.515201568603516,-12.94061279296875,-24.755084991455078,-10.51773738861084,-11.679998397827148,-6.9258341789245605,-7.706249237060547,-23.37881851196289,-23.522729873657227,-24.282150268554688,34.442996978759766,35.41850280761719,39.52070617675781,40.304073333740234,39.79254913330078,37.60464859008789,36.790802001953125,39.463863372802734,37.056156158447266,33.268524169921875,33.69625473022461,31.356767654418945,31.604101181030273,30.029132843017578,30.467906951904297,31.0596923828125,31.0997257232666,30.68779754638672,30.7318115234375,8.427918434143066,13.569958686828613,14.56408405303955,12.057944297790527,15.110859870910645,15.259807586669922,14.148350715637207,15.655069351196289,16.311988830566406,17.41221046447754,17.648033142089844,18.857431411743164,18.501150131225586,19.648468017578125,20.584169387817383,20.995380401611328],\"xaxis\":\"x\",\"y\":[8.40735149383545,5.052196979522705,5.938101291656494,4.858958721160889,3.0508413314819336,9.312206268310547,10.58822250366211,8.127779960632324,5.551912307739258,4.645066738128662,6.0175042152404785,7.842515468597412,2.732070207595825,6.799627304077148,1.9125605821609497,-2.067394495010376,-2.7042593955993652,-3.244302272796631,-3.6893160343170166,-2.574280261993408,4.66592264175415,4.306750774383545,5.944072723388672,5.796291351318359,6.748660087585449,4.658692836761475,-53.60908508300781,-54.229862213134766,-52.99259567260742,-55.11400604248047,-54.71678161621094,-54.675594329833984,-53.48655319213867,-53.85409164428711,-50.27098846435547,-53.21603012084961,-54.98150634765625,-51.92171859741211,-50.63301467895508,-55.51521301269531,-51.49911117553711,-51.470062255859375,-54.230865478515625,-49.77951431274414,44.04446792602539,44.24580383300781,46.78224563598633,47.78934097290039,44.14073181152344,52.5225944519043,43.83741760253906,45.91490173339844,47.559913635253906,44.573158264160156,47.096031188964844,46.02247619628906,46.3524169921875,52.765628814697266,46.582340240478516,45.240257263183594,44.9184455871582,45.74961471557617,46.952301025390625,-13.93498706817627,-11.956032752990723,-13.45644474029541,-14.163726806640625,-13.139986991882324,-12.272778511047363,-12.85519790649414,-12.154563903808594,-13.53770637512207,-10.948173522949219,-14.808161735534668,-11.876564979553223,-13.58482837677002,-13.148215293884277,-12.945712089538574,-9.56855297088623,-7.041075229644775,-6.10614013671875,-4.420571804046631,2.927436351776123,-12.046643257141113,-7.079455852508545,-5.735372543334961,0.8101893067359924,-5.2744340896606445,1.238368272781372,-3.888709783554077,-6.414021968841553,-4.391815662384033,-49.9789924621582,-50.81904220581055,-50.996952056884766,5.749560832977295,-49.016754150390625,-50.86637878417969,-50.84038543701172,-47.91277313232422,-48.1926155090332,-48.08283615112305,-46.914974212646484,-46.7987060546875,-46.7925910949707,-32.49567413330078,-26.633602142333984,-25.998851776123047,-25.257366180419922,-34.21723556518555,-35.06284713745117,-34.080257415771484,-32.99473190307617,-32.4947395324707,42.026546478271484,37.71367645263672,37.34537124633789,37.32469940185547,39.08420181274414,38.927452087402344,37.85816955566406,37.34885025024414,52.892364501953125,37.14236068725586,37.918373107910156,36.51137161254883,35.9276237487793,29.104352951049805,30.40633201599121,30.045761108398438,72.41900634765625,73.80557250976562,69.05268096923828,69.21849060058594,66.47274780273438,69.88994598388672,67.55867004394531,65.5972671508789,68.36532592773438,74.40147399902344,73.32785034179688,72.8522720336914,74.05286407470703,84.79265594482422,83.10133361816406,84.25443267822266,85.51490783691406,79.03754425048828,79.77434539794922,-52.33345031738281,-66.34209442138672,-65.94524383544922,-67.877197265625,-67.7586898803711,-68.97875213623047,-68.76326751708984,-70.82606506347656,-72.22180938720703,-76.46622467041016,-79.3009262084961,-79.01734924316406,-77.05892181396484,-77.83674621582031,-79.91817474365234,-78.59210968017578],\"yaxis\":\"y\",\"type\":\"scatter\"}],                        {\"template\":{\"data\":{\"histogram2dcontour\":[{\"type\":\"histogram2dcontour\",\"colorbar\":{\"outlinewidth\":0,\"ticks\":\"\"},\"colorscale\":[[0.0,\"#0d0887\"],[0.1111111111111111,\"#46039f\"],[0.2222222222222222,\"#7201a8\"],[0.3333333333333333,\"#9c179e\"],[0.4444444444444444,\"#bd3786\"],[0.5555555555555556,\"#d8576b\"],[0.6666666666666666,\"#ed7953\"],[0.7777777777777778,\"#fb9f3a\"],[0.8888888888888888,\"#fdca26\"],[1.0,\"#f0f921\"]]}],\"choropleth\":[{\"type\":\"choropleth\",\"colorbar\":{\"outlinewidth\":0,\"ticks\":\"\"}}],\"histogram2d\":[{\"type\":\"histogram2d\",\"colorbar\":{\"outlinewidth\":0,\"ticks\":\"\"},\"colorscale\":[[0.0,\"#0d0887\"],[0.1111111111111111,\"#46039f\"],[0.2222222222222222,\"#7201a8\"],[0.3333333333333333,\"#9c179e\"],[0.4444444444444444,\"#bd3786\"],[0.5555555555555556,\"#d8576b\"],[0.6666666666666666,\"#ed7953\"],[0.7777777777777778,\"#fb9f3a\"],[0.8888888888888888,\"#fdca26\"],[1.0,\"#f0f921\"]]}],\"heatmap\":[{\"type\":\"heatmap\",\"colorbar\":{\"outlinewidth\":0,\"ticks\":\"\"},\"colorscale\":[[0.0,\"#0d0887\"],[0.1111111111111111,\"#46039f\"],[0.2222222222222222,\"#7201a8\"],[0.3333333333333333,\"#9c179e\"],[0.4444444444444444,\"#bd3786\"],[0.5555555555555556,\"#d8576b\"],[0.6666666666666666,\"#ed7953\"],[0.7777777777777778,\"#fb9f3a\"],[0.8888888888888888,\"#fdca26\"],[1.0,\"#f0f921\"]]}],\"heatmapgl\":[{\"type\":\"heatmapgl\",\"colorbar\":{\"outlinewidth\":0,\"ticks\":\"\"},\"colorscale\":[[0.0,\"#0d0887\"],[0.1111111111111111,\"#46039f\"],[0.2222222222222222,\"#7201a8\"],[0.3333333333333333,\"#9c179e\"],[0.4444444444444444,\"#bd3786\"],[0.5555555555555556,\"#d8576b\"],[0.6666666666666666,\"#ed7953\"],[0.7777777777777778,\"#fb9f3a\"],[0.8888888888888888,\"#fdca26\"],[1.0,\"#f0f921\"]]}],\"contourcarpet\":[{\"type\":\"contourcarpet\",\"colorbar\":{\"outlinewidth\":0,\"ticks\":\"\"}}],\"contour\":[{\"type\":\"contour\",\"colorbar\":{\"outlinewidth\":0,\"ticks\":\"\"},\"colorscale\":[[0.0,\"#0d0887\"],[0.1111111111111111,\"#46039f\"],[0.2222222222222222,\"#7201a8\"],[0.3333333333333333,\"#9c179e\"],[0.4444444444444444,\"#bd3786\"],[0.5555555555555556,\"#d8576b\"],[0.6666666666666666,\"#ed7953\"],[0.7777777777777778,\"#fb9f3a\"],[0.8888888888888888,\"#fdca26\"],[1.0,\"#f0f921\"]]}],\"surface\":[{\"type\":\"surface\",\"colorbar\":{\"outlinewidth\":0,\"ticks\":\"\"},\"colorscale\":[[0.0,\"#0d0887\"],[0.1111111111111111,\"#46039f\"],[0.2222222222222222,\"#7201a8\"],[0.3333333333333333,\"#9c179e\"],[0.4444444444444444,\"#bd3786\"],[0.5555555555555556,\"#d8576b\"],[0.6666666666666666,\"#ed7953\"],[0.7777777777777778,\"#fb9f3a\"],[0.8888888888888888,\"#fdca26\"],[1.0,\"#f0f921\"]]}],\"mesh3d\":[{\"type\":\"mesh3d\",\"colorbar\":{\"outlinewidth\":0,\"ticks\":\"\"}}],\"scatter\":[{\"fillpattern\":{\"fillmode\":\"overlay\",\"size\":10,\"solidity\":0.2},\"type\":\"scatter\"}],\"parcoords\":[{\"type\":\"parcoords\",\"line\":{\"colorbar\":{\"outlinewidth\":0,\"ticks\":\"\"}}}],\"scatterpolargl\":[{\"type\":\"scatterpolargl\",\"marker\":{\"colorbar\":{\"outlinewidth\":0,\"ticks\":\"\"}}}],\"bar\":[{\"error_x\":{\"color\":\"#2a3f5f\"},\"error_y\":{\"color\":\"#2a3f5f\"},\"marker\":{\"line\":{\"color\":\"#E5ECF6\",\"width\":0.5},\"pattern\":{\"fillmode\":\"overlay\",\"size\":10,\"solidity\":0.2}},\"type\":\"bar\"}],\"scattergeo\":[{\"type\":\"scattergeo\",\"marker\":{\"colorbar\":{\"outlinewidth\":0,\"ticks\":\"\"}}}],\"scatterpolar\":[{\"type\":\"scatterpolar\",\"marker\":{\"colorbar\":{\"outlinewidth\":0,\"ticks\":\"\"}}}],\"histogram\":[{\"marker\":{\"pattern\":{\"fillmode\":\"overlay\",\"size\":10,\"solidity\":0.2}},\"type\":\"histogram\"}],\"scattergl\":[{\"type\":\"scattergl\",\"marker\":{\"colorbar\":{\"outlinewidth\":0,\"ticks\":\"\"}}}],\"scatter3d\":[{\"type\":\"scatter3d\",\"line\":{\"colorbar\":{\"outlinewidth\":0,\"ticks\":\"\"}},\"marker\":{\"colorbar\":{\"outlinewidth\":0,\"ticks\":\"\"}}}],\"scattermapbox\":[{\"type\":\"scattermapbox\",\"marker\":{\"colorbar\":{\"outlinewidth\":0,\"ticks\":\"\"}}}],\"scatterternary\":[{\"type\":\"scatterternary\",\"marker\":{\"colorbar\":{\"outlinewidth\":0,\"ticks\":\"\"}}}],\"scattercarpet\":[{\"type\":\"scattercarpet\",\"marker\":{\"colorbar\":{\"outlinewidth\":0,\"ticks\":\"\"}}}],\"carpet\":[{\"aaxis\":{\"endlinecolor\":\"#2a3f5f\",\"gridcolor\":\"white\",\"linecolor\":\"white\",\"minorgridcolor\":\"white\",\"startlinecolor\":\"#2a3f5f\"},\"baxis\":{\"endlinecolor\":\"#2a3f5f\",\"gridcolor\":\"white\",\"linecolor\":\"white\",\"minorgridcolor\":\"white\",\"startlinecolor\":\"#2a3f5f\"},\"type\":\"carpet\"}],\"table\":[{\"cells\":{\"fill\":{\"color\":\"#EBF0F8\"},\"line\":{\"color\":\"white\"}},\"header\":{\"fill\":{\"color\":\"#C8D4E3\"},\"line\":{\"color\":\"white\"}},\"type\":\"table\"}],\"barpolar\":[{\"marker\":{\"line\":{\"color\":\"#E5ECF6\",\"width\":0.5},\"pattern\":{\"fillmode\":\"overlay\",\"size\":10,\"solidity\":0.2}},\"type\":\"barpolar\"}],\"pie\":[{\"automargin\":true,\"type\":\"pie\"}]},\"layout\":{\"autotypenumbers\":\"strict\",\"colorway\":[\"#636efa\",\"#EF553B\",\"#00cc96\",\"#ab63fa\",\"#FFA15A\",\"#19d3f3\",\"#FF6692\",\"#B6E880\",\"#FF97FF\",\"#FECB52\"],\"font\":{\"color\":\"#2a3f5f\"},\"hovermode\":\"closest\",\"hoverlabel\":{\"align\":\"left\"},\"paper_bgcolor\":\"white\",\"plot_bgcolor\":\"#E5ECF6\",\"polar\":{\"bgcolor\":\"#E5ECF6\",\"angularaxis\":{\"gridcolor\":\"white\",\"linecolor\":\"white\",\"ticks\":\"\"},\"radialaxis\":{\"gridcolor\":\"white\",\"linecolor\":\"white\",\"ticks\":\"\"}},\"ternary\":{\"bgcolor\":\"#E5ECF6\",\"aaxis\":{\"gridcolor\":\"white\",\"linecolor\":\"white\",\"ticks\":\"\"},\"baxis\":{\"gridcolor\":\"white\",\"linecolor\":\"white\",\"ticks\":\"\"},\"caxis\":{\"gridcolor\":\"white\",\"linecolor\":\"white\",\"ticks\":\"\"}},\"coloraxis\":{\"colorbar\":{\"outlinewidth\":0,\"ticks\":\"\"}},\"colorscale\":{\"sequential\":[[0.0,\"#0d0887\"],[0.1111111111111111,\"#46039f\"],[0.2222222222222222,\"#7201a8\"],[0.3333333333333333,\"#9c179e\"],[0.4444444444444444,\"#bd3786\"],[0.5555555555555556,\"#d8576b\"],[0.6666666666666666,\"#ed7953\"],[0.7777777777777778,\"#fb9f3a\"],[0.8888888888888888,\"#fdca26\"],[1.0,\"#f0f921\"]],\"sequentialminus\":[[0.0,\"#0d0887\"],[0.1111111111111111,\"#46039f\"],[0.2222222222222222,\"#7201a8\"],[0.3333333333333333,\"#9c179e\"],[0.4444444444444444,\"#bd3786\"],[0.5555555555555556,\"#d8576b\"],[0.6666666666666666,\"#ed7953\"],[0.7777777777777778,\"#fb9f3a\"],[0.8888888888888888,\"#fdca26\"],[1.0,\"#f0f921\"]],\"diverging\":[[0,\"#8e0152\"],[0.1,\"#c51b7d\"],[0.2,\"#de77ae\"],[0.3,\"#f1b6da\"],[0.4,\"#fde0ef\"],[0.5,\"#f7f7f7\"],[0.6,\"#e6f5d0\"],[0.7,\"#b8e186\"],[0.8,\"#7fbc41\"],[0.9,\"#4d9221\"],[1,\"#276419\"]]},\"xaxis\":{\"gridcolor\":\"white\",\"linecolor\":\"white\",\"ticks\":\"\",\"title\":{\"standoff\":15},\"zerolinecolor\":\"white\",\"automargin\":true,\"zerolinewidth\":2},\"yaxis\":{\"gridcolor\":\"white\",\"linecolor\":\"white\",\"ticks\":\"\",\"title\":{\"standoff\":15},\"zerolinecolor\":\"white\",\"automargin\":true,\"zerolinewidth\":2},\"scene\":{\"xaxis\":{\"backgroundcolor\":\"#E5ECF6\",\"gridcolor\":\"white\",\"linecolor\":\"white\",\"showbackground\":true,\"ticks\":\"\",\"zerolinecolor\":\"white\",\"gridwidth\":2},\"yaxis\":{\"backgroundcolor\":\"#E5ECF6\",\"gridcolor\":\"white\",\"linecolor\":\"white\",\"showbackground\":true,\"ticks\":\"\",\"zerolinecolor\":\"white\",\"gridwidth\":2},\"zaxis\":{\"backgroundcolor\":\"#E5ECF6\",\"gridcolor\":\"white\",\"linecolor\":\"white\",\"showbackground\":true,\"ticks\":\"\",\"zerolinecolor\":\"white\",\"gridwidth\":2}},\"shapedefaults\":{\"line\":{\"color\":\"#2a3f5f\"}},\"annotationdefaults\":{\"arrowcolor\":\"#2a3f5f\",\"arrowhead\":0,\"arrowwidth\":1},\"geo\":{\"bgcolor\":\"white\",\"landcolor\":\"#E5ECF6\",\"subunitcolor\":\"white\",\"showland\":true,\"showlakes\":true,\"lakecolor\":\"white\"},\"title\":{\"x\":0.05},\"mapbox\":{\"style\":\"light\"}}},\"xaxis\":{\"anchor\":\"y\",\"domain\":[0.0,1.0],\"title\":{\"text\":\"x\"}},\"yaxis\":{\"anchor\":\"x\",\"domain\":[0.0,1.0],\"title\":{\"text\":\"y\"}},\"coloraxis\":{\"colorbar\":{\"title\":{\"text\":\"color\"}},\"colorscale\":[[0.0,\"#0d0887\"],[0.1111111111111111,\"#46039f\"],[0.2222222222222222,\"#7201a8\"],[0.3333333333333333,\"#9c179e\"],[0.4444444444444444,\"#bd3786\"],[0.5555555555555556,\"#d8576b\"],[0.6666666666666666,\"#ed7953\"],[0.7777777777777778,\"#fb9f3a\"],[0.8888888888888888,\"#fdca26\"],[1.0,\"#f0f921\"]]},\"legend\":{\"tracegroupgap\":0},\"margin\":{\"t\":60}},                        {\"responsive\": true}                    ).then(function(){\n",
       "                            \n",
       "var gd = document.getElementById('4847a72c-b483-4ee9-8689-ecc2687929d1');\n",
       "var x = new MutationObserver(function (mutations, observer) {{\n",
       "        var display = window.getComputedStyle(gd).display;\n",
       "        if (!display || display === 'none') {{\n",
       "            console.log([gd, 'removed!']);\n",
       "            Plotly.purge(gd);\n",
       "            observer.disconnect();\n",
       "        }}\n",
       "}});\n",
       "\n",
       "// Listen for the removal of the full notebook cells\n",
       "var notebookContainer = gd.closest('#notebook-container');\n",
       "if (notebookContainer) {{\n",
       "    x.observe(notebookContainer, {childList: true});\n",
       "}}\n",
       "\n",
       "// Listen for the clearing of the current output cell\n",
       "var outputEl = gd.closest('.output');\n",
       "if (outputEl) {{\n",
       "    x.observe(outputEl, {childList: true});\n",
       "}}\n",
       "\n",
       "                        })                };                });            </script>        </div>"
      ]
     },
     "metadata": {},
     "output_type": "display_data"
    }
   ],
   "source": [
    "fig = px.scatter( x=Y[:,0], y=Y[:,1] , color=labels)\n",
    "fig.show()"
   ]
  },
  {
   "cell_type": "markdown",
   "id": "21250ea0",
   "metadata": {},
   "source": [
    "As we see we have separate clusters here. Agglomerative Clustering predicts several clusters. In the plot above we see that there are several groups. However, if we compare that with the actual clusters of species in the figure belowm we see that the species are not clearly separable. "
   ]
  },
  {
   "cell_type": "code",
   "execution_count": 46,
   "id": "ecc77e85",
   "metadata": {},
   "outputs": [
    {
     "data": {
      "application/vnd.plotly.v1+json": {
       "config": {
        "plotlyServerURL": "https://plot.ly"
       },
       "data": [
        {
         "hovertemplate": "color=hosei<br>x=%{x}<br>y=%{y}<extra></extra>",
         "legendgroup": "hosei",
         "marker": {
          "color": "#636efa",
          "symbol": "circle"
         },
         "mode": "markers",
         "name": "hosei",
         "orientation": "v",
         "showlegend": true,
         "type": "scatter",
         "x": [
          -25.02457618713379,
          -21.572906494140625,
          -53.47444152832031,
          -55.635040283203125,
          -55.810298919677734
         ],
         "xaxis": "x",
         "y": [
          -87.66300201416016,
          -88.80931854248047,
          63.49217987060547,
          60.98125457763672,
          57.99468994140625
         ],
         "yaxis": "y"
        },
        {
         "hovertemplate": "color=rubicunda<br>x=%{x}<br>y=%{y}<extra></extra>",
         "legendgroup": "rubicunda",
         "marker": {
          "color": "#EF553B",
          "symbol": "circle"
         },
         "mode": "markers",
         "name": "rubicunda",
         "orientation": "v",
         "showlegend": true,
         "type": "scatter",
         "x": [
          -22.187116622924805,
          -21.247783660888672,
          -23.86391258239746,
          -54.654685974121094,
          -55.801883697509766,
          -57.43338394165039,
          -57.30319595336914,
          -57.161170959472656
         ],
         "xaxis": "x",
         "y": [
          -87.33493041992188,
          -87.87559509277344,
          -80.02327728271484,
          63.84505844116211,
          62.23625183105469,
          62.57651138305664,
          61.35627746582031,
          59.95920944213867
         ],
         "yaxis": "y"
        },
        {
         "hovertemplate": "color=mitis<br>x=%{x}<br>y=%{y}<extra></extra>",
         "legendgroup": "mitis",
         "marker": {
          "color": "#00cc96",
          "symbol": "circle"
         },
         "mode": "markers",
         "name": "mitis",
         "orientation": "v",
         "showlegend": true,
         "type": "scatter",
         "x": [
          -25.981386184692383,
          -27.222763061523438,
          -24.95610237121582,
          -23.720073699951172,
          -23.562225341796875,
          -20.42046356201172,
          -20.98590087890625,
          -22.584583282470703,
          -21.367403030395508,
          -22.137582778930664
         ],
         "xaxis": "x",
         "y": [
          -86.68038177490234,
          -86.70254516601562,
          -84.8322982788086,
          -82.73279571533203,
          -81.64800262451172,
          -81.21073913574219,
          -84.0797348022461,
          -78.70194244384766,
          -83.08646392822266,
          -77.30586242675781
         ],
         "yaxis": "y"
        },
        {
         "hovertemplate": "color=talapoin<br>x=%{x}<br>y=%{y}<extra></extra>",
         "legendgroup": "talapoin",
         "marker": {
          "color": "#ab63fa",
          "symbol": "circle"
         },
         "mode": "markers",
         "name": "talapoin",
         "orientation": "v",
         "showlegend": true,
         "type": "scatter",
         "x": [
          -20.857582092285156,
          -20.709794998168945,
          -23.58147430419922,
          -22.618623733520508,
          -22.382474899291992
         ],
         "xaxis": "x",
         "y": [
          -71.21109771728516,
          -70.31314086914062,
          -71.90360260009766,
          -70.58374786376953,
          -71.78115844726562
         ],
         "yaxis": "y"
        },
        {
         "hovertemplate": "color=albigena<br>x=%{x}<br>y=%{y}<extra></extra>",
         "legendgroup": "albigena",
         "marker": {
          "color": "#FFA15A",
          "symbol": "circle"
         },
         "mode": "markers",
         "name": "albigena",
         "orientation": "v",
         "showlegend": true,
         "type": "scatter",
         "x": [
          41.69932174682617,
          41.43128204345703,
          40.982662200927734,
          42.30460739135742,
          -19.267335891723633,
          42.738468170166016
         ],
         "xaxis": "x",
         "y": [
          55.767333984375,
          53.291473388671875,
          54.66391372680664,
          54.439849853515625,
          -81.19805145263672,
          52.38039779663086
         ],
         "yaxis": "y"
        },
        {
         "hovertemplate": "color=badius<br>x=%{x}<br>y=%{y}<extra></extra>",
         "legendgroup": "badius",
         "marker": {
          "color": "#19d3f3",
          "symbol": "circle"
         },
         "mode": "markers",
         "name": "badius",
         "orientation": "v",
         "showlegend": true,
         "type": "scatter",
         "x": [
          -59.65470504760742,
          -56.55495834350586,
          -54.78071212768555,
          -57.78425216674805,
          -59.457393646240234,
          -54.27347183227539,
          -60.702789306640625,
          -58.81659698486328,
          -55.61451721191406,
          -57.96526336669922
         ],
         "xaxis": "x",
         "y": [
          56.48285675048828,
          52.52635955810547,
          53.648868560791016,
          52.358341217041016,
          54.31151580810547,
          56.0230712890625,
          52.186256408691406,
          53.49497604370117,
          56.885799407958984,
          50.634857177734375
         ],
         "yaxis": "y"
        },
        {
         "hovertemplate": "color=patas<br>x=%{x}<br>y=%{y}<extra></extra>",
         "legendgroup": "patas",
         "marker": {
          "color": "#FF6692",
          "symbol": "circle"
         },
         "mode": "markers",
         "name": "patas",
         "orientation": "v",
         "showlegend": true,
         "type": "scatter",
         "x": [
          31.90595054626465,
          30.575016021728516,
          34.201236724853516,
          35.07347869873047
         ],
         "xaxis": "x",
         "y": [
          -45.01460266113281,
          -41.62367630004883,
          -44.88271713256836,
          -45.502967834472656
         ],
         "yaxis": "y"
        },
        {
         "hovertemplate": "color=fascicularis<br>x=%{x}<br>y=%{y}<extra></extra>",
         "legendgroup": "fascicularis",
         "marker": {
          "color": "#B6E880",
          "symbol": "circle"
         },
         "mode": "markers",
         "name": "fascicularis",
         "orientation": "v",
         "showlegend": true,
         "type": "scatter",
         "x": [
          27.48397445678711,
          35.45582962036133,
          27.968660354614258,
          29.735666275024414,
          30.66967010498047,
          30.36016845703125,
          29.899930953979492,
          30.266807556152344
         ],
         "xaxis": "x",
         "y": [
          -36.696434020996094,
          -33.74313735961914,
          -38.05221176147461,
          -37.04935836791992,
          -35.442386627197266,
          -40.58834457397461,
          -35.01174545288086,
          -37.734561920166016
         ],
         "yaxis": "y"
        },
        {
         "hovertemplate": "color=sylvanus<br>x=%{x}<br>y=%{y}<extra></extra>",
         "legendgroup": "sylvanus",
         "marker": {
          "color": "#FF97FF",
          "symbol": "circle"
         },
         "mode": "markers",
         "name": "sylvanus",
         "orientation": "v",
         "showlegend": true,
         "type": "scatter",
         "x": [
          37.6086311340332,
          35.25156021118164
         ],
         "xaxis": "x",
         "y": [
          -44.656105041503906,
          -32.20691680908203
         ],
         "yaxis": "y"
        },
        {
         "hovertemplate": "color=fuscata<br>x=%{x}<br>y=%{y}<extra></extra>",
         "legendgroup": "fuscata",
         "marker": {
          "color": "#FECB52",
          "symbol": "circle"
         },
         "mode": "markers",
         "name": "fuscata",
         "orientation": "v",
         "showlegend": true,
         "type": "scatter",
         "x": [
          39.79997634887695,
          36.99493408203125
         ],
         "xaxis": "x",
         "y": [
          -47.958370208740234,
          -43.15031814575195
         ],
         "yaxis": "y"
        },
        {
         "hovertemplate": "color=mulatta<br>x=%{x}<br>y=%{y}<extra></extra>",
         "legendgroup": "mulatta",
         "marker": {
          "color": "#636efa",
          "symbol": "circle"
         },
         "mode": "markers",
         "name": "mulatta",
         "orientation": "v",
         "showlegend": true,
         "type": "scatter",
         "x": [
          39.66044616699219,
          39.79174041748047,
          37.738983154296875
         ],
         "xaxis": "x",
         "y": [
          -50.017337799072266,
          -49.05061340332031,
          -45.44956588745117
         ],
         "yaxis": "y"
        },
        {
         "hovertemplate": "color=cristata<br>x=%{x}<br>y=%{y}<extra></extra>",
         "legendgroup": "cristata",
         "marker": {
          "color": "#EF553B",
          "symbol": "circle"
         },
         "mode": "markers",
         "name": "cristata",
         "orientation": "v",
         "showlegend": true,
         "type": "scatter",
         "x": [
          20.324729919433594,
          19.92917251586914,
          21.52022933959961,
          22.535747528076172,
          22.703941345214844,
          21.311193466186523,
          24.536897659301758,
          26.907682418823242,
          24.72484588623047,
          29.0640926361084,
          -46.21213150024414,
          -46.95454406738281,
          -49.11153793334961,
          -47.3404426574707,
          -48.20867156982422,
          -48.6545295715332,
          -49.48591613769531,
          -50.26824951171875
         ],
         "xaxis": "x",
         "y": [
          51.87715530395508,
          49.547550201416016,
          50.11315155029297,
          50.162620544433594,
          48.689430236816406,
          48.772743225097656,
          46.939056396484375,
          45.442562103271484,
          45.66737747192383,
          44.969627380371094,
          -4.818396091461182,
          -4.144986629486084,
          -3.8372862339019775,
          -6.21569299697876,
          -7.033977508544922,
          -6.029447555541992,
          -8.39262866973877,
          -9.662952423095703
         ],
         "yaxis": "y"
        },
        {
         "hovertemplate": "color=polykomos<br>x=%{x}<br>y=%{y}<extra></extra>",
         "legendgroup": "polykomos",
         "marker": {
          "color": "#00cc96",
          "symbol": "circle"
         },
         "mode": "markers",
         "name": "polykomos",
         "orientation": "v",
         "showlegend": true,
         "type": "scatter",
         "x": [
          28.446569442749023,
          29.846275329589844,
          28.548404693603516,
          29.43439483642578,
          30.823240280151367,
          31.543912887573242,
          34.9928092956543,
          35.814693450927734,
          37.01316833496094,
          41.00374221801758
         ],
         "xaxis": "x",
         "y": [
          40.11872482299805,
          42.846778869628906,
          41.790191650390625,
          41.443870544433594,
          40.2136344909668,
          44.34092712402344,
          44.36029052734375,
          44.79903793334961,
          45.93868637084961,
          51.746421813964844
         ],
         "yaxis": "y"
        },
        {
         "hovertemplate": "color=torquatus<br>x=%{x}<br>y=%{y}<extra></extra>",
         "legendgroup": "torquatus",
         "marker": {
          "color": "#ab63fa",
          "symbol": "circle"
         },
         "mode": "markers",
         "name": "torquatus",
         "orientation": "v",
         "showlegend": true,
         "type": "scatter",
         "x": [
          32.45873260498047,
          45.76044464111328,
          44.10099411010742,
          45.19792556762695,
          44.23674392700195,
          45.11793518066406,
          41.823219299316406,
          44.042930603027344,
          42.8680305480957
         ],
         "xaxis": "x",
         "y": [
          39.77630615234375,
          37.03240203857422,
          37.32547378540039,
          44.001949310302734,
          36.160030364990234,
          44.66067123413086,
          37.49552917480469,
          38.507179260253906,
          36.83041763305664
         ],
         "yaxis": "y"
        },
        {
         "hovertemplate": "color=gelada<br>x=%{x}<br>y=%{y}<extra></extra>",
         "legendgroup": "gelada",
         "marker": {
          "color": "#FFA15A",
          "symbol": "circle"
         },
         "mode": "markers",
         "name": "gelada",
         "orientation": "v",
         "showlegend": true,
         "type": "scatter",
         "x": [
          -34.668922424316406
         ],
         "xaxis": "x",
         "y": [
          5.117813587188721
         ],
         "yaxis": "y"
        },
        {
         "hovertemplate": "color=leucophaeus<br>x=%{x}<br>y=%{y}<extra></extra>",
         "legendgroup": "leucophaeus",
         "marker": {
          "color": "#19d3f3",
          "symbol": "circle"
         },
         "mode": "markers",
         "name": "leucophaeus",
         "orientation": "v",
         "showlegend": true,
         "type": "scatter",
         "x": [
          -35.70315170288086,
          -35.41755294799805,
          44.57854461669922,
          18.47600555419922
         ],
         "xaxis": "x",
         "y": [
          5.424104690551758,
          4.39469575881958,
          52.03988265991211,
          -44.54454803466797
         ],
         "yaxis": "y"
        },
        {
         "hovertemplate": "color=sphinx<br>x=%{x}<br>y=%{y}<extra></extra>",
         "legendgroup": "sphinx",
         "marker": {
          "color": "#FF6692",
          "symbol": "circle"
         },
         "mode": "markers",
         "name": "sphinx",
         "orientation": "v",
         "showlegend": true,
         "type": "scatter",
         "x": [
          -34.79285430908203,
          17.831378936767578
         ],
         "xaxis": "x",
         "y": [
          13.870492935180664,
          -44.06648254394531
         ],
         "yaxis": "y"
        },
        {
         "hovertemplate": "color=anubis<br>x=%{x}<br>y=%{y}<extra></extra>",
         "legendgroup": "anubis",
         "marker": {
          "color": "#B6E880",
          "symbol": "circle"
         },
         "mode": "markers",
         "name": "anubis",
         "orientation": "v",
         "showlegend": true,
         "type": "scatter",
         "x": [
          -33.89742660522461,
          -32.95953369140625,
          -31.91046714782715,
          -30.41081428527832,
          -30.659439086914062,
          -32.534061431884766,
          -33.63382339477539,
          -29.310401916503906,
          17.435333251953125
         ],
         "xaxis": "x",
         "y": [
          12.30908203125,
          12.762683868408203,
          16.346424102783203,
          18.032554626464844,
          16.376527786254883,
          17.137136459350586,
          16.84996223449707,
          17.07974624633789,
          -45.265254974365234
         ],
         "yaxis": "y"
        },
        {
         "hovertemplate": "color=larvatus<br>x=%{x}<br>y=%{y}<extra></extra>",
         "legendgroup": "larvatus",
         "marker": {
          "color": "#FF97FF",
          "symbol": "circle"
         },
         "mode": "markers",
         "name": "larvatus",
         "orientation": "v",
         "showlegend": true,
         "type": "scatter",
         "x": [
          -0.5570369958877563,
          6.838067054748535,
          7.691023826599121,
          8.714614868164062,
          -2.372490644454956,
          -3.2045440673828125,
          -3.4743170738220215,
          -1.6777586936950684,
          -1.5176910161972046
         ],
         "xaxis": "x",
         "y": [
          39.026981353759766,
          41.67955780029297,
          41.928768157958984,
          42.203712463378906,
          39.26428985595703,
          37.30866622924805,
          38.47846603393555,
          38.15135955810547,
          37.083866119384766
         ],
         "yaxis": "y"
        },
        {
         "hovertemplate": "color=syndactylus<br>x=%{x}<br>y=%{y}<extra></extra>",
         "legendgroup": "syndactylus",
         "marker": {
          "color": "#FECB52",
          "symbol": "circle"
         },
         "mode": "markers",
         "name": "syndactylus",
         "orientation": "v",
         "showlegend": true,
         "type": "scatter",
         "x": [
          30.84272003173828,
          25.947338104248047
         ],
         "xaxis": "x",
         "y": [
          -46.663368225097656,
          -48.03290939331055
         ],
         "yaxis": "y"
        },
        {
         "hovertemplate": "color=lar<br>x=%{x}<br>y=%{y}<extra></extra>",
         "legendgroup": "lar",
         "marker": {
          "color": "#636efa",
          "symbol": "circle"
         },
         "mode": "markers",
         "name": "lar",
         "orientation": "v",
         "showlegend": true,
         "type": "scatter",
         "x": [
          26.611072540283203,
          27.63804054260254,
          34.082584381103516,
          30.48969268798828,
          32.846778869628906,
          29.90096664428711,
          36.003929138183594,
          31.647539138793945,
          31.212739944458008,
          34.01968765258789,
          33.09053421020508,
          -52.95991516113281,
          -55.39970397949219,
          -54.57841110229492,
          -53.04969024658203,
          -53.206974029541016,
          -54.613136291503906,
          -53.27679443359375
         ],
         "xaxis": "x",
         "y": [
          -49.10010528564453,
          -49.98347091674805,
          -52.83087158203125,
          -50.194400787353516,
          -53.37983703613281,
          -51.70590591430664,
          -34.372989654541016,
          -53.32352828979492,
          -52.03158187866211,
          -55.98801040649414,
          -55.957828521728516,
          -12.73902416229248,
          -14.263059616088867,
          -15.13868236541748,
          -13.951981544494629,
          -15.270156860351562,
          -17.048980712890625,
          -16.795392990112305
         ],
         "yaxis": "y"
        },
        {
         "hovertemplate": "color=pygmaeus<br>x=%{x}<br>y=%{y}<extra></extra>",
         "legendgroup": "pygmaeus",
         "marker": {
          "color": "#EF553B",
          "symbol": "circle"
         },
         "mode": "markers",
         "name": "pygmaeus",
         "orientation": "v",
         "showlegend": true,
         "type": "scatter",
         "x": [
          2.819326877593994,
          -34.90192794799805
         ],
         "xaxis": "x",
         "y": [
          -6.080367565155029,
          10.247891426086426
         ],
         "yaxis": "y"
        },
        {
         "hovertemplate": "color=troglodytes<br>x=%{x}<br>y=%{y}<extra></extra>",
         "legendgroup": "troglodytes",
         "marker": {
          "color": "#00cc96",
          "symbol": "circle"
         },
         "mode": "markers",
         "name": "troglodytes",
         "orientation": "v",
         "showlegend": true,
         "type": "scatter",
         "x": [
          4.408362865447998,
          -0.8714763522148132,
          -1.6372263431549072,
          -0.6212372183799744,
          0.8316832184791565,
          2.1673998832702637,
          -0.09439574182033539,
          1.7765998840332031,
          3.1355912685394287
         ],
         "xaxis": "x",
         "y": [
          -5.739994525909424,
          -10.61542797088623,
          -10.546977996826172,
          -13.043966293334961,
          -9.436441421508789,
          -11.426916122436523,
          -13.79174518585205,
          -10.723471641540527,
          -3.8739118576049805
         ],
         "yaxis": "y"
        },
        {
         "hovertemplate": "color=paniscus<br>x=%{x}<br>y=%{y}<extra></extra>",
         "legendgroup": "paniscus",
         "marker": {
          "color": "#ab63fa",
          "symbol": "circle"
         },
         "mode": "markers",
         "name": "paniscus",
         "orientation": "v",
         "showlegend": true,
         "type": "scatter",
         "x": [
          2.8292105197906494,
          0.7890103459358215,
          1.7323564291000366
         ],
         "xaxis": "x",
         "y": [
          -4.927703857421875,
          -3.688150644302368,
          -2.9860141277313232
         ],
         "yaxis": "y"
        },
        {
         "hovertemplate": "color=gorilla<br>x=%{x}<br>y=%{y}<extra></extra>",
         "legendgroup": "gorilla",
         "marker": {
          "color": "#FFA15A",
          "symbol": "circle"
         },
         "mode": "markers",
         "name": "gorilla",
         "orientation": "v",
         "showlegend": true,
         "type": "scatter",
         "x": [
          10.277791023254395,
          8.586071014404297,
          9.390422821044922,
          10.4854736328125,
          4.925008773803711,
          5.608352184295654
         ],
         "xaxis": "x",
         "y": [
          2.873647451400757,
          2.603151559829712,
          3.569467306137085,
          4.102010726928711,
          1.0761358737945557,
          1.2458622455596924
         ],
         "yaxis": "y"
        }
       ],
       "layout": {
        "legend": {
         "title": {
          "text": "color"
         },
         "tracegroupgap": 0
        },
        "margin": {
         "t": 60
        },
        "template": {
         "data": {
          "bar": [
           {
            "error_x": {
             "color": "#2a3f5f"
            },
            "error_y": {
             "color": "#2a3f5f"
            },
            "marker": {
             "line": {
              "color": "#E5ECF6",
              "width": 0.5
             },
             "pattern": {
              "fillmode": "overlay",
              "size": 10,
              "solidity": 0.2
             }
            },
            "type": "bar"
           }
          ],
          "barpolar": [
           {
            "marker": {
             "line": {
              "color": "#E5ECF6",
              "width": 0.5
             },
             "pattern": {
              "fillmode": "overlay",
              "size": 10,
              "solidity": 0.2
             }
            },
            "type": "barpolar"
           }
          ],
          "carpet": [
           {
            "aaxis": {
             "endlinecolor": "#2a3f5f",
             "gridcolor": "white",
             "linecolor": "white",
             "minorgridcolor": "white",
             "startlinecolor": "#2a3f5f"
            },
            "baxis": {
             "endlinecolor": "#2a3f5f",
             "gridcolor": "white",
             "linecolor": "white",
             "minorgridcolor": "white",
             "startlinecolor": "#2a3f5f"
            },
            "type": "carpet"
           }
          ],
          "choropleth": [
           {
            "colorbar": {
             "outlinewidth": 0,
             "ticks": ""
            },
            "type": "choropleth"
           }
          ],
          "contour": [
           {
            "colorbar": {
             "outlinewidth": 0,
             "ticks": ""
            },
            "colorscale": [
             [
              0,
              "#0d0887"
             ],
             [
              0.1111111111111111,
              "#46039f"
             ],
             [
              0.2222222222222222,
              "#7201a8"
             ],
             [
              0.3333333333333333,
              "#9c179e"
             ],
             [
              0.4444444444444444,
              "#bd3786"
             ],
             [
              0.5555555555555556,
              "#d8576b"
             ],
             [
              0.6666666666666666,
              "#ed7953"
             ],
             [
              0.7777777777777778,
              "#fb9f3a"
             ],
             [
              0.8888888888888888,
              "#fdca26"
             ],
             [
              1,
              "#f0f921"
             ]
            ],
            "type": "contour"
           }
          ],
          "contourcarpet": [
           {
            "colorbar": {
             "outlinewidth": 0,
             "ticks": ""
            },
            "type": "contourcarpet"
           }
          ],
          "heatmap": [
           {
            "colorbar": {
             "outlinewidth": 0,
             "ticks": ""
            },
            "colorscale": [
             [
              0,
              "#0d0887"
             ],
             [
              0.1111111111111111,
              "#46039f"
             ],
             [
              0.2222222222222222,
              "#7201a8"
             ],
             [
              0.3333333333333333,
              "#9c179e"
             ],
             [
              0.4444444444444444,
              "#bd3786"
             ],
             [
              0.5555555555555556,
              "#d8576b"
             ],
             [
              0.6666666666666666,
              "#ed7953"
             ],
             [
              0.7777777777777778,
              "#fb9f3a"
             ],
             [
              0.8888888888888888,
              "#fdca26"
             ],
             [
              1,
              "#f0f921"
             ]
            ],
            "type": "heatmap"
           }
          ],
          "heatmapgl": [
           {
            "colorbar": {
             "outlinewidth": 0,
             "ticks": ""
            },
            "colorscale": [
             [
              0,
              "#0d0887"
             ],
             [
              0.1111111111111111,
              "#46039f"
             ],
             [
              0.2222222222222222,
              "#7201a8"
             ],
             [
              0.3333333333333333,
              "#9c179e"
             ],
             [
              0.4444444444444444,
              "#bd3786"
             ],
             [
              0.5555555555555556,
              "#d8576b"
             ],
             [
              0.6666666666666666,
              "#ed7953"
             ],
             [
              0.7777777777777778,
              "#fb9f3a"
             ],
             [
              0.8888888888888888,
              "#fdca26"
             ],
             [
              1,
              "#f0f921"
             ]
            ],
            "type": "heatmapgl"
           }
          ],
          "histogram": [
           {
            "marker": {
             "pattern": {
              "fillmode": "overlay",
              "size": 10,
              "solidity": 0.2
             }
            },
            "type": "histogram"
           }
          ],
          "histogram2d": [
           {
            "colorbar": {
             "outlinewidth": 0,
             "ticks": ""
            },
            "colorscale": [
             [
              0,
              "#0d0887"
             ],
             [
              0.1111111111111111,
              "#46039f"
             ],
             [
              0.2222222222222222,
              "#7201a8"
             ],
             [
              0.3333333333333333,
              "#9c179e"
             ],
             [
              0.4444444444444444,
              "#bd3786"
             ],
             [
              0.5555555555555556,
              "#d8576b"
             ],
             [
              0.6666666666666666,
              "#ed7953"
             ],
             [
              0.7777777777777778,
              "#fb9f3a"
             ],
             [
              0.8888888888888888,
              "#fdca26"
             ],
             [
              1,
              "#f0f921"
             ]
            ],
            "type": "histogram2d"
           }
          ],
          "histogram2dcontour": [
           {
            "colorbar": {
             "outlinewidth": 0,
             "ticks": ""
            },
            "colorscale": [
             [
              0,
              "#0d0887"
             ],
             [
              0.1111111111111111,
              "#46039f"
             ],
             [
              0.2222222222222222,
              "#7201a8"
             ],
             [
              0.3333333333333333,
              "#9c179e"
             ],
             [
              0.4444444444444444,
              "#bd3786"
             ],
             [
              0.5555555555555556,
              "#d8576b"
             ],
             [
              0.6666666666666666,
              "#ed7953"
             ],
             [
              0.7777777777777778,
              "#fb9f3a"
             ],
             [
              0.8888888888888888,
              "#fdca26"
             ],
             [
              1,
              "#f0f921"
             ]
            ],
            "type": "histogram2dcontour"
           }
          ],
          "mesh3d": [
           {
            "colorbar": {
             "outlinewidth": 0,
             "ticks": ""
            },
            "type": "mesh3d"
           }
          ],
          "parcoords": [
           {
            "line": {
             "colorbar": {
              "outlinewidth": 0,
              "ticks": ""
             }
            },
            "type": "parcoords"
           }
          ],
          "pie": [
           {
            "automargin": true,
            "type": "pie"
           }
          ],
          "scatter": [
           {
            "fillpattern": {
             "fillmode": "overlay",
             "size": 10,
             "solidity": 0.2
            },
            "type": "scatter"
           }
          ],
          "scatter3d": [
           {
            "line": {
             "colorbar": {
              "outlinewidth": 0,
              "ticks": ""
             }
            },
            "marker": {
             "colorbar": {
              "outlinewidth": 0,
              "ticks": ""
             }
            },
            "type": "scatter3d"
           }
          ],
          "scattercarpet": [
           {
            "marker": {
             "colorbar": {
              "outlinewidth": 0,
              "ticks": ""
             }
            },
            "type": "scattercarpet"
           }
          ],
          "scattergeo": [
           {
            "marker": {
             "colorbar": {
              "outlinewidth": 0,
              "ticks": ""
             }
            },
            "type": "scattergeo"
           }
          ],
          "scattergl": [
           {
            "marker": {
             "colorbar": {
              "outlinewidth": 0,
              "ticks": ""
             }
            },
            "type": "scattergl"
           }
          ],
          "scattermapbox": [
           {
            "marker": {
             "colorbar": {
              "outlinewidth": 0,
              "ticks": ""
             }
            },
            "type": "scattermapbox"
           }
          ],
          "scatterpolar": [
           {
            "marker": {
             "colorbar": {
              "outlinewidth": 0,
              "ticks": ""
             }
            },
            "type": "scatterpolar"
           }
          ],
          "scatterpolargl": [
           {
            "marker": {
             "colorbar": {
              "outlinewidth": 0,
              "ticks": ""
             }
            },
            "type": "scatterpolargl"
           }
          ],
          "scatterternary": [
           {
            "marker": {
             "colorbar": {
              "outlinewidth": 0,
              "ticks": ""
             }
            },
            "type": "scatterternary"
           }
          ],
          "surface": [
           {
            "colorbar": {
             "outlinewidth": 0,
             "ticks": ""
            },
            "colorscale": [
             [
              0,
              "#0d0887"
             ],
             [
              0.1111111111111111,
              "#46039f"
             ],
             [
              0.2222222222222222,
              "#7201a8"
             ],
             [
              0.3333333333333333,
              "#9c179e"
             ],
             [
              0.4444444444444444,
              "#bd3786"
             ],
             [
              0.5555555555555556,
              "#d8576b"
             ],
             [
              0.6666666666666666,
              "#ed7953"
             ],
             [
              0.7777777777777778,
              "#fb9f3a"
             ],
             [
              0.8888888888888888,
              "#fdca26"
             ],
             [
              1,
              "#f0f921"
             ]
            ],
            "type": "surface"
           }
          ],
          "table": [
           {
            "cells": {
             "fill": {
              "color": "#EBF0F8"
             },
             "line": {
              "color": "white"
             }
            },
            "header": {
             "fill": {
              "color": "#C8D4E3"
             },
             "line": {
              "color": "white"
             }
            },
            "type": "table"
           }
          ]
         },
         "layout": {
          "annotationdefaults": {
           "arrowcolor": "#2a3f5f",
           "arrowhead": 0,
           "arrowwidth": 1
          },
          "autotypenumbers": "strict",
          "coloraxis": {
           "colorbar": {
            "outlinewidth": 0,
            "ticks": ""
           }
          },
          "colorscale": {
           "diverging": [
            [
             0,
             "#8e0152"
            ],
            [
             0.1,
             "#c51b7d"
            ],
            [
             0.2,
             "#de77ae"
            ],
            [
             0.3,
             "#f1b6da"
            ],
            [
             0.4,
             "#fde0ef"
            ],
            [
             0.5,
             "#f7f7f7"
            ],
            [
             0.6,
             "#e6f5d0"
            ],
            [
             0.7,
             "#b8e186"
            ],
            [
             0.8,
             "#7fbc41"
            ],
            [
             0.9,
             "#4d9221"
            ],
            [
             1,
             "#276419"
            ]
           ],
           "sequential": [
            [
             0,
             "#0d0887"
            ],
            [
             0.1111111111111111,
             "#46039f"
            ],
            [
             0.2222222222222222,
             "#7201a8"
            ],
            [
             0.3333333333333333,
             "#9c179e"
            ],
            [
             0.4444444444444444,
             "#bd3786"
            ],
            [
             0.5555555555555556,
             "#d8576b"
            ],
            [
             0.6666666666666666,
             "#ed7953"
            ],
            [
             0.7777777777777778,
             "#fb9f3a"
            ],
            [
             0.8888888888888888,
             "#fdca26"
            ],
            [
             1,
             "#f0f921"
            ]
           ],
           "sequentialminus": [
            [
             0,
             "#0d0887"
            ],
            [
             0.1111111111111111,
             "#46039f"
            ],
            [
             0.2222222222222222,
             "#7201a8"
            ],
            [
             0.3333333333333333,
             "#9c179e"
            ],
            [
             0.4444444444444444,
             "#bd3786"
            ],
            [
             0.5555555555555556,
             "#d8576b"
            ],
            [
             0.6666666666666666,
             "#ed7953"
            ],
            [
             0.7777777777777778,
             "#fb9f3a"
            ],
            [
             0.8888888888888888,
             "#fdca26"
            ],
            [
             1,
             "#f0f921"
            ]
           ]
          },
          "colorway": [
           "#636efa",
           "#EF553B",
           "#00cc96",
           "#ab63fa",
           "#FFA15A",
           "#19d3f3",
           "#FF6692",
           "#B6E880",
           "#FF97FF",
           "#FECB52"
          ],
          "font": {
           "color": "#2a3f5f"
          },
          "geo": {
           "bgcolor": "white",
           "lakecolor": "white",
           "landcolor": "#E5ECF6",
           "showlakes": true,
           "showland": true,
           "subunitcolor": "white"
          },
          "hoverlabel": {
           "align": "left"
          },
          "hovermode": "closest",
          "mapbox": {
           "style": "light"
          },
          "paper_bgcolor": "white",
          "plot_bgcolor": "#E5ECF6",
          "polar": {
           "angularaxis": {
            "gridcolor": "white",
            "linecolor": "white",
            "ticks": ""
           },
           "bgcolor": "#E5ECF6",
           "radialaxis": {
            "gridcolor": "white",
            "linecolor": "white",
            "ticks": ""
           }
          },
          "scene": {
           "xaxis": {
            "backgroundcolor": "#E5ECF6",
            "gridcolor": "white",
            "gridwidth": 2,
            "linecolor": "white",
            "showbackground": true,
            "ticks": "",
            "zerolinecolor": "white"
           },
           "yaxis": {
            "backgroundcolor": "#E5ECF6",
            "gridcolor": "white",
            "gridwidth": 2,
            "linecolor": "white",
            "showbackground": true,
            "ticks": "",
            "zerolinecolor": "white"
           },
           "zaxis": {
            "backgroundcolor": "#E5ECF6",
            "gridcolor": "white",
            "gridwidth": 2,
            "linecolor": "white",
            "showbackground": true,
            "ticks": "",
            "zerolinecolor": "white"
           }
          },
          "shapedefaults": {
           "line": {
            "color": "#2a3f5f"
           }
          },
          "ternary": {
           "aaxis": {
            "gridcolor": "white",
            "linecolor": "white",
            "ticks": ""
           },
           "baxis": {
            "gridcolor": "white",
            "linecolor": "white",
            "ticks": ""
           },
           "bgcolor": "#E5ECF6",
           "caxis": {
            "gridcolor": "white",
            "linecolor": "white",
            "ticks": ""
           }
          },
          "title": {
           "x": 0.05
          },
          "xaxis": {
           "automargin": true,
           "gridcolor": "white",
           "linecolor": "white",
           "ticks": "",
           "title": {
            "standoff": 15
           },
           "zerolinecolor": "white",
           "zerolinewidth": 2
          },
          "yaxis": {
           "automargin": true,
           "gridcolor": "white",
           "linecolor": "white",
           "ticks": "",
           "title": {
            "standoff": 15
           },
           "zerolinecolor": "white",
           "zerolinewidth": 2
          }
         }
        },
        "xaxis": {
         "anchor": "y",
         "domain": [
          0,
          1
         ],
         "title": {
          "text": "x"
         }
        },
        "yaxis": {
         "anchor": "x",
         "domain": [
          0,
          1
         ],
         "title": {
          "text": "y"
         }
        }
       }
      },
      "text/html": [
       "<div>                            <div id=\"01aaddc2-8af1-4429-9fb4-ac866a9a6e12\" class=\"plotly-graph-div\" style=\"height:525px; width:100%;\"></div>            <script type=\"text/javascript\">                require([\"plotly\"], function(Plotly) {                    window.PLOTLYENV=window.PLOTLYENV || {};                                    if (document.getElementById(\"01aaddc2-8af1-4429-9fb4-ac866a9a6e12\")) {                    Plotly.newPlot(                        \"01aaddc2-8af1-4429-9fb4-ac866a9a6e12\",                        [{\"hovertemplate\":\"color=hosei<br>x=%{x}<br>y=%{y}<extra></extra>\",\"legendgroup\":\"hosei\",\"marker\":{\"color\":\"#636efa\",\"symbol\":\"circle\"},\"mode\":\"markers\",\"name\":\"hosei\",\"orientation\":\"v\",\"showlegend\":true,\"x\":[-25.02457618713379,-21.572906494140625,-53.47444152832031,-55.635040283203125,-55.810298919677734],\"xaxis\":\"x\",\"y\":[-87.66300201416016,-88.80931854248047,63.49217987060547,60.98125457763672,57.99468994140625],\"yaxis\":\"y\",\"type\":\"scatter\"},{\"hovertemplate\":\"color=rubicunda<br>x=%{x}<br>y=%{y}<extra></extra>\",\"legendgroup\":\"rubicunda\",\"marker\":{\"color\":\"#EF553B\",\"symbol\":\"circle\"},\"mode\":\"markers\",\"name\":\"rubicunda\",\"orientation\":\"v\",\"showlegend\":true,\"x\":[-22.187116622924805,-21.247783660888672,-23.86391258239746,-54.654685974121094,-55.801883697509766,-57.43338394165039,-57.30319595336914,-57.161170959472656],\"xaxis\":\"x\",\"y\":[-87.33493041992188,-87.87559509277344,-80.02327728271484,63.84505844116211,62.23625183105469,62.57651138305664,61.35627746582031,59.95920944213867],\"yaxis\":\"y\",\"type\":\"scatter\"},{\"hovertemplate\":\"color=mitis<br>x=%{x}<br>y=%{y}<extra></extra>\",\"legendgroup\":\"mitis\",\"marker\":{\"color\":\"#00cc96\",\"symbol\":\"circle\"},\"mode\":\"markers\",\"name\":\"mitis\",\"orientation\":\"v\",\"showlegend\":true,\"x\":[-25.981386184692383,-27.222763061523438,-24.95610237121582,-23.720073699951172,-23.562225341796875,-20.42046356201172,-20.98590087890625,-22.584583282470703,-21.367403030395508,-22.137582778930664],\"xaxis\":\"x\",\"y\":[-86.68038177490234,-86.70254516601562,-84.8322982788086,-82.73279571533203,-81.64800262451172,-81.21073913574219,-84.0797348022461,-78.70194244384766,-83.08646392822266,-77.30586242675781],\"yaxis\":\"y\",\"type\":\"scatter\"},{\"hovertemplate\":\"color=talapoin<br>x=%{x}<br>y=%{y}<extra></extra>\",\"legendgroup\":\"talapoin\",\"marker\":{\"color\":\"#ab63fa\",\"symbol\":\"circle\"},\"mode\":\"markers\",\"name\":\"talapoin\",\"orientation\":\"v\",\"showlegend\":true,\"x\":[-20.857582092285156,-20.709794998168945,-23.58147430419922,-22.618623733520508,-22.382474899291992],\"xaxis\":\"x\",\"y\":[-71.21109771728516,-70.31314086914062,-71.90360260009766,-70.58374786376953,-71.78115844726562],\"yaxis\":\"y\",\"type\":\"scatter\"},{\"hovertemplate\":\"color=albigena<br>x=%{x}<br>y=%{y}<extra></extra>\",\"legendgroup\":\"albigena\",\"marker\":{\"color\":\"#FFA15A\",\"symbol\":\"circle\"},\"mode\":\"markers\",\"name\":\"albigena\",\"orientation\":\"v\",\"showlegend\":true,\"x\":[41.69932174682617,41.43128204345703,40.982662200927734,42.30460739135742,-19.267335891723633,42.738468170166016],\"xaxis\":\"x\",\"y\":[55.767333984375,53.291473388671875,54.66391372680664,54.439849853515625,-81.19805145263672,52.38039779663086],\"yaxis\":\"y\",\"type\":\"scatter\"},{\"hovertemplate\":\"color=badius<br>x=%{x}<br>y=%{y}<extra></extra>\",\"legendgroup\":\"badius\",\"marker\":{\"color\":\"#19d3f3\",\"symbol\":\"circle\"},\"mode\":\"markers\",\"name\":\"badius\",\"orientation\":\"v\",\"showlegend\":true,\"x\":[-59.65470504760742,-56.55495834350586,-54.78071212768555,-57.78425216674805,-59.457393646240234,-54.27347183227539,-60.702789306640625,-58.81659698486328,-55.61451721191406,-57.96526336669922],\"xaxis\":\"x\",\"y\":[56.48285675048828,52.52635955810547,53.648868560791016,52.358341217041016,54.31151580810547,56.0230712890625,52.186256408691406,53.49497604370117,56.885799407958984,50.634857177734375],\"yaxis\":\"y\",\"type\":\"scatter\"},{\"hovertemplate\":\"color=patas<br>x=%{x}<br>y=%{y}<extra></extra>\",\"legendgroup\":\"patas\",\"marker\":{\"color\":\"#FF6692\",\"symbol\":\"circle\"},\"mode\":\"markers\",\"name\":\"patas\",\"orientation\":\"v\",\"showlegend\":true,\"x\":[31.90595054626465,30.575016021728516,34.201236724853516,35.07347869873047],\"xaxis\":\"x\",\"y\":[-45.01460266113281,-41.62367630004883,-44.88271713256836,-45.502967834472656],\"yaxis\":\"y\",\"type\":\"scatter\"},{\"hovertemplate\":\"color=fascicularis<br>x=%{x}<br>y=%{y}<extra></extra>\",\"legendgroup\":\"fascicularis\",\"marker\":{\"color\":\"#B6E880\",\"symbol\":\"circle\"},\"mode\":\"markers\",\"name\":\"fascicularis\",\"orientation\":\"v\",\"showlegend\":true,\"x\":[27.48397445678711,35.45582962036133,27.968660354614258,29.735666275024414,30.66967010498047,30.36016845703125,29.899930953979492,30.266807556152344],\"xaxis\":\"x\",\"y\":[-36.696434020996094,-33.74313735961914,-38.05221176147461,-37.04935836791992,-35.442386627197266,-40.58834457397461,-35.01174545288086,-37.734561920166016],\"yaxis\":\"y\",\"type\":\"scatter\"},{\"hovertemplate\":\"color=sylvanus<br>x=%{x}<br>y=%{y}<extra></extra>\",\"legendgroup\":\"sylvanus\",\"marker\":{\"color\":\"#FF97FF\",\"symbol\":\"circle\"},\"mode\":\"markers\",\"name\":\"sylvanus\",\"orientation\":\"v\",\"showlegend\":true,\"x\":[37.6086311340332,35.25156021118164],\"xaxis\":\"x\",\"y\":[-44.656105041503906,-32.20691680908203],\"yaxis\":\"y\",\"type\":\"scatter\"},{\"hovertemplate\":\"color=fuscata<br>x=%{x}<br>y=%{y}<extra></extra>\",\"legendgroup\":\"fuscata\",\"marker\":{\"color\":\"#FECB52\",\"symbol\":\"circle\"},\"mode\":\"markers\",\"name\":\"fuscata\",\"orientation\":\"v\",\"showlegend\":true,\"x\":[39.79997634887695,36.99493408203125],\"xaxis\":\"x\",\"y\":[-47.958370208740234,-43.15031814575195],\"yaxis\":\"y\",\"type\":\"scatter\"},{\"hovertemplate\":\"color=mulatta<br>x=%{x}<br>y=%{y}<extra></extra>\",\"legendgroup\":\"mulatta\",\"marker\":{\"color\":\"#636efa\",\"symbol\":\"circle\"},\"mode\":\"markers\",\"name\":\"mulatta\",\"orientation\":\"v\",\"showlegend\":true,\"x\":[39.66044616699219,39.79174041748047,37.738983154296875],\"xaxis\":\"x\",\"y\":[-50.017337799072266,-49.05061340332031,-45.44956588745117],\"yaxis\":\"y\",\"type\":\"scatter\"},{\"hovertemplate\":\"color=cristata<br>x=%{x}<br>y=%{y}<extra></extra>\",\"legendgroup\":\"cristata\",\"marker\":{\"color\":\"#EF553B\",\"symbol\":\"circle\"},\"mode\":\"markers\",\"name\":\"cristata\",\"orientation\":\"v\",\"showlegend\":true,\"x\":[20.324729919433594,19.92917251586914,21.52022933959961,22.535747528076172,22.703941345214844,21.311193466186523,24.536897659301758,26.907682418823242,24.72484588623047,29.0640926361084,-46.21213150024414,-46.95454406738281,-49.11153793334961,-47.3404426574707,-48.20867156982422,-48.6545295715332,-49.48591613769531,-50.26824951171875],\"xaxis\":\"x\",\"y\":[51.87715530395508,49.547550201416016,50.11315155029297,50.162620544433594,48.689430236816406,48.772743225097656,46.939056396484375,45.442562103271484,45.66737747192383,44.969627380371094,-4.818396091461182,-4.144986629486084,-3.8372862339019775,-6.21569299697876,-7.033977508544922,-6.029447555541992,-8.39262866973877,-9.662952423095703],\"yaxis\":\"y\",\"type\":\"scatter\"},{\"hovertemplate\":\"color=polykomos<br>x=%{x}<br>y=%{y}<extra></extra>\",\"legendgroup\":\"polykomos\",\"marker\":{\"color\":\"#00cc96\",\"symbol\":\"circle\"},\"mode\":\"markers\",\"name\":\"polykomos\",\"orientation\":\"v\",\"showlegend\":true,\"x\":[28.446569442749023,29.846275329589844,28.548404693603516,29.43439483642578,30.823240280151367,31.543912887573242,34.9928092956543,35.814693450927734,37.01316833496094,41.00374221801758],\"xaxis\":\"x\",\"y\":[40.11872482299805,42.846778869628906,41.790191650390625,41.443870544433594,40.2136344909668,44.34092712402344,44.36029052734375,44.79903793334961,45.93868637084961,51.746421813964844],\"yaxis\":\"y\",\"type\":\"scatter\"},{\"hovertemplate\":\"color=torquatus<br>x=%{x}<br>y=%{y}<extra></extra>\",\"legendgroup\":\"torquatus\",\"marker\":{\"color\":\"#ab63fa\",\"symbol\":\"circle\"},\"mode\":\"markers\",\"name\":\"torquatus\",\"orientation\":\"v\",\"showlegend\":true,\"x\":[32.45873260498047,45.76044464111328,44.10099411010742,45.19792556762695,44.23674392700195,45.11793518066406,41.823219299316406,44.042930603027344,42.8680305480957],\"xaxis\":\"x\",\"y\":[39.77630615234375,37.03240203857422,37.32547378540039,44.001949310302734,36.160030364990234,44.66067123413086,37.49552917480469,38.507179260253906,36.83041763305664],\"yaxis\":\"y\",\"type\":\"scatter\"},{\"hovertemplate\":\"color=gelada<br>x=%{x}<br>y=%{y}<extra></extra>\",\"legendgroup\":\"gelada\",\"marker\":{\"color\":\"#FFA15A\",\"symbol\":\"circle\"},\"mode\":\"markers\",\"name\":\"gelada\",\"orientation\":\"v\",\"showlegend\":true,\"x\":[-34.668922424316406],\"xaxis\":\"x\",\"y\":[5.117813587188721],\"yaxis\":\"y\",\"type\":\"scatter\"},{\"hovertemplate\":\"color=leucophaeus<br>x=%{x}<br>y=%{y}<extra></extra>\",\"legendgroup\":\"leucophaeus\",\"marker\":{\"color\":\"#19d3f3\",\"symbol\":\"circle\"},\"mode\":\"markers\",\"name\":\"leucophaeus\",\"orientation\":\"v\",\"showlegend\":true,\"x\":[-35.70315170288086,-35.41755294799805,44.57854461669922,18.47600555419922],\"xaxis\":\"x\",\"y\":[5.424104690551758,4.39469575881958,52.03988265991211,-44.54454803466797],\"yaxis\":\"y\",\"type\":\"scatter\"},{\"hovertemplate\":\"color=sphinx<br>x=%{x}<br>y=%{y}<extra></extra>\",\"legendgroup\":\"sphinx\",\"marker\":{\"color\":\"#FF6692\",\"symbol\":\"circle\"},\"mode\":\"markers\",\"name\":\"sphinx\",\"orientation\":\"v\",\"showlegend\":true,\"x\":[-34.79285430908203,17.831378936767578],\"xaxis\":\"x\",\"y\":[13.870492935180664,-44.06648254394531],\"yaxis\":\"y\",\"type\":\"scatter\"},{\"hovertemplate\":\"color=anubis<br>x=%{x}<br>y=%{y}<extra></extra>\",\"legendgroup\":\"anubis\",\"marker\":{\"color\":\"#B6E880\",\"symbol\":\"circle\"},\"mode\":\"markers\",\"name\":\"anubis\",\"orientation\":\"v\",\"showlegend\":true,\"x\":[-33.89742660522461,-32.95953369140625,-31.91046714782715,-30.41081428527832,-30.659439086914062,-32.534061431884766,-33.63382339477539,-29.310401916503906,17.435333251953125],\"xaxis\":\"x\",\"y\":[12.30908203125,12.762683868408203,16.346424102783203,18.032554626464844,16.376527786254883,17.137136459350586,16.84996223449707,17.07974624633789,-45.265254974365234],\"yaxis\":\"y\",\"type\":\"scatter\"},{\"hovertemplate\":\"color=larvatus<br>x=%{x}<br>y=%{y}<extra></extra>\",\"legendgroup\":\"larvatus\",\"marker\":{\"color\":\"#FF97FF\",\"symbol\":\"circle\"},\"mode\":\"markers\",\"name\":\"larvatus\",\"orientation\":\"v\",\"showlegend\":true,\"x\":[-0.5570369958877563,6.838067054748535,7.691023826599121,8.714614868164062,-2.372490644454956,-3.2045440673828125,-3.4743170738220215,-1.6777586936950684,-1.5176910161972046],\"xaxis\":\"x\",\"y\":[39.026981353759766,41.67955780029297,41.928768157958984,42.203712463378906,39.26428985595703,37.30866622924805,38.47846603393555,38.15135955810547,37.083866119384766],\"yaxis\":\"y\",\"type\":\"scatter\"},{\"hovertemplate\":\"color=syndactylus<br>x=%{x}<br>y=%{y}<extra></extra>\",\"legendgroup\":\"syndactylus\",\"marker\":{\"color\":\"#FECB52\",\"symbol\":\"circle\"},\"mode\":\"markers\",\"name\":\"syndactylus\",\"orientation\":\"v\",\"showlegend\":true,\"x\":[30.84272003173828,25.947338104248047],\"xaxis\":\"x\",\"y\":[-46.663368225097656,-48.03290939331055],\"yaxis\":\"y\",\"type\":\"scatter\"},{\"hovertemplate\":\"color=lar<br>x=%{x}<br>y=%{y}<extra></extra>\",\"legendgroup\":\"lar\",\"marker\":{\"color\":\"#636efa\",\"symbol\":\"circle\"},\"mode\":\"markers\",\"name\":\"lar\",\"orientation\":\"v\",\"showlegend\":true,\"x\":[26.611072540283203,27.63804054260254,34.082584381103516,30.48969268798828,32.846778869628906,29.90096664428711,36.003929138183594,31.647539138793945,31.212739944458008,34.01968765258789,33.09053421020508,-52.95991516113281,-55.39970397949219,-54.57841110229492,-53.04969024658203,-53.206974029541016,-54.613136291503906,-53.27679443359375],\"xaxis\":\"x\",\"y\":[-49.10010528564453,-49.98347091674805,-52.83087158203125,-50.194400787353516,-53.37983703613281,-51.70590591430664,-34.372989654541016,-53.32352828979492,-52.03158187866211,-55.98801040649414,-55.957828521728516,-12.73902416229248,-14.263059616088867,-15.13868236541748,-13.951981544494629,-15.270156860351562,-17.048980712890625,-16.795392990112305],\"yaxis\":\"y\",\"type\":\"scatter\"},{\"hovertemplate\":\"color=pygmaeus<br>x=%{x}<br>y=%{y}<extra></extra>\",\"legendgroup\":\"pygmaeus\",\"marker\":{\"color\":\"#EF553B\",\"symbol\":\"circle\"},\"mode\":\"markers\",\"name\":\"pygmaeus\",\"orientation\":\"v\",\"showlegend\":true,\"x\":[2.819326877593994,-34.90192794799805],\"xaxis\":\"x\",\"y\":[-6.080367565155029,10.247891426086426],\"yaxis\":\"y\",\"type\":\"scatter\"},{\"hovertemplate\":\"color=troglodytes<br>x=%{x}<br>y=%{y}<extra></extra>\",\"legendgroup\":\"troglodytes\",\"marker\":{\"color\":\"#00cc96\",\"symbol\":\"circle\"},\"mode\":\"markers\",\"name\":\"troglodytes\",\"orientation\":\"v\",\"showlegend\":true,\"x\":[4.408362865447998,-0.8714763522148132,-1.6372263431549072,-0.6212372183799744,0.8316832184791565,2.1673998832702637,-0.09439574182033539,1.7765998840332031,3.1355912685394287],\"xaxis\":\"x\",\"y\":[-5.739994525909424,-10.61542797088623,-10.546977996826172,-13.043966293334961,-9.436441421508789,-11.426916122436523,-13.79174518585205,-10.723471641540527,-3.8739118576049805],\"yaxis\":\"y\",\"type\":\"scatter\"},{\"hovertemplate\":\"color=paniscus<br>x=%{x}<br>y=%{y}<extra></extra>\",\"legendgroup\":\"paniscus\",\"marker\":{\"color\":\"#ab63fa\",\"symbol\":\"circle\"},\"mode\":\"markers\",\"name\":\"paniscus\",\"orientation\":\"v\",\"showlegend\":true,\"x\":[2.8292105197906494,0.7890103459358215,1.7323564291000366],\"xaxis\":\"x\",\"y\":[-4.927703857421875,-3.688150644302368,-2.9860141277313232],\"yaxis\":\"y\",\"type\":\"scatter\"},{\"hovertemplate\":\"color=gorilla<br>x=%{x}<br>y=%{y}<extra></extra>\",\"legendgroup\":\"gorilla\",\"marker\":{\"color\":\"#FFA15A\",\"symbol\":\"circle\"},\"mode\":\"markers\",\"name\":\"gorilla\",\"orientation\":\"v\",\"showlegend\":true,\"x\":[10.277791023254395,8.586071014404297,9.390422821044922,10.4854736328125,4.925008773803711,5.608352184295654],\"xaxis\":\"x\",\"y\":[2.873647451400757,2.603151559829712,3.569467306137085,4.102010726928711,1.0761358737945557,1.2458622455596924],\"yaxis\":\"y\",\"type\":\"scatter\"}],                        {\"template\":{\"data\":{\"histogram2dcontour\":[{\"type\":\"histogram2dcontour\",\"colorbar\":{\"outlinewidth\":0,\"ticks\":\"\"},\"colorscale\":[[0.0,\"#0d0887\"],[0.1111111111111111,\"#46039f\"],[0.2222222222222222,\"#7201a8\"],[0.3333333333333333,\"#9c179e\"],[0.4444444444444444,\"#bd3786\"],[0.5555555555555556,\"#d8576b\"],[0.6666666666666666,\"#ed7953\"],[0.7777777777777778,\"#fb9f3a\"],[0.8888888888888888,\"#fdca26\"],[1.0,\"#f0f921\"]]}],\"choropleth\":[{\"type\":\"choropleth\",\"colorbar\":{\"outlinewidth\":0,\"ticks\":\"\"}}],\"histogram2d\":[{\"type\":\"histogram2d\",\"colorbar\":{\"outlinewidth\":0,\"ticks\":\"\"},\"colorscale\":[[0.0,\"#0d0887\"],[0.1111111111111111,\"#46039f\"],[0.2222222222222222,\"#7201a8\"],[0.3333333333333333,\"#9c179e\"],[0.4444444444444444,\"#bd3786\"],[0.5555555555555556,\"#d8576b\"],[0.6666666666666666,\"#ed7953\"],[0.7777777777777778,\"#fb9f3a\"],[0.8888888888888888,\"#fdca26\"],[1.0,\"#f0f921\"]]}],\"heatmap\":[{\"type\":\"heatmap\",\"colorbar\":{\"outlinewidth\":0,\"ticks\":\"\"},\"colorscale\":[[0.0,\"#0d0887\"],[0.1111111111111111,\"#46039f\"],[0.2222222222222222,\"#7201a8\"],[0.3333333333333333,\"#9c179e\"],[0.4444444444444444,\"#bd3786\"],[0.5555555555555556,\"#d8576b\"],[0.6666666666666666,\"#ed7953\"],[0.7777777777777778,\"#fb9f3a\"],[0.8888888888888888,\"#fdca26\"],[1.0,\"#f0f921\"]]}],\"heatmapgl\":[{\"type\":\"heatmapgl\",\"colorbar\":{\"outlinewidth\":0,\"ticks\":\"\"},\"colorscale\":[[0.0,\"#0d0887\"],[0.1111111111111111,\"#46039f\"],[0.2222222222222222,\"#7201a8\"],[0.3333333333333333,\"#9c179e\"],[0.4444444444444444,\"#bd3786\"],[0.5555555555555556,\"#d8576b\"],[0.6666666666666666,\"#ed7953\"],[0.7777777777777778,\"#fb9f3a\"],[0.8888888888888888,\"#fdca26\"],[1.0,\"#f0f921\"]]}],\"contourcarpet\":[{\"type\":\"contourcarpet\",\"colorbar\":{\"outlinewidth\":0,\"ticks\":\"\"}}],\"contour\":[{\"type\":\"contour\",\"colorbar\":{\"outlinewidth\":0,\"ticks\":\"\"},\"colorscale\":[[0.0,\"#0d0887\"],[0.1111111111111111,\"#46039f\"],[0.2222222222222222,\"#7201a8\"],[0.3333333333333333,\"#9c179e\"],[0.4444444444444444,\"#bd3786\"],[0.5555555555555556,\"#d8576b\"],[0.6666666666666666,\"#ed7953\"],[0.7777777777777778,\"#fb9f3a\"],[0.8888888888888888,\"#fdca26\"],[1.0,\"#f0f921\"]]}],\"surface\":[{\"type\":\"surface\",\"colorbar\":{\"outlinewidth\":0,\"ticks\":\"\"},\"colorscale\":[[0.0,\"#0d0887\"],[0.1111111111111111,\"#46039f\"],[0.2222222222222222,\"#7201a8\"],[0.3333333333333333,\"#9c179e\"],[0.4444444444444444,\"#bd3786\"],[0.5555555555555556,\"#d8576b\"],[0.6666666666666666,\"#ed7953\"],[0.7777777777777778,\"#fb9f3a\"],[0.8888888888888888,\"#fdca26\"],[1.0,\"#f0f921\"]]}],\"mesh3d\":[{\"type\":\"mesh3d\",\"colorbar\":{\"outlinewidth\":0,\"ticks\":\"\"}}],\"scatter\":[{\"fillpattern\":{\"fillmode\":\"overlay\",\"size\":10,\"solidity\":0.2},\"type\":\"scatter\"}],\"parcoords\":[{\"type\":\"parcoords\",\"line\":{\"colorbar\":{\"outlinewidth\":0,\"ticks\":\"\"}}}],\"scatterpolargl\":[{\"type\":\"scatterpolargl\",\"marker\":{\"colorbar\":{\"outlinewidth\":0,\"ticks\":\"\"}}}],\"bar\":[{\"error_x\":{\"color\":\"#2a3f5f\"},\"error_y\":{\"color\":\"#2a3f5f\"},\"marker\":{\"line\":{\"color\":\"#E5ECF6\",\"width\":0.5},\"pattern\":{\"fillmode\":\"overlay\",\"size\":10,\"solidity\":0.2}},\"type\":\"bar\"}],\"scattergeo\":[{\"type\":\"scattergeo\",\"marker\":{\"colorbar\":{\"outlinewidth\":0,\"ticks\":\"\"}}}],\"scatterpolar\":[{\"type\":\"scatterpolar\",\"marker\":{\"colorbar\":{\"outlinewidth\":0,\"ticks\":\"\"}}}],\"histogram\":[{\"marker\":{\"pattern\":{\"fillmode\":\"overlay\",\"size\":10,\"solidity\":0.2}},\"type\":\"histogram\"}],\"scattergl\":[{\"type\":\"scattergl\",\"marker\":{\"colorbar\":{\"outlinewidth\":0,\"ticks\":\"\"}}}],\"scatter3d\":[{\"type\":\"scatter3d\",\"line\":{\"colorbar\":{\"outlinewidth\":0,\"ticks\":\"\"}},\"marker\":{\"colorbar\":{\"outlinewidth\":0,\"ticks\":\"\"}}}],\"scattermapbox\":[{\"type\":\"scattermapbox\",\"marker\":{\"colorbar\":{\"outlinewidth\":0,\"ticks\":\"\"}}}],\"scatterternary\":[{\"type\":\"scatterternary\",\"marker\":{\"colorbar\":{\"outlinewidth\":0,\"ticks\":\"\"}}}],\"scattercarpet\":[{\"type\":\"scattercarpet\",\"marker\":{\"colorbar\":{\"outlinewidth\":0,\"ticks\":\"\"}}}],\"carpet\":[{\"aaxis\":{\"endlinecolor\":\"#2a3f5f\",\"gridcolor\":\"white\",\"linecolor\":\"white\",\"minorgridcolor\":\"white\",\"startlinecolor\":\"#2a3f5f\"},\"baxis\":{\"endlinecolor\":\"#2a3f5f\",\"gridcolor\":\"white\",\"linecolor\":\"white\",\"minorgridcolor\":\"white\",\"startlinecolor\":\"#2a3f5f\"},\"type\":\"carpet\"}],\"table\":[{\"cells\":{\"fill\":{\"color\":\"#EBF0F8\"},\"line\":{\"color\":\"white\"}},\"header\":{\"fill\":{\"color\":\"#C8D4E3\"},\"line\":{\"color\":\"white\"}},\"type\":\"table\"}],\"barpolar\":[{\"marker\":{\"line\":{\"color\":\"#E5ECF6\",\"width\":0.5},\"pattern\":{\"fillmode\":\"overlay\",\"size\":10,\"solidity\":0.2}},\"type\":\"barpolar\"}],\"pie\":[{\"automargin\":true,\"type\":\"pie\"}]},\"layout\":{\"autotypenumbers\":\"strict\",\"colorway\":[\"#636efa\",\"#EF553B\",\"#00cc96\",\"#ab63fa\",\"#FFA15A\",\"#19d3f3\",\"#FF6692\",\"#B6E880\",\"#FF97FF\",\"#FECB52\"],\"font\":{\"color\":\"#2a3f5f\"},\"hovermode\":\"closest\",\"hoverlabel\":{\"align\":\"left\"},\"paper_bgcolor\":\"white\",\"plot_bgcolor\":\"#E5ECF6\",\"polar\":{\"bgcolor\":\"#E5ECF6\",\"angularaxis\":{\"gridcolor\":\"white\",\"linecolor\":\"white\",\"ticks\":\"\"},\"radialaxis\":{\"gridcolor\":\"white\",\"linecolor\":\"white\",\"ticks\":\"\"}},\"ternary\":{\"bgcolor\":\"#E5ECF6\",\"aaxis\":{\"gridcolor\":\"white\",\"linecolor\":\"white\",\"ticks\":\"\"},\"baxis\":{\"gridcolor\":\"white\",\"linecolor\":\"white\",\"ticks\":\"\"},\"caxis\":{\"gridcolor\":\"white\",\"linecolor\":\"white\",\"ticks\":\"\"}},\"coloraxis\":{\"colorbar\":{\"outlinewidth\":0,\"ticks\":\"\"}},\"colorscale\":{\"sequential\":[[0.0,\"#0d0887\"],[0.1111111111111111,\"#46039f\"],[0.2222222222222222,\"#7201a8\"],[0.3333333333333333,\"#9c179e\"],[0.4444444444444444,\"#bd3786\"],[0.5555555555555556,\"#d8576b\"],[0.6666666666666666,\"#ed7953\"],[0.7777777777777778,\"#fb9f3a\"],[0.8888888888888888,\"#fdca26\"],[1.0,\"#f0f921\"]],\"sequentialminus\":[[0.0,\"#0d0887\"],[0.1111111111111111,\"#46039f\"],[0.2222222222222222,\"#7201a8\"],[0.3333333333333333,\"#9c179e\"],[0.4444444444444444,\"#bd3786\"],[0.5555555555555556,\"#d8576b\"],[0.6666666666666666,\"#ed7953\"],[0.7777777777777778,\"#fb9f3a\"],[0.8888888888888888,\"#fdca26\"],[1.0,\"#f0f921\"]],\"diverging\":[[0,\"#8e0152\"],[0.1,\"#c51b7d\"],[0.2,\"#de77ae\"],[0.3,\"#f1b6da\"],[0.4,\"#fde0ef\"],[0.5,\"#f7f7f7\"],[0.6,\"#e6f5d0\"],[0.7,\"#b8e186\"],[0.8,\"#7fbc41\"],[0.9,\"#4d9221\"],[1,\"#276419\"]]},\"xaxis\":{\"gridcolor\":\"white\",\"linecolor\":\"white\",\"ticks\":\"\",\"title\":{\"standoff\":15},\"zerolinecolor\":\"white\",\"automargin\":true,\"zerolinewidth\":2},\"yaxis\":{\"gridcolor\":\"white\",\"linecolor\":\"white\",\"ticks\":\"\",\"title\":{\"standoff\":15},\"zerolinecolor\":\"white\",\"automargin\":true,\"zerolinewidth\":2},\"scene\":{\"xaxis\":{\"backgroundcolor\":\"#E5ECF6\",\"gridcolor\":\"white\",\"linecolor\":\"white\",\"showbackground\":true,\"ticks\":\"\",\"zerolinecolor\":\"white\",\"gridwidth\":2},\"yaxis\":{\"backgroundcolor\":\"#E5ECF6\",\"gridcolor\":\"white\",\"linecolor\":\"white\",\"showbackground\":true,\"ticks\":\"\",\"zerolinecolor\":\"white\",\"gridwidth\":2},\"zaxis\":{\"backgroundcolor\":\"#E5ECF6\",\"gridcolor\":\"white\",\"linecolor\":\"white\",\"showbackground\":true,\"ticks\":\"\",\"zerolinecolor\":\"white\",\"gridwidth\":2}},\"shapedefaults\":{\"line\":{\"color\":\"#2a3f5f\"}},\"annotationdefaults\":{\"arrowcolor\":\"#2a3f5f\",\"arrowhead\":0,\"arrowwidth\":1},\"geo\":{\"bgcolor\":\"white\",\"landcolor\":\"#E5ECF6\",\"subunitcolor\":\"white\",\"showland\":true,\"showlakes\":true,\"lakecolor\":\"white\"},\"title\":{\"x\":0.05},\"mapbox\":{\"style\":\"light\"}}},\"xaxis\":{\"anchor\":\"y\",\"domain\":[0.0,1.0],\"title\":{\"text\":\"x\"}},\"yaxis\":{\"anchor\":\"x\",\"domain\":[0.0,1.0],\"title\":{\"text\":\"y\"}},\"legend\":{\"title\":{\"text\":\"color\"},\"tracegroupgap\":0},\"margin\":{\"t\":60}},                        {\"responsive\": true}                    ).then(function(){\n",
       "                            \n",
       "var gd = document.getElementById('01aaddc2-8af1-4429-9fb4-ac866a9a6e12');\n",
       "var x = new MutationObserver(function (mutations, observer) {{\n",
       "        var display = window.getComputedStyle(gd).display;\n",
       "        if (!display || display === 'none') {{\n",
       "            console.log([gd, 'removed!']);\n",
       "            Plotly.purge(gd);\n",
       "            observer.disconnect();\n",
       "        }}\n",
       "}});\n",
       "\n",
       "// Listen for the removal of the full notebook cells\n",
       "var notebookContainer = gd.closest('#notebook-container');\n",
       "if (notebookContainer) {{\n",
       "    x.observe(notebookContainer, {childList: true});\n",
       "}}\n",
       "\n",
       "// Listen for the clearing of the current output cell\n",
       "var outputEl = gd.closest('.output');\n",
       "if (outputEl) {{\n",
       "    x.observe(outputEl, {childList: true});\n",
       "}}\n",
       "\n",
       "                        })                };                });            </script>        </div>"
      ]
     },
     "metadata": {},
     "output_type": "display_data"
    }
   ],
   "source": [
    "fig = px.scatter( x=Y[:,0], y=Y[:,1] , color=df['Species'])\n",
    "fig.show()"
   ]
  },
  {
   "cell_type": "markdown",
   "id": "1b23e3bc",
   "metadata": {},
   "source": [
    "### Conclusion\n",
    "The goal was to create a model to separate the species from each other using unsupervised learning. I used K-means and hierarchical clustering to look for clusters and be able to separate the species. However, it turned out that it was very hard to cluster the species. The coordinate data is not sufficient enough to describe the difference between the species.\n",
    "\n",
    "A future direction could be:\n",
    "- including gene expression data to separate species.\n",
    "- create a unsupervised model that only predicts a subset of the species."
   ]
  }
 ],
 "metadata": {
  "kernelspec": {
   "display_name": "Python 3 (ipykernel)",
   "language": "python",
   "name": "python3"
  },
  "language_info": {
   "codemirror_mode": {
    "name": "ipython",
    "version": 3
   },
   "file_extension": ".py",
   "mimetype": "text/x-python",
   "name": "python",
   "nbconvert_exporter": "python",
   "pygments_lexer": "ipython3",
   "version": "3.9.7"
  }
 },
 "nbformat": 4,
 "nbformat_minor": 5
}
